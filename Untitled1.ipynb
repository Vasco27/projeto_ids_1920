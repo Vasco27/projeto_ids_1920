{
 "cells": [
  {
   "cell_type": "code",
   "execution_count": 1,
   "metadata": {},
   "outputs": [
    {
     "name": "stdout",
     "output_type": "stream",
     "text": [
      "(100836, 3)\n",
      "(9742, 2)\n",
      "(100836, 4)\n",
      "Users: 610\n",
      "Movies: 9724\n"
     ]
    },
    {
     "data": {
      "text/plain": [
       "(610, 9724)"
      ]
     },
     "execution_count": 1,
     "metadata": {},
     "output_type": "execute_result"
    }
   ],
   "source": [
    "import random\n",
    "import pandas as pd\n",
    "import numpy as np\n",
    "\n",
    "import scipy.sparse as sparse\n",
    "from scipy.sparse.linalg import spsolve\n",
    "from sklearn.preprocessing import MinMaxScaler\n",
    "\n",
    "#-------------------------\n",
    "# LOAD AND PREP THE DATA\n",
    "#-------------------------\n",
    " \n",
    "ratings = pd.read_csv(\"datasets/100k/ratings.csv\")\n",
    "ratings.dropna(inplace = True)\n",
    "ratings.drop(columns = \"timestamp\", inplace = True)\n",
    "print(ratings.shape)\n",
    " \n",
    "movies = pd.read_csv(\"datasets/100k/movies.csv\")\n",
    "movies.dropna(inplace = True)\n",
    "movies.drop(columns = \"genres\", inplace = True)\n",
    "print(movies.shape)\n",
    "\n",
    "data = ratings.join(movies.set_index(\"movieId\"), on = \"movieId\")\n",
    "print(data.shape)\n",
    "print(\"Users:\", data.userId.unique().size)\n",
    "print(\"Movies:\", data.movieId.unique().size)\n",
    "\n",
    "\n",
    "# Convert movie and users into numerical IDs\n",
    "data['user_id'] = data.userId.astype(\"category\").cat.codes\n",
    "data['movie_id'] = data.movieId.astype(\"category\").cat.codes\n",
    " \n",
    "# Create a lookup frame so we can get the movie titles back in \n",
    "# readable form later.\n",
    "item_lookup = data[['movie_id', 'title']].drop_duplicates()\n",
    "item_lookup['movie_id'] = item_lookup.movie_id.astype(str)\n",
    " \n",
    "data = data.drop(['userId', 'movieId'], axis=1)\n",
    " \n",
    "# Drop any rows that have rating 0\n",
    "data = data.loc[data.rating != 0]\n",
    " \n",
    "# Create lists of all users, artists and plays\n",
    "users = list(np.sort(data.user_id.unique()))\n",
    "movies = list(np.sort(data.movie_id.unique()))\n",
    "ratings = list(data.rating)\n",
    " \n",
    "# Get the rows and columns for our new matrix\n",
    "rows = data.user_id.astype(int)\n",
    "cols = data.movie_id.astype(int)\n",
    " \n",
    "# Contruct a sparse matrix for our users and items containing number of plays\n",
    "data_sparse = sparse.csr_matrix((ratings, (rows, cols)), shape=(len(users), len(movies)))\n",
    "data_sparse.shape"
   ]
  },
  {
   "cell_type": "code",
   "execution_count": 2,
   "metadata": {},
   "outputs": [
    {
     "data": {
      "text/plain": [
       "<als_recommender.ALSRecommender at 0x218df07ab48>"
      ]
     },
     "execution_count": 2,
     "metadata": {},
     "output_type": "execute_result"
    }
   ],
   "source": [
    "import als_recommender as als\n",
    "\n",
    "model = als.ALSRecommender(iterations = 10, latent = 10, alpha_val = 40, regularizer = 0.1)\n",
    "model"
   ]
  },
  {
   "cell_type": "code",
   "execution_count": 3,
   "metadata": {},
   "outputs": [
    {
     "name": "stdout",
     "output_type": "stream",
     "text": [
      "iteration 1 of 10\n",
      "iteration 2 of 10\n",
      "iteration 3 of 10\n",
      "iteration 4 of 10\n",
      "iteration 5 of 10\n",
      "iteration 6 of 10\n",
      "iteration 7 of 10\n",
      "iteration 8 of 10\n",
      "iteration 9 of 10\n",
      "iteration 10 of 10\n"
     ]
    },
    {
     "data": {
      "text/plain": [
       "(<610x10 sparse matrix of type '<class 'numpy.float64'>'\n",
       " \twith 6100 stored elements in Compressed Sparse Row format>,\n",
       " <9724x10 sparse matrix of type '<class 'numpy.float64'>'\n",
       " \twith 97240 stored elements in Compressed Sparse Row format>)"
      ]
     },
     "execution_count": 3,
     "metadata": {},
     "output_type": "execute_result"
    }
   ],
   "source": [
    "model.fit(data_sparse)"
   ]
  },
  {
   "cell_type": "code",
   "execution_count": 4,
   "metadata": {},
   "outputs": [
    {
     "data": {
      "text/html": [
       "<div>\n",
       "<style scoped>\n",
       "    .dataframe tbody tr th:only-of-type {\n",
       "        vertical-align: middle;\n",
       "    }\n",
       "\n",
       "    .dataframe tbody tr th {\n",
       "        vertical-align: top;\n",
       "    }\n",
       "\n",
       "    .dataframe thead th {\n",
       "        text-align: right;\n",
       "    }\n",
       "</style>\n",
       "<table border=\"1\" class=\"dataframe\">\n",
       "  <thead>\n",
       "    <tr style=\"text-align: right;\">\n",
       "      <th></th>\n",
       "      <th>movie</th>\n",
       "      <th>score</th>\n",
       "    </tr>\n",
       "  </thead>\n",
       "  <tbody>\n",
       "    <tr>\n",
       "      <td>0</td>\n",
       "      <td>Specialist, The (1994)</td>\n",
       "      <td>1.000000</td>\n",
       "    </tr>\n",
       "    <tr>\n",
       "      <td>1</td>\n",
       "      <td>Eraser (1996)</td>\n",
       "      <td>0.968935</td>\n",
       "    </tr>\n",
       "    <tr>\n",
       "      <td>2</td>\n",
       "      <td>Showgirls (1995)</td>\n",
       "      <td>0.967016</td>\n",
       "    </tr>\n",
       "    <tr>\n",
       "      <td>3</td>\n",
       "      <td>Judge Dredd (1995)</td>\n",
       "      <td>0.963066</td>\n",
       "    </tr>\n",
       "    <tr>\n",
       "      <td>4</td>\n",
       "      <td>City Slickers II: The Legend of Curly's Gold (...</td>\n",
       "      <td>0.941959</td>\n",
       "    </tr>\n",
       "    <tr>\n",
       "      <td>5</td>\n",
       "      <td>Johnny Mnemonic (1995)</td>\n",
       "      <td>0.931688</td>\n",
       "    </tr>\n",
       "    <tr>\n",
       "      <td>6</td>\n",
       "      <td>Bronx Tale, A (1993)</td>\n",
       "      <td>0.929558</td>\n",
       "    </tr>\n",
       "    <tr>\n",
       "      <td>7</td>\n",
       "      <td>Bad Boys (1995)</td>\n",
       "      <td>0.927899</td>\n",
       "    </tr>\n",
       "    <tr>\n",
       "      <td>8</td>\n",
       "      <td>Demolition Man (1993)</td>\n",
       "      <td>0.927359</td>\n",
       "    </tr>\n",
       "    <tr>\n",
       "      <td>9</td>\n",
       "      <td>Congo (1995)</td>\n",
       "      <td>0.920243</td>\n",
       "    </tr>\n",
       "  </tbody>\n",
       "</table>\n",
       "</div>"
      ],
      "text/plain": [
       "                                               movie     score\n",
       "0                             Specialist, The (1994)  1.000000\n",
       "1                                      Eraser (1996)  0.968935\n",
       "2                                   Showgirls (1995)  0.967016\n",
       "3                                 Judge Dredd (1995)  0.963066\n",
       "4  City Slickers II: The Legend of Curly's Gold (...  0.941959\n",
       "5                             Johnny Mnemonic (1995)  0.931688\n",
       "6                               Bronx Tale, A (1993)  0.929558\n",
       "7                                    Bad Boys (1995)  0.927899\n",
       "8                              Demolition Man (1993)  0.927359\n",
       "9                                       Congo (1995)  0.920243"
      ]
     },
     "execution_count": 4,
     "metadata": {},
     "output_type": "execute_result"
    }
   ],
   "source": [
    "model.recommend(10, data_sparse, item_lookup, 10)"
   ]
  },
  {
   "cell_type": "markdown",
   "metadata": {},
   "source": [
    "## Making a Grid search:"
   ]
  },
  {
   "cell_type": "code",
   "execution_count": 5,
   "metadata": {},
   "outputs": [],
   "source": [
    "import implicit\n",
    "from implicit.evaluation import train_test_split, precision_at_k, mean_average_precision_at_k, AUC_at_k, ndcg_at_k\n",
    "from sklearn.model_selection import GridSearchCV\n",
    "\n",
    "param_grid = [\n",
    "    {\n",
    "        \"iterations\": [5, 10, 20, 30],\n",
    "        \"latent\": [5, 10, 20, 30],\n",
    "        \"alpha_val\": [15, 25, 40],\n",
    "        \"regularizer\": [0.1, 0.01, 0.001],\n",
    "    }\n",
    "]"
   ]
  },
  {
   "cell_type": "code",
   "execution_count": null,
   "metadata": {},
   "outputs": [],
   "source": [
    "print(\"best parameters:\\n\")\n",
    "print(als_gridmodel.best_params_)"
   ]
  }
 ],
 "metadata": {
  "kernelspec": {
   "display_name": "Python 3",
   "language": "python",
   "name": "python3"
  },
  "language_info": {
   "codemirror_mode": {
    "name": "ipython",
    "version": 3
   },
   "file_extension": ".py",
   "mimetype": "text/x-python",
   "name": "python",
   "nbconvert_exporter": "python",
   "pygments_lexer": "ipython3",
   "version": "3.7.4"
  }
 },
 "nbformat": 4,
 "nbformat_minor": 4
}
