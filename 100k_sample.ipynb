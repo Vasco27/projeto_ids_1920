{
 "cells": [
  {
   "cell_type": "code",
   "execution_count": 80,
   "metadata": {},
   "outputs": [],
   "source": [
    "import pandas as pd\n",
    "import numpy as np\n",
    "import scipy.sparse as sparse\n",
    "from scipy.sparse.linalg import spsolve\n",
    "import implicit\n",
    "#from sklearn.utils import validation as skval\n",
    "from implicit.evaluation import precision_at_k, mean_average_precision_at_k, AUC_at_k, ndcg_at_k#, train_test_split\n",
    "#from sklearn.model_selection import train_test_split\n",
    "\n",
    "\n",
    "def make_sparse_matrix(df):\n",
    "    # Convert movie and users into numerical IDs\n",
    "    df['user_id'] = df.userId.astype(\"category\").cat.codes\n",
    "    df['movie_id'] = df.movieId.astype(\"category\").cat.codes\n",
    "\n",
    "    # Create a lookup frame so we can get the movie titles back in \n",
    "    # readable form later.\n",
    "    item_lookup = df[['movie_id', 'title']].drop_duplicates()\n",
    "    item_lookup['movie_id'] = item_lookup.movie_id.astype(str)\n",
    "\n",
    "    df = df.drop(['userId', 'movieId'], axis=1)\n",
    "\n",
    "    # Drop any rows that have rating 0\n",
    "    df = df.loc[df.rating != 0]\n",
    "\n",
    "    # Create lists of all users, artists and plays\n",
    "    users = list(np.sort(df.user_id.unique()))\n",
    "    movies = list(np.sort(df.movie_id.unique()))\n",
    "    ratings = list(df.rating)\n",
    "\n",
    "    # Get the rows and columns for our new matrix\n",
    "    rows = df.user_id.astype(int)\n",
    "    cols = df.movie_id.astype(int)\n",
    "\n",
    "    # Contruct a sparse matrix for our users and items containing number of plays\n",
    "    user_item = sparse.csr_matrix((ratings, (rows, cols)), shape=(len(users), len(movies)))\n",
    "    item_user = sparse.csr_matrix((ratings, (cols, rows)), shape=(len(movies), len(users)))\n",
    "    return user_item, item_user"
   ]
  },
  {
   "cell_type": "code",
   "execution_count": 81,
   "metadata": {},
   "outputs": [
    {
     "name": "stdout",
     "output_type": "stream",
     "text": [
      "(100836, 3)\n"
     ]
    },
    {
     "data": {
      "text/html": [
       "<div>\n",
       "<style scoped>\n",
       "    .dataframe tbody tr th:only-of-type {\n",
       "        vertical-align: middle;\n",
       "    }\n",
       "\n",
       "    .dataframe tbody tr th {\n",
       "        vertical-align: top;\n",
       "    }\n",
       "\n",
       "    .dataframe thead th {\n",
       "        text-align: right;\n",
       "    }\n",
       "</style>\n",
       "<table border=\"1\" class=\"dataframe\">\n",
       "  <thead>\n",
       "    <tr style=\"text-align: right;\">\n",
       "      <th></th>\n",
       "      <th>userId</th>\n",
       "      <th>movieId</th>\n",
       "      <th>rating</th>\n",
       "    </tr>\n",
       "  </thead>\n",
       "  <tbody>\n",
       "    <tr>\n",
       "      <td>0</td>\n",
       "      <td>1</td>\n",
       "      <td>1</td>\n",
       "      <td>4.0</td>\n",
       "    </tr>\n",
       "    <tr>\n",
       "      <td>1</td>\n",
       "      <td>1</td>\n",
       "      <td>3</td>\n",
       "      <td>4.0</td>\n",
       "    </tr>\n",
       "    <tr>\n",
       "      <td>2</td>\n",
       "      <td>1</td>\n",
       "      <td>6</td>\n",
       "      <td>4.0</td>\n",
       "    </tr>\n",
       "    <tr>\n",
       "      <td>3</td>\n",
       "      <td>1</td>\n",
       "      <td>47</td>\n",
       "      <td>5.0</td>\n",
       "    </tr>\n",
       "    <tr>\n",
       "      <td>4</td>\n",
       "      <td>1</td>\n",
       "      <td>50</td>\n",
       "      <td>5.0</td>\n",
       "    </tr>\n",
       "  </tbody>\n",
       "</table>\n",
       "</div>"
      ],
      "text/plain": [
       "   userId  movieId  rating\n",
       "0       1        1     4.0\n",
       "1       1        3     4.0\n",
       "2       1        6     4.0\n",
       "3       1       47     5.0\n",
       "4       1       50     5.0"
      ]
     },
     "execution_count": 81,
     "metadata": {},
     "output_type": "execute_result"
    }
   ],
   "source": [
    "ratings = pd.read_csv(\"datasets/100k/ratings.csv\")\n",
    "ratings.dropna(inplace = True)\n",
    "ratings.drop(columns = \"timestamp\", inplace = True)\n",
    "print(ratings.shape)\n",
    "ratings.head()"
   ]
  },
  {
   "cell_type": "code",
   "execution_count": 82,
   "metadata": {},
   "outputs": [
    {
     "name": "stdout",
     "output_type": "stream",
     "text": [
      "(9742, 2)\n"
     ]
    },
    {
     "data": {
      "text/html": [
       "<div>\n",
       "<style scoped>\n",
       "    .dataframe tbody tr th:only-of-type {\n",
       "        vertical-align: middle;\n",
       "    }\n",
       "\n",
       "    .dataframe tbody tr th {\n",
       "        vertical-align: top;\n",
       "    }\n",
       "\n",
       "    .dataframe thead th {\n",
       "        text-align: right;\n",
       "    }\n",
       "</style>\n",
       "<table border=\"1\" class=\"dataframe\">\n",
       "  <thead>\n",
       "    <tr style=\"text-align: right;\">\n",
       "      <th></th>\n",
       "      <th>movieId</th>\n",
       "      <th>title</th>\n",
       "    </tr>\n",
       "  </thead>\n",
       "  <tbody>\n",
       "    <tr>\n",
       "      <td>0</td>\n",
       "      <td>1</td>\n",
       "      <td>Toy Story (1995)</td>\n",
       "    </tr>\n",
       "    <tr>\n",
       "      <td>1</td>\n",
       "      <td>2</td>\n",
       "      <td>Jumanji (1995)</td>\n",
       "    </tr>\n",
       "    <tr>\n",
       "      <td>2</td>\n",
       "      <td>3</td>\n",
       "      <td>Grumpier Old Men (1995)</td>\n",
       "    </tr>\n",
       "    <tr>\n",
       "      <td>3</td>\n",
       "      <td>4</td>\n",
       "      <td>Waiting to Exhale (1995)</td>\n",
       "    </tr>\n",
       "    <tr>\n",
       "      <td>4</td>\n",
       "      <td>5</td>\n",
       "      <td>Father of the Bride Part II (1995)</td>\n",
       "    </tr>\n",
       "  </tbody>\n",
       "</table>\n",
       "</div>"
      ],
      "text/plain": [
       "   movieId                               title\n",
       "0        1                    Toy Story (1995)\n",
       "1        2                      Jumanji (1995)\n",
       "2        3             Grumpier Old Men (1995)\n",
       "3        4            Waiting to Exhale (1995)\n",
       "4        5  Father of the Bride Part II (1995)"
      ]
     },
     "execution_count": 82,
     "metadata": {},
     "output_type": "execute_result"
    }
   ],
   "source": [
    "movies = pd.read_csv(\"datasets/100k/movies.csv\")\n",
    "movies.dropna(inplace = True)\n",
    "movies.drop(columns = \"genres\", inplace = True)\n",
    "print(movies.shape)\n",
    "movies.head()"
   ]
  },
  {
   "cell_type": "code",
   "execution_count": 83,
   "metadata": {},
   "outputs": [
    {
     "name": "stdout",
     "output_type": "stream",
     "text": [
      "(100836, 4)\n",
      "Users: 610\n",
      "Movies: 9724\n",
      "(100836, 4)\n"
     ]
    }
   ],
   "source": [
    "movie_ratings = ratings.join(movies.set_index(\"movieId\"), on = \"movieId\")\n",
    "print(movie_ratings.shape)\n",
    "print(\"Users:\", movie_ratings.userId.unique().size)\n",
    "print(\"Movies:\", movie_ratings.movieId.unique().size)\n",
    "print(movie_ratings.drop_duplicates().shape)\n",
    "movie_ratings.head()\n",
    "data = movie_ratings.copy()"
   ]
  },
  {
   "cell_type": "code",
   "execution_count": 84,
   "metadata": {},
   "outputs": [
    {
     "name": "stdout",
     "output_type": "stream",
     "text": [
      "(610, 9724) (9724, 610)\n"
     ]
    }
   ],
   "source": [
    "user_movie_matrix, movie_user_matrix = make_sparse_matrix(movie_ratings)\n",
    "print(user_movie_matrix.shape, movie_user_matrix.shape)"
   ]
  },
  {
   "cell_type": "markdown",
   "metadata": {},
   "source": [
    "## Apply baseline predictors to ratings:"
   ]
  },
  {
   "cell_type": "code",
   "execution_count": 85,
   "metadata": {},
   "outputs": [
    {
     "data": {
      "text/html": [
       "<div>\n",
       "<style scoped>\n",
       "    .dataframe tbody tr th:only-of-type {\n",
       "        vertical-align: middle;\n",
       "    }\n",
       "\n",
       "    .dataframe tbody tr th {\n",
       "        vertical-align: top;\n",
       "    }\n",
       "\n",
       "    .dataframe thead th {\n",
       "        text-align: right;\n",
       "    }\n",
       "</style>\n",
       "<table border=\"1\" class=\"dataframe\">\n",
       "  <thead>\n",
       "    <tr style=\"text-align: right;\">\n",
       "      <th></th>\n",
       "      <th>userId</th>\n",
       "      <th>movieId</th>\n",
       "      <th>title</th>\n",
       "      <th>rating</th>\n",
       "    </tr>\n",
       "  </thead>\n",
       "  <tbody>\n",
       "    <tr>\n",
       "      <td>0</td>\n",
       "      <td>1</td>\n",
       "      <td>1</td>\n",
       "      <td>Toy Story (1995)</td>\n",
       "      <td>5.089208</td>\n",
       "    </tr>\n",
       "    <tr>\n",
       "      <td>1</td>\n",
       "      <td>1</td>\n",
       "      <td>3</td>\n",
       "      <td>Grumpier Old Men (1995)</td>\n",
       "      <td>4.637278</td>\n",
       "    </tr>\n",
       "    <tr>\n",
       "      <td>2</td>\n",
       "      <td>1</td>\n",
       "      <td>6</td>\n",
       "      <td>Heat (1995)</td>\n",
       "      <td>5.099497</td>\n",
       "    </tr>\n",
       "    <tr>\n",
       "      <td>3</td>\n",
       "      <td>1</td>\n",
       "      <td>47</td>\n",
       "      <td>Seven (a.k.a. Se7en) (1995)</td>\n",
       "      <td>6.150616</td>\n",
       "    </tr>\n",
       "    <tr>\n",
       "      <td>4</td>\n",
       "      <td>1</td>\n",
       "      <td>50</td>\n",
       "      <td>Usual Suspects, The (1995)</td>\n",
       "      <td>6.360803</td>\n",
       "    </tr>\n",
       "  </tbody>\n",
       "</table>\n",
       "</div>"
      ],
      "text/plain": [
       "   userId  movieId                        title    rating\n",
       "0       1        1             Toy Story (1995)  5.089208\n",
       "1       1        3      Grumpier Old Men (1995)  4.637278\n",
       "2       1        6                  Heat (1995)  5.099497\n",
       "3       1       47  Seven (a.k.a. Se7en) (1995)  6.150616\n",
       "4       1       50   Usual Suspects, The (1995)  6.360803"
      ]
     },
     "execution_count": 85,
     "metadata": {},
     "output_type": "execute_result"
    }
   ],
   "source": [
    "import baseline as base\n",
    "baseline_df = base.make_baseline(data, damping_factor = 25).get_ratings()\n",
    "baseline_df.drop(columns = [\"rating\", \"bi\", \"bu\"], inplace = True)\n",
    "baseline_df.rename(columns = {\"bui\": \"rating\"}, inplace = True)\n",
    "baseline_df.head()"
   ]
  },
  {
   "cell_type": "markdown",
   "metadata": {},
   "source": [
    "## Using the implicit library:"
   ]
  },
  {
   "cell_type": "code",
   "execution_count": 86,
   "metadata": {},
   "outputs": [
    {
     "data": {
      "application/vnd.jupyter.widget-view+json": {
       "model_id": "b64f2f3891654df38cb89b7ac74d93c1",
       "version_major": 2,
       "version_minor": 0
      },
      "text/plain": [
       "HBox(children=(FloatProgress(value=0.0, max=10.0), HTML(value='')))"
      ]
     },
     "metadata": {},
     "output_type": "display_data"
    },
    {
     "name": "stdout",
     "output_type": "stream",
     "text": [
      "\n"
     ]
    }
   ],
   "source": [
    "als_model = implicit.als.AlternatingLeastSquares(factors=10, regularization=0.1, iterations=10)\n",
    "confidence = (movie_user_matrix * 40).astype(\"double\")\n",
    "als_model.fit(confidence)"
   ]
  },
  {
   "cell_type": "code",
   "execution_count": 87,
   "metadata": {},
   "outputs": [
    {
     "data": {
      "text/html": [
       "<div>\n",
       "<style scoped>\n",
       "    .dataframe tbody tr th:only-of-type {\n",
       "        vertical-align: middle;\n",
       "    }\n",
       "\n",
       "    .dataframe tbody tr th {\n",
       "        vertical-align: top;\n",
       "    }\n",
       "\n",
       "    .dataframe thead th {\n",
       "        text-align: right;\n",
       "    }\n",
       "</style>\n",
       "<table border=\"1\" class=\"dataframe\">\n",
       "  <thead>\n",
       "    <tr style=\"text-align: right;\">\n",
       "      <th></th>\n",
       "      <th>movie_title</th>\n",
       "      <th>similarity</th>\n",
       "    </tr>\n",
       "  </thead>\n",
       "  <tbody>\n",
       "    <tr>\n",
       "      <td>0</td>\n",
       "      <td>Toy Story (1995)</td>\n",
       "      <td>0.048282</td>\n",
       "    </tr>\n",
       "    <tr>\n",
       "      <td>1</td>\n",
       "      <td>Aladdin (1992)</td>\n",
       "      <td>0.048146</td>\n",
       "    </tr>\n",
       "    <tr>\n",
       "      <td>2</td>\n",
       "      <td>Apollo 13 (1995)</td>\n",
       "      <td>0.048031</td>\n",
       "    </tr>\n",
       "    <tr>\n",
       "      <td>3</td>\n",
       "      <td>Lion King, The (1994)</td>\n",
       "      <td>0.048010</td>\n",
       "    </tr>\n",
       "    <tr>\n",
       "      <td>4</td>\n",
       "      <td>Forrest Gump (1994)</td>\n",
       "      <td>0.047963</td>\n",
       "    </tr>\n",
       "    <tr>\n",
       "      <td>5</td>\n",
       "      <td>Terminator 2: Judgment Day (1991)</td>\n",
       "      <td>0.047942</td>\n",
       "    </tr>\n",
       "    <tr>\n",
       "      <td>6</td>\n",
       "      <td>Jurassic Park (1993)</td>\n",
       "      <td>0.047931</td>\n",
       "    </tr>\n",
       "    <tr>\n",
       "      <td>7</td>\n",
       "      <td>Star Wars: Episode IV - A New Hope (1977)</td>\n",
       "      <td>0.047931</td>\n",
       "    </tr>\n",
       "    <tr>\n",
       "      <td>8</td>\n",
       "      <td>Fugitive, The (1993)</td>\n",
       "      <td>0.047817</td>\n",
       "    </tr>\n",
       "    <tr>\n",
       "      <td>9</td>\n",
       "      <td>Dances with Wolves (1990)</td>\n",
       "      <td>0.047788</td>\n",
       "    </tr>\n",
       "  </tbody>\n",
       "</table>\n",
       "</div>"
      ],
      "text/plain": [
       "                                 movie_title  similarity\n",
       "0                           Toy Story (1995)    0.048282\n",
       "1                             Aladdin (1992)    0.048146\n",
       "2                           Apollo 13 (1995)    0.048031\n",
       "3                      Lion King, The (1994)    0.048010\n",
       "4                        Forrest Gump (1994)    0.047963\n",
       "5          Terminator 2: Judgment Day (1991)    0.047942\n",
       "6                       Jurassic Park (1993)    0.047931\n",
       "7  Star Wars: Episode IV - A New Hope (1977)    0.047931\n",
       "8                       Fugitive, The (1993)    0.047817\n",
       "9                  Dances with Wolves (1990)    0.047788"
      ]
     },
     "execution_count": 87,
     "metadata": {},
     "output_type": "execute_result"
    }
   ],
   "source": [
    "similar = als_model.similar_items(0, 10)\n",
    "\n",
    "movies = []\n",
    "scores = []\n",
    "for i in similar:\n",
    "    idx, score = i\n",
    "    movies.append(item_lookup.loc[item_lookup.movie_id == str(idx)].title.iloc[0])\n",
    "    scores.append(score)\n",
    "\n",
    "pd.DataFrame({\"movie_title\": movies, \"similarity\": scores})"
   ]
  },
  {
   "cell_type": "code",
   "execution_count": 88,
   "metadata": {},
   "outputs": [
    {
     "data": {
      "text/html": [
       "<div>\n",
       "<style scoped>\n",
       "    .dataframe tbody tr th:only-of-type {\n",
       "        vertical-align: middle;\n",
       "    }\n",
       "\n",
       "    .dataframe tbody tr th {\n",
       "        vertical-align: top;\n",
       "    }\n",
       "\n",
       "    .dataframe thead th {\n",
       "        text-align: right;\n",
       "    }\n",
       "</style>\n",
       "<table border=\"1\" class=\"dataframe\">\n",
       "  <thead>\n",
       "    <tr style=\"text-align: right;\">\n",
       "      <th></th>\n",
       "      <th>movie_title</th>\n",
       "      <th>similarity</th>\n",
       "    </tr>\n",
       "  </thead>\n",
       "  <tbody>\n",
       "    <tr>\n",
       "      <td>0</td>\n",
       "      <td>Twelve Monkeys (a.k.a. 12 Monkeys) (1995)</td>\n",
       "      <td>1.111498</td>\n",
       "    </tr>\n",
       "    <tr>\n",
       "      <td>1</td>\n",
       "      <td>Heavy Metal (1981)</td>\n",
       "      <td>1.107557</td>\n",
       "    </tr>\n",
       "    <tr>\n",
       "      <td>2</td>\n",
       "      <td>Chain Reaction (1996)</td>\n",
       "      <td>1.099048</td>\n",
       "    </tr>\n",
       "    <tr>\n",
       "      <td>3</td>\n",
       "      <td>Black Sheep (1996)</td>\n",
       "      <td>1.093331</td>\n",
       "    </tr>\n",
       "    <tr>\n",
       "      <td>4</td>\n",
       "      <td>Friday (1995)</td>\n",
       "      <td>1.090675</td>\n",
       "    </tr>\n",
       "    <tr>\n",
       "      <td>5</td>\n",
       "      <td>Toy Story (1995)</td>\n",
       "      <td>1.086233</td>\n",
       "    </tr>\n",
       "    <tr>\n",
       "      <td>6</td>\n",
       "      <td>Happy Gilmore (1996)</td>\n",
       "      <td>1.082253</td>\n",
       "    </tr>\n",
       "    <tr>\n",
       "      <td>7</td>\n",
       "      <td>Tommy Boy (1995)</td>\n",
       "      <td>1.081758</td>\n",
       "    </tr>\n",
       "    <tr>\n",
       "      <td>8</td>\n",
       "      <td>Sgt. Bilko (1996)</td>\n",
       "      <td>1.076707</td>\n",
       "    </tr>\n",
       "    <tr>\n",
       "      <td>9</td>\n",
       "      <td>Dumb &amp; Dumber (Dumb and Dumber) (1994)</td>\n",
       "      <td>1.062917</td>\n",
       "    </tr>\n",
       "  </tbody>\n",
       "</table>\n",
       "</div>"
      ],
      "text/plain": [
       "                                 movie_title  similarity\n",
       "0  Twelve Monkeys (a.k.a. 12 Monkeys) (1995)    1.111498\n",
       "1                         Heavy Metal (1981)    1.107557\n",
       "2                      Chain Reaction (1996)    1.099048\n",
       "3                         Black Sheep (1996)    1.093331\n",
       "4                              Friday (1995)    1.090675\n",
       "5                           Toy Story (1995)    1.086233\n",
       "6                       Happy Gilmore (1996)    1.082253\n",
       "7                           Tommy Boy (1995)    1.081758\n",
       "8                          Sgt. Bilko (1996)    1.076707\n",
       "9     Dumb & Dumber (Dumb and Dumber) (1994)    1.062917"
      ]
     },
     "execution_count": 88,
     "metadata": {},
     "output_type": "execute_result"
    }
   ],
   "source": [
    "similar = als_model.recommend(10, user_movie_matrix)\n",
    "\n",
    "movies = []\n",
    "scores = []\n",
    "for i in similar:\n",
    "    idx, score = i\n",
    "    movies.append(item_lookup.loc[item_lookup.movie_id == str(idx)].title.iloc[0])\n",
    "    scores.append(score)\n",
    "    \n",
    "pd.DataFrame({\"movie_title\": movies, \"similarity\": scores})"
   ]
  },
  {
   "cell_type": "markdown",
   "metadata": {},
   "source": [
    "# Evaluation:\n",
    "* Split the data into two set, train and test\n",
    "* Make sure that the train set and test set only have ratings for common movies"
   ]
  },
  {
   "cell_type": "code",
   "execution_count": 112,
   "metadata": {},
   "outputs": [
    {
     "name": "stdout",
     "output_type": "stream",
     "text": [
      "x_train: (80668, 6) \n",
      "x_test: (20168, 6)\n"
     ]
    }
   ],
   "source": [
    "from sklearn.model_selection import train_test_split\n",
    "\n",
    "x_train, x_test = train_test_split(movie_ratings, train_size = 0.8)\n",
    "print(\"x_train:\", x_train.shape, \"\\nx_test:\", x_test.shape)"
   ]
  },
  {
   "cell_type": "code",
   "execution_count": 113,
   "metadata": {},
   "outputs": [
    {
     "name": "stdout",
     "output_type": "stream",
     "text": [
      "x_train: (71406, 6) \n",
      "x_test: (19344, 6)\n",
      "x_train_users: (610,) \n",
      "x_test_users: (610,)\n",
      "x_train_movies: (4376,) \n",
      "x_test_movies: (4376,)\n"
     ]
    }
   ],
   "source": [
    "#Não pode haver users e movies no x_train que depois não existam no x_test\n",
    "x_train = x_train[x_train.movie_id.isin(x_test.movie_id.unique())]\n",
    "x_test = x_test[x_test.movie_id.isin(x_train.movie_id.unique())]\n",
    "x_train = x_train[x_train.user_id.isin(x_test.user_id.unique())]\n",
    "x_test = x_test[x_test.user_id.isin(x_train.user_id.unique())]\n",
    "print(\"x_train:\", x_train.shape, \"\\nx_test:\", x_test.shape)\n",
    "print(\"x_train_users:\", x_train.user_id.unique().shape, \"\\nx_test_users:\", x_test.user_id.unique().shape)\n",
    "print(\"x_train_movies:\", x_train.movie_id.unique().shape, \"\\nx_test_movies:\", x_test.movie_id.unique().shape)"
   ]
  },
  {
   "cell_type": "markdown",
   "metadata": {},
   "source": [
    "#### Train the model:\n",
    "With the train set"
   ]
  },
  {
   "cell_type": "code",
   "execution_count": 114,
   "metadata": {},
   "outputs": [
    {
     "data": {
      "text/plain": [
       "(610, 4376)"
      ]
     },
     "execution_count": 114,
     "metadata": {},
     "output_type": "execute_result"
    }
   ],
   "source": [
    "train_user_movie, train_movie_user = make_sparse_matrix(x_train)\n",
    "train_user_movie.shape"
   ]
  },
  {
   "cell_type": "code",
   "execution_count": 115,
   "metadata": {},
   "outputs": [
    {
     "data": {
      "application/vnd.jupyter.widget-view+json": {
       "model_id": "3b06661346604137b8df4beada5f7893",
       "version_major": 2,
       "version_minor": 0
      },
      "text/plain": [
       "HBox(children=(FloatProgress(value=0.0, max=10.0), HTML(value='')))"
      ]
     },
     "metadata": {},
     "output_type": "display_data"
    },
    {
     "name": "stdout",
     "output_type": "stream",
     "text": [
      "\n"
     ]
    }
   ],
   "source": [
    "train_model = implicit.als.AlternatingLeastSquares(factors=20, regularization=0.001, iterations=10, calculate_training_loss = True)\n",
    "train_confidence = (train_movie_user * 40).astype(\"double\")\n",
    "train_model.fit(train_confidence)"
   ]
  },
  {
   "cell_type": "code",
   "execution_count": 120,
   "metadata": {},
   "outputs": [
    {
     "data": {
      "text/plain": [
       "(4376, 610)"
      ]
     },
     "execution_count": 120,
     "metadata": {},
     "output_type": "execute_result"
    }
   ],
   "source": [
    "test_user_movie, test_movie_user = make_sparse_matrix(x_test)\n",
    "test_confidence.shape"
   ]
  },
  {
   "cell_type": "markdown",
   "metadata": {},
   "source": [
    "#### Calculate metrics:\n",
    "* Grid search\n",
    "* Test parameters: alpha, iterations, latent factors, lambda and K"
   ]
  },
  {
   "cell_type": "code",
   "execution_count": 124,
   "metadata": {},
   "outputs": [],
   "source": [
    "alpha = [15, 25, 40, 100]\n",
    "iterations = [5, 10, 20, 30, 50, 100, 500, 1000]\n",
    "lat_factors = [5, 10, 20, 50, 100]\n",
    "lmbda = [1, 0.1, 0.01, 0.001]\n",
    "k_vals = [5, 10, 20]"
   ]
  },
  {
   "cell_type": "code",
   "execution_count": null,
   "metadata": {},
   "outputs": [],
   "source": [
    "for alpha_val in alpha:\n",
    "    for it in iterations:\n",
    "        for lat in lat_factors:\n",
    "            for l in lmbda:\n",
    "                for k in k_vals:\n",
    "                    model = implicit.als.AlternatingLeastSquares(factors=lat, regularization=l, iterations=it)\n",
    "                    confidence = (train_movie_user * alpha_val).astype(\"double\")\n",
    "                    train_model.fit(confidence)\n",
    "                    print(\"\")"
   ]
  },
  {
   "cell_type": "code",
   "execution_count": 119,
   "metadata": {},
   "outputs": [
    {
     "data": {
      "application/vnd.jupyter.widget-view+json": {
       "model_id": "9d35d82cad644a5ca6c5f5529a01b2b7",
       "version_major": 2,
       "version_minor": 0
      },
      "text/plain": [
       "HBox(children=(FloatProgress(value=0.0, max=610.0), HTML(value='')))"
      ]
     },
     "metadata": {},
     "output_type": "display_data"
    },
    {
     "name": "stdout",
     "output_type": "stream",
     "text": [
      "\n"
     ]
    },
    {
     "data": {
      "text/plain": [
       "0.08795040681906238"
      ]
     },
     "execution_count": 119,
     "metadata": {},
     "output_type": "execute_result"
    }
   ],
   "source": [
    "precision_at_k(train_model, train_confidence, test_user_movie, K=10)"
   ]
  },
  {
   "cell_type": "code",
   "execution_count": 123,
   "metadata": {},
   "outputs": [
    {
     "data": {
      "application/vnd.jupyter.widget-view+json": {
       "model_id": "ee0d6e54ab584030abb99bab8ec2e5b2",
       "version_major": 2,
       "version_minor": 0
      },
      "text/plain": [
       "HBox(children=(FloatProgress(value=0.0, max=610.0), HTML(value='')))"
      ]
     },
     "metadata": {},
     "output_type": "display_data"
    },
    {
     "name": "stdout",
     "output_type": "stream",
     "text": [
      "\n"
     ]
    },
    {
     "data": {
      "text/plain": [
       "0.03078392583505777"
      ]
     },
     "execution_count": 123,
     "metadata": {},
     "output_type": "execute_result"
    }
   ],
   "source": [
    "mean_average_precision_at_k(train_model, train_confidence, test_user_movie, K = 10)"
   ]
  },
  {
   "cell_type": "code",
   "execution_count": 122,
   "metadata": {},
   "outputs": [
    {
     "data": {
      "application/vnd.jupyter.widget-view+json": {
       "model_id": "788223beba264e55ac928812ed417221",
       "version_major": 2,
       "version_minor": 0
      },
      "text/plain": [
       "HBox(children=(FloatProgress(value=0.0, max=610.0), HTML(value='')))"
      ]
     },
     "metadata": {},
     "output_type": "display_data"
    },
    {
     "name": "stdout",
     "output_type": "stream",
     "text": [
      "\n"
     ]
    },
    {
     "data": {
      "text/plain": [
       "0.5266431148470124"
      ]
     },
     "execution_count": 122,
     "metadata": {},
     "output_type": "execute_result"
    }
   ],
   "source": [
    "AUC_at_k(train_model, train_confidence, test_user_movie, K = 10)"
   ]
  },
  {
   "cell_type": "code",
   "execution_count": 121,
   "metadata": {},
   "outputs": [
    {
     "data": {
      "application/vnd.jupyter.widget-view+json": {
       "model_id": "f69f756842fc49e5954d6103ba5af24f",
       "version_major": 2,
       "version_minor": 0
      },
      "text/plain": [
       "HBox(children=(FloatProgress(value=0.0, max=610.0), HTML(value='')))"
      ]
     },
     "metadata": {},
     "output_type": "display_data"
    },
    {
     "name": "stdout",
     "output_type": "stream",
     "text": [
      "\n"
     ]
    },
    {
     "data": {
      "text/plain": [
       "0.08007263942375745"
      ]
     },
     "execution_count": 121,
     "metadata": {},
     "output_type": "execute_result"
    }
   ],
   "source": [
    "ndcg_at_k(train_model, train_confidence, test_user_movie, K = 10)"
   ]
  }
 ],
 "metadata": {
  "kernelspec": {
   "display_name": "Python 3",
   "language": "python",
   "name": "python3"
  },
  "language_info": {
   "codemirror_mode": {
    "name": "ipython",
    "version": 3
   },
   "file_extension": ".py",
   "mimetype": "text/x-python",
   "name": "python",
   "nbconvert_exporter": "python",
   "pygments_lexer": "ipython3",
   "version": "3.7.4"
  }
 },
 "nbformat": 4,
 "nbformat_minor": 4
}
