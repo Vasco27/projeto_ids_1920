{
 "cells": [
  {
   "cell_type": "code",
   "execution_count": 111,
   "metadata": {},
   "outputs": [],
   "source": [
    "import numpy as np\n",
    "from numpy import dot\n",
    "from numpy.linalg import norm\n",
    "import numpy.ma as ma\n",
    "import time\n",
    "from itertools import combinations\n",
    "from sklearn.metrics.pairwise import cosine_similarity\n",
    "from sklearn.metrics import mean_squared_error,mean_absolute_error\n",
    "import math\n",
    "\n",
    "class SVDRec():\n",
    "    \"\"\"\n",
    "    Sources used to build recommender:\n",
    "    \n",
    "    https://github.com/NicolasHug/Surprise/blob/master/surprise/prediction_algorithms/matrix_factorization.pyx\n",
    "    \n",
    "    https://datajobs.com/data-science-repo/Recommender-Systems-[Netflix].pdf\n",
    "    \n",
    "    https://github.com/benlindsay/movielens-analysis/blob/master/05_SGD.ipynb\n",
    "    \n",
    "    http://files.grouplens.org/papers/FnT%20CF%20Recsys%20Survey.pdf\n",
    "    \"\"\"\n",
    "    def __init__(self,n_factors=100,n_epochs=20,l_r=0.01,reg=0.02,verbose=False):\n",
    "\n",
    "        self.n_factors = n_factors\n",
    "        self.n_epochs = n_epochs\n",
    "        self.l_r = l_r\n",
    "        self.damping_factor = 10\n",
    "        self.reg = reg\n",
    "        self.mu = None\n",
    "        self.num_movies = None\n",
    "        self.num_users = None\n",
    "        self.train_error = None\n",
    "        self.verbose = verbose\n",
    "    \n",
    "    def __str__(self):\n",
    "        return f\"n_factors={self.n_factors},n_epochs={self.n_epochs},learning_rate={self.l_r},regularization={self.reg}\"\n",
    "    \n",
    "    def _create_movie_user_matrix(self):\n",
    "        self.M = pd.pivot_table(\n",
    "                data=self.R,\n",
    "                values=\"rating\",\n",
    "                index=\"userId\",\n",
    "                columns=\"movieId\")\n",
    "        \n",
    "        self.movies = set(self.M.columns)\n",
    "        self.users = set(self.M.index)\n",
    "    \n",
    "    def sgd(self):\n",
    "\n",
    "        self.U = pd.DataFrame(np.random.normal(scale=0.01,size=(self.num_users,self.n_factors)),index=self.users)\n",
    "        self.I = pd.DataFrame(np.random.normal(scale=0.01,size=(self.num_movies,self.n_factors)),index=self.movies)\n",
    "        \n",
    "        for epoch in range(self.n_epochs):\n",
    "            start = time.time()\n",
    "            size = self.R.shape[0]\n",
    "            pred = np.empty([size])\n",
    "            idx = 0\n",
    "            for _,row in self.R.iterrows():\n",
    "                \n",
    "                u = row[\"userId\"]\n",
    "                m = row[\"movieId\"]\n",
    "                r = row[\"rating\"]\n",
    "                \n",
    "\n",
    "                qi = self.I.loc[m]\n",
    "                qu = self.U.loc[u]\n",
    "                \n",
    "                bu = self.b_u[u]\n",
    "                bm = self.b_m[m]\n",
    "                \n",
    "                l_r = self.l_r\n",
    "                reg = self.reg\n",
    "                \n",
    "                r_pred = self.predict_entity(u,m)\n",
    "                \n",
    "                pred[idx] = r_pred\n",
    "                \n",
    "                err = r-r_pred\n",
    "\n",
    "            \n",
    "                self.b_u[u] = bu + l_r*(err-(reg*bu))\n",
    "                \n",
    "                self.b_m[m] = bm + l_r*(err-(reg*bm))\n",
    "                \n",
    "                self.U.loc[u] = qu + l_r*(err*qi -(reg*qu))\n",
    "                \n",
    "                self.I.loc[m] = qi + l_r*(err*qu -(reg*qi))\n",
    "                \n",
    "                idx += 1\n",
    "            end = time.time()\n",
    "            t = end-start\n",
    "            \n",
    "            self.train_error = math.sqrt(mean_squared_error(self.R.rating, pred))\n",
    "            if self.verbose:\n",
    "                print(f\"Epoch nº{epoch},took {t}s, error:{self.train_error}\")\n",
    "\n",
    "    def predict_entity(self,user,movie):\n",
    "            r_pred = self.mu\n",
    "            \n",
    "            if user in self.users:\n",
    "                r_pred += self.b_u[user]\n",
    "                \n",
    "            if movie in self.movies:\n",
    "                r_pred += self.b_m[movie]\n",
    "                \n",
    "            if (movie in self.movies) & (user in self.users):\n",
    "                r_pred += np.dot(self.I.loc[movie],self.U.loc[user])\n",
    "\n",
    "            return r_pred\n",
    "\n",
    "    def fit(self,X,y):\n",
    "        self.R = X.copy()\n",
    "        self.R[\"rating\"] = y.copy()\n",
    "        \n",
    "        self._create_movie_user_matrix()\n",
    "        \n",
    "        self.num_users, self.num_movies = self.M.shape\n",
    "        self.mu = self.R[\"rating\"].mean()\n",
    "        \n",
    "        self.baseline_predictor()\n",
    "        \n",
    "        #self.R = self.create_baseline(self.R)\n",
    "        \n",
    "        self.sgd()\n",
    "    \n",
    "        return self\n",
    "\n",
    "    \n",
    "    def baseline_predictor(self):\n",
    "        num_ratings_per_movie = self.R[\"movieId\"].value_counts()\n",
    "        num_ratings_per_user = self.R[\"userId\"].value_counts()\n",
    "        sum_ratings_per_user = self.R.groupby(\"userId\")[\"rating\"].sum()\n",
    "        sum_ratings_per_movie = self.R.groupby(\"movieId\")[\"rating\"].sum()\n",
    "        \n",
    "        self.b_u = (sum_ratings_per_user-(self.mu*num_ratings_per_user))/(num_ratings_per_user+self.damping_factor)\n",
    "        \n",
    "        X = self.R.join(self.b_u.rename('b_u'), on='userId')\n",
    "        X['res'] = X['rating'] - X['b_u'] - self.mu\n",
    "        num = X[['movieId', 'res']].groupby('movieId')['res'].sum()\n",
    "        \n",
    "        denom = num_ratings_per_movie+self.damping_factor\n",
    "        \n",
    "        self.b_m = num/denom\n",
    "    \n",
    "    def create_baseline(self,X):\n",
    "        X = X.copy()\n",
    "        single_baseline = lambda user,movie: self.b_u[user]+self.b_m[movie]+self.mu\n",
    "        \n",
    "        X[\"baseline\"] = X.apply (lambda row:single_baseline(row[\"userId\"],row[\"movieId\"]) , axis=1)\n",
    "        return X\n",
    "\n",
    "\n",
    "    \n",
    "    def predict(self,X):\n",
    "        X_test = X.copy()\n",
    "\n",
    "        \n",
    "        X_test[\"prediction\"] = X_test.apply(lambda row:self.predict_entity(row[\"userId\"],row[\"movieId\"]) , axis=1)\n",
    "        \n",
    "        return X_test[\"prediction\"]\n",
    "        \n",
    "        \n",
    "        "
   ]
  },
  {
   "cell_type": "code",
   "execution_count": 112,
   "metadata": {},
   "outputs": [
    {
     "data": {
      "text/html": [
       "<div>\n",
       "<style scoped>\n",
       "    .dataframe tbody tr th:only-of-type {\n",
       "        vertical-align: middle;\n",
       "    }\n",
       "\n",
       "    .dataframe tbody tr th {\n",
       "        vertical-align: top;\n",
       "    }\n",
       "\n",
       "    .dataframe thead th {\n",
       "        text-align: right;\n",
       "    }\n",
       "</style>\n",
       "<table border=\"1\" class=\"dataframe\">\n",
       "  <thead>\n",
       "    <tr style=\"text-align: right;\">\n",
       "      <th></th>\n",
       "      <th>userId</th>\n",
       "      <th>movieId</th>\n",
       "      <th>rating</th>\n",
       "    </tr>\n",
       "  </thead>\n",
       "  <tbody>\n",
       "    <tr>\n",
       "      <th>0</th>\n",
       "      <td>1</td>\n",
       "      <td>1</td>\n",
       "      <td>4.0</td>\n",
       "    </tr>\n",
       "    <tr>\n",
       "      <th>1</th>\n",
       "      <td>1</td>\n",
       "      <td>3</td>\n",
       "      <td>4.0</td>\n",
       "    </tr>\n",
       "    <tr>\n",
       "      <th>2</th>\n",
       "      <td>1</td>\n",
       "      <td>6</td>\n",
       "      <td>4.0</td>\n",
       "    </tr>\n",
       "    <tr>\n",
       "      <th>3</th>\n",
       "      <td>1</td>\n",
       "      <td>47</td>\n",
       "      <td>5.0</td>\n",
       "    </tr>\n",
       "    <tr>\n",
       "      <th>4</th>\n",
       "      <td>1</td>\n",
       "      <td>50</td>\n",
       "      <td>5.0</td>\n",
       "    </tr>\n",
       "    <tr>\n",
       "      <th>5</th>\n",
       "      <td>1</td>\n",
       "      <td>70</td>\n",
       "      <td>3.0</td>\n",
       "    </tr>\n",
       "    <tr>\n",
       "      <th>6</th>\n",
       "      <td>1</td>\n",
       "      <td>101</td>\n",
       "      <td>5.0</td>\n",
       "    </tr>\n",
       "    <tr>\n",
       "      <th>7</th>\n",
       "      <td>1</td>\n",
       "      <td>110</td>\n",
       "      <td>4.0</td>\n",
       "    </tr>\n",
       "    <tr>\n",
       "      <th>8</th>\n",
       "      <td>1</td>\n",
       "      <td>151</td>\n",
       "      <td>5.0</td>\n",
       "    </tr>\n",
       "    <tr>\n",
       "      <th>9</th>\n",
       "      <td>1</td>\n",
       "      <td>157</td>\n",
       "      <td>5.0</td>\n",
       "    </tr>\n",
       "  </tbody>\n",
       "</table>\n",
       "</div>"
      ],
      "text/plain": [
       "   userId  movieId  rating\n",
       "0       1        1     4.0\n",
       "1       1        3     4.0\n",
       "2       1        6     4.0\n",
       "3       1       47     5.0\n",
       "4       1       50     5.0\n",
       "5       1       70     3.0\n",
       "6       1      101     5.0\n",
       "7       1      110     4.0\n",
       "8       1      151     5.0\n",
       "9       1      157     5.0"
      ]
     },
     "execution_count": 112,
     "metadata": {},
     "output_type": "execute_result"
    }
   ],
   "source": [
    "import pandas as pd\n",
    "ratings = pd.read_csv(\"datasets_small/ratings.csv\")\n",
    "ratings = ratings.loc[:,[\"userId\",\"movieId\",\"rating\"]]\n",
    "ratings.head(10)"
   ]
  },
  {
   "cell_type": "code",
   "execution_count": 60,
   "metadata": {},
   "outputs": [],
   "source": [
    "from sklearn.model_selection import train_test_split\n",
    "\n",
    "X_train, X_test, y_train, y_test = train_test_split(ratings.drop(columns=\"rating\"), ratings[\"rating\"], test_size=0.30, random_state=42)"
   ]
  },
  {
   "cell_type": "code",
   "execution_count": 98,
   "metadata": {},
   "outputs": [
    {
     "name": "stdout",
     "output_type": "stream",
     "text": [
      "Epoch nº0,took 113.67189908027649s, error:0.8779189140169291\n"
     ]
    },
    {
     "data": {
      "text/plain": [
       "<__main__.SVDRec at 0x2593e7607b8>"
      ]
     },
     "execution_count": 98,
     "metadata": {},
     "output_type": "execute_result"
    }
   ],
   "source": [
    "model = SVDRec(l_r=0.1,n_epochs=1,verbose=True)\n",
    "model.fit(X_train,y_train)"
   ]
  },
  {
   "cell_type": "code",
   "execution_count": 106,
   "metadata": {},
   "outputs": [],
   "source": [
    "from sklearn.model_selection import KFold\n",
    "from sklearn.metrics import mean_squared_error,mean_absolute_error\n",
    "import math\n",
    "import time\n",
    "\n",
    "def cross_val(X,y,model,n_folds=3):\n",
    "    kf = KFold(n_splits=n_folds)\n",
    "    total_test_err = 0\n",
    "    total_train_err = 0\n",
    "    count = 1\n",
    "   \n",
    "    for train_index, val_index in kf.split(X):\n",
    "        t = 0\n",
    "        start = time.time()\n",
    "        \n",
    "        X_train, X_val = X.iloc[train_index], X.iloc[val_index]\n",
    "        y_train, y_val = y.iloc[train_index], y.iloc[val_index]\n",
    "\n",
    "        model.fit(X_train,y_train)\n",
    "        y_pred = model.predict(X_val)\n",
    "\n",
    "        err_test = math.sqrt(mean_squared_error(y_val,y_pred))\n",
    "        err_train = model.train_error\n",
    "        \n",
    "        total_test_err = total_test_err + err_test\n",
    "        total_train_err = total_train_err + err_train\n",
    "        \n",
    "        end = time.time()\n",
    "        \n",
    "        t = end - start\n",
    "        print(f\"fold={count},RMSE_test={err_test:5},RMSE_train={err_train:5},time={t}\")\n",
    "        \n",
    "        count += 1\n",
    "    \n",
    "    avg_test_err = total_test_err/n_folds\n",
    "    avg_train_err = total_train_err/n_folds\n",
    "    \n",
    "    print(f\"Avg Test Error:{avg_test_err} RMSE\")\n",
    "    print(f\"Avg Train Error:{avg_train_err} RMSE\")\n",
    "    \n",
    "    return avg_test_err,avg_train_err\n",
    "\n",
    "\n",
    "\n",
    "\n",
    "def grid_search(X_train,y_train,param,values):\n",
    "    result_df = pd.DataFrame(columns=[\"n_epochs\",\"n_factors\",\"l_r\",\"reg\",\"RMSE_train\",\"RMSE_test\"])\n",
    "    if param == \"l_r\":\n",
    "        for v in values:\n",
    "            model = SVDRec(l_r=v)\n",
    "            print(model)\n",
    "            error_val,error_train = cross_val(X_train,y_train,model,3)\n",
    "            result_df = result_df.append({\"n_epochs\":model.n_epochs,\"n_factors\":model.n_factors,\"l_r\":model.l_r,\"reg\":mode.reg,\"RMSE_train\":error_train,\"RMSE_test\":error_val},ignore_index=True)\n",
    "    if param == \"reg\":\n",
    "        for v in values:\n",
    "            model = SVDRec(reg=v)\n",
    "            print(model)\n",
    "            error_val,error_train = cross_val(X_train,y_train,model,3)\n",
    "            result_df = result_df.append({\"n_epochs\":model.n_epochs,\"n_factors\":model.n_factors,\"l_r\":model.l_r,\"reg\":mode.reg,\"RMSE_train\":error_train,\"RMSE_test\":error_val},ignore_index=True)\n",
    "    if param == \"n_factors\":\n",
    "        for v in values:\n",
    "            model = SVDRec(n_factors=v)\n",
    "            print(model)\n",
    "            error_val,error_train = cross_val(X_train,y_train,model,3)\n",
    "            result_df = result_df.append({\"n_epochs\":model.n_epochs,\"n_factors\":model.n_factors,\"l_r\":model.l_r,\"reg\":mode.reg,\"RMSE_train\":error_train,\"RMSE_test\":error_val},ignore_index=True)\n",
    "    if param == \"n_epochs\":\n",
    "        for v in values:\n",
    "            model = SVDRec(n_epochs=v)\n",
    "            print(model)\n",
    "            error_val,error_train = cross_val(X_train,y_train,model,3)\n",
    "            result_df = result_df.append({\"n_epochs\":model.n_epochs,\"n_factors\":model.n_factors,\"l_r\":model.l_r,\"reg\":mode.reg,\"RMSE_train\":error_train,\"RMSE_test\":error_val},ignore_index=True)\n",
    "    return result_df"
   ]
  },
  {
   "cell_type": "code",
   "execution_count": 107,
   "metadata": {},
   "outputs": [
    {
     "name": "stdout",
     "output_type": "stream",
     "text": [
      "n_factors=100,n_epochs=10,learning_rate=0.005,regularization=0.02\n",
      "fold=1,RMSE_test=0.8790648651877705,RMSE_train=0.8226492277891577,time=886.3159909248352\n",
      "fold=2,RMSE_test=0.8750397835100577,RMSE_train=0.8241523828357408,time=896.0592138767242\n",
      "fold=3,RMSE_test=0.8883186030812033,RMSE_train=0.8175849303858618,time=871.620044708252\n",
      "Avg Test Error:0.8808077505930104 RMSE\n",
      "Avg Train Error:0.8214621803369201 RMSE\n",
      "n_factors=100,n_epochs=15,learning_rate=0.005,regularization=0.02\n",
      "fold=1,RMSE_test=0.8777195337730261,RMSE_train=0.8150315557408466,time=1230.5839083194733\n",
      "fold=2,RMSE_test=0.8735922774698835,RMSE_train=0.8165419559377958,time=1291.846624135971\n",
      "fold=3,RMSE_test=0.887290635795656,RMSE_train=0.809951959668648,time=1320.507913351059\n",
      "Avg Test Error:0.8795341490128553 RMSE\n",
      "Avg Train Error:0.8138418237824302 RMSE\n",
      "n_factors=100,n_epochs=20,learning_rate=0.005,regularization=0.02\n",
      "fold=1,RMSE_test=0.8769483745356005,RMSE_train=0.8083468155938377,time=1744.7287900447845\n",
      "fold=2,RMSE_test=0.8727686373290454,RMSE_train=0.809799391671934,time=1563.103345155716\n",
      "fold=3,RMSE_test=0.8867545361516718,RMSE_train=0.8032384303336351,time=1453.0647749900818\n",
      "Avg Test Error:0.8788238493387727 RMSE\n",
      "Avg Train Error:0.8071282125331356 RMSE\n",
      "n_factors=100,n_epochs=25,learning_rate=0.005,regularization=0.02\n",
      "fold=1,RMSE_test=0.8764105178936386,RMSE_train=0.8016521567823628,time=1840.7545614242554\n",
      "fold=2,RMSE_test=0.8723117334276436,RMSE_train=0.803261566214138,time=1812.2039213180542\n",
      "fold=3,RMSE_test=0.8863854749154292,RMSE_train=0.7965826882768263,time=11367.449213981628\n",
      "Avg Test Error:0.8783692420789038 RMSE\n",
      "Avg Train Error:0.8004988037577757 RMSE\n"
     ]
    }
   ],
   "source": [
    "df = grid_search(X_train,y_train,\"n_epochs\",[10,15,20,25])"
   ]
  },
  {
   "cell_type": "code",
   "execution_count": 108,
   "metadata": {},
   "outputs": [
    {
     "data": {
      "text/html": [
       "<div>\n",
       "<style scoped>\n",
       "    .dataframe tbody tr th:only-of-type {\n",
       "        vertical-align: middle;\n",
       "    }\n",
       "\n",
       "    .dataframe tbody tr th {\n",
       "        vertical-align: top;\n",
       "    }\n",
       "\n",
       "    .dataframe thead th {\n",
       "        text-align: right;\n",
       "    }\n",
       "</style>\n",
       "<table border=\"1\" class=\"dataframe\">\n",
       "  <thead>\n",
       "    <tr style=\"text-align: right;\">\n",
       "      <th></th>\n",
       "      <th>n_epochs</th>\n",
       "      <th>n_factors</th>\n",
       "      <th>l_r</th>\n",
       "      <th>reg</th>\n",
       "      <th>RMSE_train</th>\n",
       "      <th>RMSE_test</th>\n",
       "    </tr>\n",
       "  </thead>\n",
       "  <tbody>\n",
       "    <tr>\n",
       "      <th>0</th>\n",
       "      <td>10.0</td>\n",
       "      <td>100.0</td>\n",
       "      <td>0.005</td>\n",
       "      <td>0.02</td>\n",
       "      <td>0.821462</td>\n",
       "      <td>0.880808</td>\n",
       "    </tr>\n",
       "    <tr>\n",
       "      <th>1</th>\n",
       "      <td>15.0</td>\n",
       "      <td>100.0</td>\n",
       "      <td>0.005</td>\n",
       "      <td>0.02</td>\n",
       "      <td>0.813842</td>\n",
       "      <td>0.879534</td>\n",
       "    </tr>\n",
       "    <tr>\n",
       "      <th>2</th>\n",
       "      <td>20.0</td>\n",
       "      <td>100.0</td>\n",
       "      <td>0.005</td>\n",
       "      <td>0.02</td>\n",
       "      <td>0.807128</td>\n",
       "      <td>0.878824</td>\n",
       "    </tr>\n",
       "    <tr>\n",
       "      <th>3</th>\n",
       "      <td>25.0</td>\n",
       "      <td>100.0</td>\n",
       "      <td>0.005</td>\n",
       "      <td>0.02</td>\n",
       "      <td>0.800499</td>\n",
       "      <td>0.878369</td>\n",
       "    </tr>\n",
       "  </tbody>\n",
       "</table>\n",
       "</div>"
      ],
      "text/plain": [
       "   n_epochs  n_factors    l_r   reg  RMSE_train  RMSE_test\n",
       "0      10.0      100.0  0.005  0.02    0.821462   0.880808\n",
       "1      15.0      100.0  0.005  0.02    0.813842   0.879534\n",
       "2      20.0      100.0  0.005  0.02    0.807128   0.878824\n",
       "3      25.0      100.0  0.005  0.02    0.800499   0.878369"
      ]
     },
     "execution_count": 108,
     "metadata": {},
     "output_type": "execute_result"
    }
   ],
   "source": [
    "df"
   ]
  },
  {
   "cell_type": "code",
   "execution_count": null,
   "metadata": {},
   "outputs": [],
   "source": []
  },
  {
   "cell_type": "code",
   "execution_count": 109,
   "metadata": {},
   "outputs": [
    {
     "name": "stdout",
     "output_type": "stream",
     "text": [
      "n_factors=100,n_epochs=20,learning_rate=0.1,regularization=0.02\n",
      "fold=1,RMSE_test=0.8963979684684349,RMSE_train=0.09969178909227171,time=1569.298796415329\n",
      "fold=2,RMSE_test=0.8965839433187689,RMSE_train=0.09874431852014653,time=1575.908175945282\n",
      "fold=3,RMSE_test=0.9030764074183053,RMSE_train=0.10009675993800515,time=1602.281653881073\n",
      "Avg Test Error:0.8986861064018363 RMSE\n",
      "Avg Train Error:0.09951095585014114 RMSE\n",
      "n_factors=100,n_epochs=20,learning_rate=0.01,regularization=0.02\n",
      "fold=1,RMSE_test=0.8753578884603697,RMSE_train=0.7715362542692381,time=1749.4201300144196\n",
      "fold=2,RMSE_test=0.871195981070179,RMSE_train=0.7739104671927394,time=1745.001938343048\n",
      "fold=3,RMSE_test=0.8855172313081323,RMSE_train=0.7683698030654058,time=13594.890384197235\n",
      "Avg Test Error:0.8773570336128937 RMSE\n",
      "Avg Train Error:0.7712721748424611 RMSE\n",
      "n_factors=100,n_epochs=20,learning_rate=0.001,regularization=0.02\n",
      "fold=1,RMSE_test=0.8821499967059601,RMSE_train=0.8310426054470798,time=1588.903082370758\n",
      "fold=2,RMSE_test=0.8785683422585352,RMSE_train=0.8325412066034145,time=1504.8828711509705\n",
      "fold=3,RMSE_test=0.8909810400967407,RMSE_train=0.826088134799023,time=1509.2835941314697\n",
      "Avg Test Error:0.883899793020412 RMSE\n",
      "Avg Train Error:0.8298906489498391 RMSE\n",
      "n_factors=100,n_epochs=20,learning_rate=0.0001,regularization=0.02\n",
      "fold=1,RMSE_test=0.887179001403583,RMSE_train=0.8418797665061968,time=2431.417624473572\n",
      "fold=2,RMSE_test=0.8841770210887223,RMSE_train=0.8432583602765059,time=11278.076754808426\n",
      "fold=3,RMSE_test=0.895469688006299,RMSE_train=0.8370623618702209,time=2725.1249771118164\n",
      "Avg Test Error:0.8889419034995347 RMSE\n",
      "Avg Train Error:0.8407334962176413 RMSE\n"
     ]
    }
   ],
   "source": [
    "df = grid_search(X_train,y_train,\"l_r\",[0.1,0.01,0.001,0.0001])"
   ]
  },
  {
   "cell_type": "code",
   "execution_count": 116,
   "metadata": {},
   "outputs": [
    {
     "data": {
      "text/html": [
       "<div>\n",
       "<style scoped>\n",
       "    .dataframe tbody tr th:only-of-type {\n",
       "        vertical-align: middle;\n",
       "    }\n",
       "\n",
       "    .dataframe tbody tr th {\n",
       "        vertical-align: top;\n",
       "    }\n",
       "\n",
       "    .dataframe thead th {\n",
       "        text-align: right;\n",
       "    }\n",
       "</style>\n",
       "<table border=\"1\" class=\"dataframe\">\n",
       "  <thead>\n",
       "    <tr style=\"text-align: right;\">\n",
       "      <th></th>\n",
       "      <th>n_epochs</th>\n",
       "      <th>n_factors</th>\n",
       "      <th>l_r</th>\n",
       "      <th>reg</th>\n",
       "      <th>RMSE_train</th>\n",
       "      <th>RMSE_test</th>\n",
       "    </tr>\n",
       "  </thead>\n",
       "  <tbody>\n",
       "    <tr>\n",
       "      <th>0</th>\n",
       "      <td>20.0</td>\n",
       "      <td>100.0</td>\n",
       "      <td>0.1000</td>\n",
       "      <td>0.02</td>\n",
       "      <td>0.099511</td>\n",
       "      <td>0.898686</td>\n",
       "    </tr>\n",
       "    <tr>\n",
       "      <th>1</th>\n",
       "      <td>20.0</td>\n",
       "      <td>100.0</td>\n",
       "      <td>0.0100</td>\n",
       "      <td>0.02</td>\n",
       "      <td>0.771272</td>\n",
       "      <td>0.877357</td>\n",
       "    </tr>\n",
       "    <tr>\n",
       "      <th>2</th>\n",
       "      <td>20.0</td>\n",
       "      <td>100.0</td>\n",
       "      <td>0.0010</td>\n",
       "      <td>0.02</td>\n",
       "      <td>0.829891</td>\n",
       "      <td>0.883900</td>\n",
       "    </tr>\n",
       "    <tr>\n",
       "      <th>3</th>\n",
       "      <td>20.0</td>\n",
       "      <td>100.0</td>\n",
       "      <td>0.0001</td>\n",
       "      <td>0.02</td>\n",
       "      <td>0.840733</td>\n",
       "      <td>0.888942</td>\n",
       "    </tr>\n",
       "  </tbody>\n",
       "</table>\n",
       "</div>"
      ],
      "text/plain": [
       "   n_epochs  n_factors     l_r   reg  RMSE_train  RMSE_test\n",
       "0      20.0      100.0  0.1000  0.02    0.099511   0.898686\n",
       "1      20.0      100.0  0.0100  0.02    0.771272   0.877357\n",
       "2      20.0      100.0  0.0010  0.02    0.829891   0.883900\n",
       "3      20.0      100.0  0.0001  0.02    0.840733   0.888942"
      ]
     },
     "execution_count": 116,
     "metadata": {},
     "output_type": "execute_result"
    }
   ],
   "source": [
    "df"
   ]
  },
  {
   "cell_type": "code",
   "execution_count": 113,
   "metadata": {},
   "outputs": [
    {
     "name": "stdout",
     "output_type": "stream",
     "text": [
      "n_factors=100,n_epochs=20,learning_rate=0.01,regularization=0.1\n",
      "fold=1,RMSE_test=0.8765066666234347,RMSE_train=0.8010231018680379,time=1610.4444019794464\n",
      "fold=2,RMSE_test=0.8731648451124253,RMSE_train=0.8024425658055666,time=1991.879179239273\n",
      "fold=3,RMSE_test=0.8863981000942368,RMSE_train=0.795937622280157,time=1452.1320056915283\n",
      "Avg Test Error:0.8786898706100322 RMSE\n",
      "Avg Train Error:0.7998010966512538 RMSE\n",
      "n_factors=100,n_epochs=20,learning_rate=0.01,regularization=0.01\n",
      "fold=1,RMSE_test=0.8740483603483146,RMSE_train=0.7487177452325069,time=1488.1497666835785\n",
      "fold=2,RMSE_test=0.8705361744145513,RMSE_train=0.7535210304819243,time=1473.2599892616272\n",
      "fold=3,RMSE_test=0.885256443973339,RMSE_train=0.7465063681342661,time=1455.9144451618195\n",
      "Avg Test Error:0.8766136595787349 RMSE\n",
      "Avg Train Error:0.7495817146162324 RMSE\n",
      "n_factors=100,n_epochs=20,learning_rate=0.01,regularization=0.001\n",
      "fold=1,RMSE_test=0.8741602818494669,RMSE_train=0.7185559329387844,time=1467.3698151111603\n",
      "fold=2,RMSE_test=0.8698907207156747,RMSE_train=0.7200331536804884,time=1455.932914018631\n",
      "fold=3,RMSE_test=0.884956665826418,RMSE_train=0.7159059787503651,time=1478.4397201538086\n",
      "Avg Test Error:0.8763358894638532 RMSE\n",
      "Avg Train Error:0.7181650217898793 RMSE\n"
     ]
    }
   ],
   "source": [
    "df2 = grid_search(X_train,y_train,\"reg\",[0.1,0.01,0.001])"
   ]
  },
  {
   "cell_type": "code",
   "execution_count": 114,
   "metadata": {},
   "outputs": [
    {
     "data": {
      "text/html": [
       "<div>\n",
       "<style scoped>\n",
       "    .dataframe tbody tr th:only-of-type {\n",
       "        vertical-align: middle;\n",
       "    }\n",
       "\n",
       "    .dataframe tbody tr th {\n",
       "        vertical-align: top;\n",
       "    }\n",
       "\n",
       "    .dataframe thead th {\n",
       "        text-align: right;\n",
       "    }\n",
       "</style>\n",
       "<table border=\"1\" class=\"dataframe\">\n",
       "  <thead>\n",
       "    <tr style=\"text-align: right;\">\n",
       "      <th></th>\n",
       "      <th>n_epochs</th>\n",
       "      <th>n_factors</th>\n",
       "      <th>l_r</th>\n",
       "      <th>reg</th>\n",
       "      <th>RMSE_train</th>\n",
       "      <th>RMSE_test</th>\n",
       "    </tr>\n",
       "  </thead>\n",
       "  <tbody>\n",
       "    <tr>\n",
       "      <th>0</th>\n",
       "      <td>20.0</td>\n",
       "      <td>100.0</td>\n",
       "      <td>0.01</td>\n",
       "      <td>0.02</td>\n",
       "      <td>0.799801</td>\n",
       "      <td>0.878690</td>\n",
       "    </tr>\n",
       "    <tr>\n",
       "      <th>1</th>\n",
       "      <td>20.0</td>\n",
       "      <td>100.0</td>\n",
       "      <td>0.01</td>\n",
       "      <td>0.02</td>\n",
       "      <td>0.749582</td>\n",
       "      <td>0.876614</td>\n",
       "    </tr>\n",
       "    <tr>\n",
       "      <th>2</th>\n",
       "      <td>20.0</td>\n",
       "      <td>100.0</td>\n",
       "      <td>0.01</td>\n",
       "      <td>0.02</td>\n",
       "      <td>0.718165</td>\n",
       "      <td>0.876336</td>\n",
       "    </tr>\n",
       "  </tbody>\n",
       "</table>\n",
       "</div>"
      ],
      "text/plain": [
       "   n_epochs  n_factors   l_r   reg  RMSE_train  RMSE_test\n",
       "0      20.0      100.0  0.01  0.02    0.799801   0.878690\n",
       "1      20.0      100.0  0.01  0.02    0.749582   0.876614\n",
       "2      20.0      100.0  0.01  0.02    0.718165   0.876336"
      ]
     },
     "execution_count": 114,
     "metadata": {},
     "output_type": "execute_result"
    }
   ],
   "source": [
    "df2"
   ]
  },
  {
   "cell_type": "code",
   "execution_count": 115,
   "metadata": {},
   "outputs": [
    {
     "name": "stdout",
     "output_type": "stream",
     "text": [
      "n_factors=25,n_epochs=20,learning_rate=0.01,regularization=0.02\n",
      "fold=1,RMSE_test=0.8764342251274008,RMSE_train=0.7924629221033538,time=4677.354007482529\n",
      "fold=2,RMSE_test=0.8724002895009264,RMSE_train=0.7942149837616663,time=3679.8461515903473\n",
      "fold=3,RMSE_test=0.8867722026065995,RMSE_train=0.788314179932431,time=1706.6789338588715\n",
      "Avg Test Error:0.8785355724116423 RMSE\n",
      "Avg Train Error:0.7916640285991504 RMSE\n",
      "n_factors=50,n_epochs=20,learning_rate=0.01,regularization=0.02\n",
      "fold=1,RMSE_test=0.8762374420374749,RMSE_train=0.7861094094153859,time=1695.8842599391937\n",
      "fold=2,RMSE_test=0.8720310079571102,RMSE_train=0.7871418443383522,time=1515.3713660240173\n",
      "fold=3,RMSE_test=0.8865551072883056,RMSE_train=0.7824029022586716,time=1490.9052810668945\n",
      "Avg Test Error:0.878274519094297 RMSE\n",
      "Avg Train Error:0.7852180520041365 RMSE\n",
      "n_factors=75,n_epochs=20,learning_rate=0.01,regularization=0.02\n",
      "fold=1,RMSE_test=0.8755946250957477,RMSE_train=0.778991909673378,time=1459.5583412647247\n",
      "fold=2,RMSE_test=0.8715082973861654,RMSE_train=0.7801970912233616,time=1476.2733495235443\n",
      "fold=3,RMSE_test=0.8860937889024882,RMSE_train=0.7742581838658192,time=1612.7192595005035\n",
      "Avg Test Error:0.8777322371281336 RMSE\n",
      "Avg Train Error:0.7778157282541862 RMSE\n",
      "n_factors=100,n_epochs=20,learning_rate=0.01,regularization=0.02\n"
     ]
    },
    {
     "ename": "KeyboardInterrupt",
     "evalue": "",
     "output_type": "error",
     "traceback": [
      "\u001b[1;31m---------------------------------------------------------------------------\u001b[0m",
      "\u001b[1;31mKeyboardInterrupt\u001b[0m                         Traceback (most recent call last)",
      "\u001b[1;32m<ipython-input-115-a2c165031439>\u001b[0m in \u001b[0;36m<module>\u001b[1;34m()\u001b[0m\n\u001b[1;32m----> 1\u001b[1;33m \u001b[0mdf3\u001b[0m \u001b[1;33m=\u001b[0m \u001b[0mgrid_search\u001b[0m\u001b[1;33m(\u001b[0m\u001b[0mX_train\u001b[0m\u001b[1;33m,\u001b[0m\u001b[0my_train\u001b[0m\u001b[1;33m,\u001b[0m\u001b[1;34m\"n_factors\"\u001b[0m\u001b[1;33m,\u001b[0m\u001b[1;33m[\u001b[0m\u001b[1;36m25\u001b[0m\u001b[1;33m,\u001b[0m\u001b[1;36m50\u001b[0m\u001b[1;33m,\u001b[0m\u001b[1;36m75\u001b[0m\u001b[1;33m,\u001b[0m\u001b[1;36m100\u001b[0m\u001b[1;33m]\u001b[0m\u001b[1;33m)\u001b[0m\u001b[1;33m\u001b[0m\u001b[0m\n\u001b[0m",
      "\u001b[1;32m<ipython-input-106-4cdec2b40b31>\u001b[0m in \u001b[0;36mgrid_search\u001b[1;34m(X_train, y_train, param, values)\u001b[0m\n\u001b[0;32m     62\u001b[0m             \u001b[0mmodel\u001b[0m \u001b[1;33m=\u001b[0m \u001b[0mSVDRec\u001b[0m\u001b[1;33m(\u001b[0m\u001b[0mn_factors\u001b[0m\u001b[1;33m=\u001b[0m\u001b[0mv\u001b[0m\u001b[1;33m)\u001b[0m\u001b[1;33m\u001b[0m\u001b[0m\n\u001b[0;32m     63\u001b[0m             \u001b[0mprint\u001b[0m\u001b[1;33m(\u001b[0m\u001b[0mmodel\u001b[0m\u001b[1;33m)\u001b[0m\u001b[1;33m\u001b[0m\u001b[0m\n\u001b[1;32m---> 64\u001b[1;33m             \u001b[0merror_val\u001b[0m\u001b[1;33m,\u001b[0m\u001b[0merror_train\u001b[0m \u001b[1;33m=\u001b[0m \u001b[0mcross_val\u001b[0m\u001b[1;33m(\u001b[0m\u001b[0mX_train\u001b[0m\u001b[1;33m,\u001b[0m\u001b[0my_train\u001b[0m\u001b[1;33m,\u001b[0m\u001b[0mmodel\u001b[0m\u001b[1;33m,\u001b[0m\u001b[1;36m3\u001b[0m\u001b[1;33m)\u001b[0m\u001b[1;33m\u001b[0m\u001b[0m\n\u001b[0m\u001b[0;32m     65\u001b[0m             \u001b[0mresult_df\u001b[0m \u001b[1;33m=\u001b[0m \u001b[0mresult_df\u001b[0m\u001b[1;33m.\u001b[0m\u001b[0mappend\u001b[0m\u001b[1;33m(\u001b[0m\u001b[1;33m{\u001b[0m\u001b[1;34m\"n_epochs\"\u001b[0m\u001b[1;33m:\u001b[0m\u001b[0mmodel\u001b[0m\u001b[1;33m.\u001b[0m\u001b[0mn_epochs\u001b[0m\u001b[1;33m,\u001b[0m\u001b[1;34m\"n_factors\"\u001b[0m\u001b[1;33m:\u001b[0m\u001b[0mmodel\u001b[0m\u001b[1;33m.\u001b[0m\u001b[0mn_factors\u001b[0m\u001b[1;33m,\u001b[0m\u001b[1;34m\"l_r\"\u001b[0m\u001b[1;33m:\u001b[0m\u001b[0mmodel\u001b[0m\u001b[1;33m.\u001b[0m\u001b[0ml_r\u001b[0m\u001b[1;33m,\u001b[0m\u001b[1;34m\"reg\"\u001b[0m\u001b[1;33m:\u001b[0m\u001b[0mmode\u001b[0m\u001b[1;33m.\u001b[0m\u001b[0mreg\u001b[0m\u001b[1;33m,\u001b[0m\u001b[1;34m\"RMSE_train\"\u001b[0m\u001b[1;33m:\u001b[0m\u001b[0merror_train\u001b[0m\u001b[1;33m,\u001b[0m\u001b[1;34m\"RMSE_test\"\u001b[0m\u001b[1;33m:\u001b[0m\u001b[0merror_val\u001b[0m\u001b[1;33m}\u001b[0m\u001b[1;33m,\u001b[0m\u001b[0mignore_index\u001b[0m\u001b[1;33m=\u001b[0m\u001b[1;32mTrue\u001b[0m\u001b[1;33m)\u001b[0m\u001b[1;33m\u001b[0m\u001b[0m\n\u001b[0;32m     66\u001b[0m     \u001b[1;32mif\u001b[0m \u001b[0mparam\u001b[0m \u001b[1;33m==\u001b[0m \u001b[1;34m\"n_epochs\"\u001b[0m\u001b[1;33m:\u001b[0m\u001b[1;33m\u001b[0m\u001b[0m\n",
      "\u001b[1;32m<ipython-input-106-4cdec2b40b31>\u001b[0m in \u001b[0;36mcross_val\u001b[1;34m(X, y, model, n_folds)\u001b[0m\n\u001b[0;32m     17\u001b[0m         \u001b[0my_train\u001b[0m\u001b[1;33m,\u001b[0m \u001b[0my_val\u001b[0m \u001b[1;33m=\u001b[0m \u001b[0my\u001b[0m\u001b[1;33m.\u001b[0m\u001b[0miloc\u001b[0m\u001b[1;33m[\u001b[0m\u001b[0mtrain_index\u001b[0m\u001b[1;33m]\u001b[0m\u001b[1;33m,\u001b[0m \u001b[0my\u001b[0m\u001b[1;33m.\u001b[0m\u001b[0miloc\u001b[0m\u001b[1;33m[\u001b[0m\u001b[0mval_index\u001b[0m\u001b[1;33m]\u001b[0m\u001b[1;33m\u001b[0m\u001b[0m\n\u001b[0;32m     18\u001b[0m \u001b[1;33m\u001b[0m\u001b[0m\n\u001b[1;32m---> 19\u001b[1;33m         \u001b[0mmodel\u001b[0m\u001b[1;33m.\u001b[0m\u001b[0mfit\u001b[0m\u001b[1;33m(\u001b[0m\u001b[0mX_train\u001b[0m\u001b[1;33m,\u001b[0m\u001b[0my_train\u001b[0m\u001b[1;33m)\u001b[0m\u001b[1;33m\u001b[0m\u001b[0m\n\u001b[0m\u001b[0;32m     20\u001b[0m         \u001b[0my_pred\u001b[0m \u001b[1;33m=\u001b[0m \u001b[0mmodel\u001b[0m\u001b[1;33m.\u001b[0m\u001b[0mpredict\u001b[0m\u001b[1;33m(\u001b[0m\u001b[0mX_val\u001b[0m\u001b[1;33m)\u001b[0m\u001b[1;33m\u001b[0m\u001b[0m\n\u001b[0;32m     21\u001b[0m \u001b[1;33m\u001b[0m\u001b[0m\n",
      "\u001b[1;32m<ipython-input-111-3362b951a23b>\u001b[0m in \u001b[0;36mfit\u001b[1;34m(self, X, y)\u001b[0m\n\u001b[0;32m    113\u001b[0m         \u001b[1;31m#self.R = self.create_baseline(self.R)\u001b[0m\u001b[1;33m\u001b[0m\u001b[1;33m\u001b[0m\u001b[0m\n\u001b[0;32m    114\u001b[0m \u001b[1;33m\u001b[0m\u001b[0m\n\u001b[1;32m--> 115\u001b[1;33m         \u001b[0mself\u001b[0m\u001b[1;33m.\u001b[0m\u001b[0msgd\u001b[0m\u001b[1;33m(\u001b[0m\u001b[1;33m)\u001b[0m\u001b[1;33m\u001b[0m\u001b[0m\n\u001b[0m\u001b[0;32m    116\u001b[0m \u001b[1;33m\u001b[0m\u001b[0m\n\u001b[0;32m    117\u001b[0m         \u001b[1;32mreturn\u001b[0m \u001b[0mself\u001b[0m\u001b[1;33m\u001b[0m\u001b[0m\n",
      "\u001b[1;32m<ipython-input-111-3362b951a23b>\u001b[0m in \u001b[0;36msgd\u001b[1;34m(self)\u001b[0m\n\u001b[0;32m     74\u001b[0m                 \u001b[0mself\u001b[0m\u001b[1;33m.\u001b[0m\u001b[0mb_m\u001b[0m\u001b[1;33m[\u001b[0m\u001b[0mm\u001b[0m\u001b[1;33m]\u001b[0m \u001b[1;33m=\u001b[0m \u001b[0mbm\u001b[0m \u001b[1;33m+\u001b[0m \u001b[0ml_r\u001b[0m\u001b[1;33m*\u001b[0m\u001b[1;33m(\u001b[0m\u001b[0merr\u001b[0m\u001b[1;33m-\u001b[0m\u001b[1;33m(\u001b[0m\u001b[0mreg\u001b[0m\u001b[1;33m*\u001b[0m\u001b[0mbm\u001b[0m\u001b[1;33m)\u001b[0m\u001b[1;33m)\u001b[0m\u001b[1;33m\u001b[0m\u001b[0m\n\u001b[0;32m     75\u001b[0m \u001b[1;33m\u001b[0m\u001b[0m\n\u001b[1;32m---> 76\u001b[1;33m                 \u001b[0mself\u001b[0m\u001b[1;33m.\u001b[0m\u001b[0mU\u001b[0m\u001b[1;33m.\u001b[0m\u001b[0mloc\u001b[0m\u001b[1;33m[\u001b[0m\u001b[0mu\u001b[0m\u001b[1;33m]\u001b[0m \u001b[1;33m=\u001b[0m \u001b[0mqu\u001b[0m \u001b[1;33m+\u001b[0m \u001b[0ml_r\u001b[0m\u001b[1;33m*\u001b[0m\u001b[1;33m(\u001b[0m\u001b[0merr\u001b[0m\u001b[1;33m*\u001b[0m\u001b[0mqi\u001b[0m \u001b[1;33m-\u001b[0m\u001b[1;33m(\u001b[0m\u001b[0mreg\u001b[0m\u001b[1;33m*\u001b[0m\u001b[0mqu\u001b[0m\u001b[1;33m)\u001b[0m\u001b[1;33m)\u001b[0m\u001b[1;33m\u001b[0m\u001b[0m\n\u001b[0m\u001b[0;32m     77\u001b[0m \u001b[1;33m\u001b[0m\u001b[0m\n\u001b[0;32m     78\u001b[0m                 \u001b[0mself\u001b[0m\u001b[1;33m.\u001b[0m\u001b[0mI\u001b[0m\u001b[1;33m.\u001b[0m\u001b[0mloc\u001b[0m\u001b[1;33m[\u001b[0m\u001b[0mm\u001b[0m\u001b[1;33m]\u001b[0m \u001b[1;33m=\u001b[0m \u001b[0mqi\u001b[0m \u001b[1;33m+\u001b[0m \u001b[0ml_r\u001b[0m\u001b[1;33m*\u001b[0m\u001b[1;33m(\u001b[0m\u001b[0merr\u001b[0m\u001b[1;33m*\u001b[0m\u001b[0mqu\u001b[0m \u001b[1;33m-\u001b[0m\u001b[1;33m(\u001b[0m\u001b[0mreg\u001b[0m\u001b[1;33m*\u001b[0m\u001b[0mqi\u001b[0m\u001b[1;33m)\u001b[0m\u001b[1;33m)\u001b[0m\u001b[1;33m\u001b[0m\u001b[0m\n",
      "\u001b[1;32m~\\Anaconda3\\lib\\site-packages\\pandas\\core\\indexing.py\u001b[0m in \u001b[0;36m__setitem__\u001b[1;34m(self, key, value)\u001b[0m\n\u001b[0;32m    187\u001b[0m             \u001b[0mkey\u001b[0m \u001b[1;33m=\u001b[0m \u001b[0mcom\u001b[0m\u001b[1;33m.\u001b[0m\u001b[0m_apply_if_callable\u001b[0m\u001b[1;33m(\u001b[0m\u001b[0mkey\u001b[0m\u001b[1;33m,\u001b[0m \u001b[0mself\u001b[0m\u001b[1;33m.\u001b[0m\u001b[0mobj\u001b[0m\u001b[1;33m)\u001b[0m\u001b[1;33m\u001b[0m\u001b[0m\n\u001b[0;32m    188\u001b[0m         \u001b[0mindexer\u001b[0m \u001b[1;33m=\u001b[0m \u001b[0mself\u001b[0m\u001b[1;33m.\u001b[0m\u001b[0m_get_setitem_indexer\u001b[0m\u001b[1;33m(\u001b[0m\u001b[0mkey\u001b[0m\u001b[1;33m)\u001b[0m\u001b[1;33m\u001b[0m\u001b[0m\n\u001b[1;32m--> 189\u001b[1;33m         \u001b[0mself\u001b[0m\u001b[1;33m.\u001b[0m\u001b[0m_setitem_with_indexer\u001b[0m\u001b[1;33m(\u001b[0m\u001b[0mindexer\u001b[0m\u001b[1;33m,\u001b[0m \u001b[0mvalue\u001b[0m\u001b[1;33m)\u001b[0m\u001b[1;33m\u001b[0m\u001b[0m\n\u001b[0m\u001b[0;32m    190\u001b[0m \u001b[1;33m\u001b[0m\u001b[0m\n\u001b[0;32m    191\u001b[0m     \u001b[1;32mdef\u001b[0m \u001b[0m_validate_key\u001b[0m\u001b[1;33m(\u001b[0m\u001b[0mself\u001b[0m\u001b[1;33m,\u001b[0m \u001b[0mkey\u001b[0m\u001b[1;33m,\u001b[0m \u001b[0maxis\u001b[0m\u001b[1;33m)\u001b[0m\u001b[1;33m:\u001b[0m\u001b[1;33m\u001b[0m\u001b[0m\n",
      "\u001b[1;32m~\\Anaconda3\\lib\\site-packages\\pandas\\core\\indexing.py\u001b[0m in \u001b[0;36m_setitem_with_indexer\u001b[1;34m(self, indexer, value)\u001b[0m\n\u001b[0;32m    649\u001b[0m             \u001b[0mself\u001b[0m\u001b[1;33m.\u001b[0m\u001b[0mobj\u001b[0m\u001b[1;33m.\u001b[0m\u001b[0m_consolidate_inplace\u001b[0m\u001b[1;33m(\u001b[0m\u001b[1;33m)\u001b[0m\u001b[1;33m\u001b[0m\u001b[0m\n\u001b[0;32m    650\u001b[0m             self.obj._data = self.obj._data.setitem(indexer=indexer,\n\u001b[1;32m--> 651\u001b[1;33m                                                     value=value)\n\u001b[0m\u001b[0;32m    652\u001b[0m             \u001b[0mself\u001b[0m\u001b[1;33m.\u001b[0m\u001b[0mobj\u001b[0m\u001b[1;33m.\u001b[0m\u001b[0m_maybe_update_cacher\u001b[0m\u001b[1;33m(\u001b[0m\u001b[0mclear\u001b[0m\u001b[1;33m=\u001b[0m\u001b[1;32mTrue\u001b[0m\u001b[1;33m)\u001b[0m\u001b[1;33m\u001b[0m\u001b[0m\n\u001b[0;32m    653\u001b[0m \u001b[1;33m\u001b[0m\u001b[0m\n",
      "\u001b[1;32m~\\Anaconda3\\lib\\site-packages\\pandas\\core\\internals.py\u001b[0m in \u001b[0;36msetitem\u001b[1;34m(self, **kwargs)\u001b[0m\n\u001b[0;32m   3691\u001b[0m \u001b[1;33m\u001b[0m\u001b[0m\n\u001b[0;32m   3692\u001b[0m     \u001b[1;32mdef\u001b[0m \u001b[0msetitem\u001b[0m\u001b[1;33m(\u001b[0m\u001b[0mself\u001b[0m\u001b[1;33m,\u001b[0m \u001b[1;33m**\u001b[0m\u001b[0mkwargs\u001b[0m\u001b[1;33m)\u001b[0m\u001b[1;33m:\u001b[0m\u001b[1;33m\u001b[0m\u001b[0m\n\u001b[1;32m-> 3693\u001b[1;33m         \u001b[1;32mreturn\u001b[0m \u001b[0mself\u001b[0m\u001b[1;33m.\u001b[0m\u001b[0mapply\u001b[0m\u001b[1;33m(\u001b[0m\u001b[1;34m'setitem'\u001b[0m\u001b[1;33m,\u001b[0m \u001b[1;33m**\u001b[0m\u001b[0mkwargs\u001b[0m\u001b[1;33m)\u001b[0m\u001b[1;33m\u001b[0m\u001b[0m\n\u001b[0m\u001b[0;32m   3694\u001b[0m \u001b[1;33m\u001b[0m\u001b[0m\n\u001b[0;32m   3695\u001b[0m     \u001b[1;32mdef\u001b[0m \u001b[0mputmask\u001b[0m\u001b[1;33m(\u001b[0m\u001b[0mself\u001b[0m\u001b[1;33m,\u001b[0m \u001b[1;33m**\u001b[0m\u001b[0mkwargs\u001b[0m\u001b[1;33m)\u001b[0m\u001b[1;33m:\u001b[0m\u001b[1;33m\u001b[0m\u001b[0m\n",
      "\u001b[1;32m~\\Anaconda3\\lib\\site-packages\\pandas\\core\\internals.py\u001b[0m in \u001b[0;36mapply\u001b[1;34m(self, f, axes, filter, do_integrity_check, consolidate, **kwargs)\u001b[0m\n\u001b[0;32m   3579\u001b[0m \u001b[1;33m\u001b[0m\u001b[0m\n\u001b[0;32m   3580\u001b[0m             \u001b[0mkwargs\u001b[0m\u001b[1;33m[\u001b[0m\u001b[1;34m'mgr'\u001b[0m\u001b[1;33m]\u001b[0m \u001b[1;33m=\u001b[0m \u001b[0mself\u001b[0m\u001b[1;33m\u001b[0m\u001b[0m\n\u001b[1;32m-> 3581\u001b[1;33m             \u001b[0mapplied\u001b[0m \u001b[1;33m=\u001b[0m \u001b[0mgetattr\u001b[0m\u001b[1;33m(\u001b[0m\u001b[0mb\u001b[0m\u001b[1;33m,\u001b[0m \u001b[0mf\u001b[0m\u001b[1;33m)\u001b[0m\u001b[1;33m(\u001b[0m\u001b[1;33m**\u001b[0m\u001b[0mkwargs\u001b[0m\u001b[1;33m)\u001b[0m\u001b[1;33m\u001b[0m\u001b[0m\n\u001b[0m\u001b[0;32m   3582\u001b[0m             \u001b[0mresult_blocks\u001b[0m \u001b[1;33m=\u001b[0m \u001b[0m_extend_blocks\u001b[0m\u001b[1;33m(\u001b[0m\u001b[0mapplied\u001b[0m\u001b[1;33m,\u001b[0m \u001b[0mresult_blocks\u001b[0m\u001b[1;33m)\u001b[0m\u001b[1;33m\u001b[0m\u001b[0m\n\u001b[0;32m   3583\u001b[0m \u001b[1;33m\u001b[0m\u001b[0m\n",
      "\u001b[1;32m~\\Anaconda3\\lib\\site-packages\\pandas\\core\\internals.py\u001b[0m in \u001b[0;36msetitem\u001b[1;34m(self, indexer, value, mgr)\u001b[0m\n\u001b[0;32m    879\u001b[0m \u001b[1;33m\u001b[0m\u001b[0m\n\u001b[0;32m    880\u001b[0m         \u001b[1;31m# value must be storeable at this moment\u001b[0m\u001b[1;33m\u001b[0m\u001b[1;33m\u001b[0m\u001b[0m\n\u001b[1;32m--> 881\u001b[1;33m         \u001b[0marr_value\u001b[0m \u001b[1;33m=\u001b[0m \u001b[0mnp\u001b[0m\u001b[1;33m.\u001b[0m\u001b[0marray\u001b[0m\u001b[1;33m(\u001b[0m\u001b[0mvalue\u001b[0m\u001b[1;33m)\u001b[0m\u001b[1;33m\u001b[0m\u001b[0m\n\u001b[0m\u001b[0;32m    882\u001b[0m \u001b[1;33m\u001b[0m\u001b[0m\n\u001b[0;32m    883\u001b[0m         \u001b[1;31m# cast the values to a type that can hold nan (if necessary)\u001b[0m\u001b[1;33m\u001b[0m\u001b[1;33m\u001b[0m\u001b[0m\n",
      "\u001b[1;31mKeyboardInterrupt\u001b[0m: "
     ]
    }
   ],
   "source": [
    "df3 = grid_search(X_train,y_train,\"n_factors\",[25,50,75,100])"
   ]
  },
  {
   "cell_type": "code",
   "execution_count": 117,
   "metadata": {},
   "outputs": [
    {
     "data": {
      "text/html": [
       "<div>\n",
       "<style scoped>\n",
       "    .dataframe tbody tr th:only-of-type {\n",
       "        vertical-align: middle;\n",
       "    }\n",
       "\n",
       "    .dataframe tbody tr th {\n",
       "        vertical-align: top;\n",
       "    }\n",
       "\n",
       "    .dataframe thead th {\n",
       "        text-align: right;\n",
       "    }\n",
       "</style>\n",
       "<table border=\"1\" class=\"dataframe\">\n",
       "  <thead>\n",
       "    <tr style=\"text-align: right;\">\n",
       "      <th></th>\n",
       "      <th>n_epochs</th>\n",
       "      <th>n_factors</th>\n",
       "      <th>l_r</th>\n",
       "      <th>reg</th>\n",
       "      <th>RMSE_train</th>\n",
       "      <th>RMSE_test</th>\n",
       "    </tr>\n",
       "  </thead>\n",
       "  <tbody>\n",
       "    <tr>\n",
       "      <th>0</th>\n",
       "      <td>20.0</td>\n",
       "      <td>100.0</td>\n",
       "      <td>0.1000</td>\n",
       "      <td>0.02</td>\n",
       "      <td>0.099511</td>\n",
       "      <td>0.898686</td>\n",
       "    </tr>\n",
       "    <tr>\n",
       "      <th>1</th>\n",
       "      <td>20.0</td>\n",
       "      <td>100.0</td>\n",
       "      <td>0.0100</td>\n",
       "      <td>0.02</td>\n",
       "      <td>0.771272</td>\n",
       "      <td>0.877357</td>\n",
       "    </tr>\n",
       "    <tr>\n",
       "      <th>2</th>\n",
       "      <td>20.0</td>\n",
       "      <td>100.0</td>\n",
       "      <td>0.0010</td>\n",
       "      <td>0.02</td>\n",
       "      <td>0.829891</td>\n",
       "      <td>0.883900</td>\n",
       "    </tr>\n",
       "    <tr>\n",
       "      <th>3</th>\n",
       "      <td>20.0</td>\n",
       "      <td>100.0</td>\n",
       "      <td>0.0001</td>\n",
       "      <td>0.02</td>\n",
       "      <td>0.840733</td>\n",
       "      <td>0.888942</td>\n",
       "    </tr>\n",
       "  </tbody>\n",
       "</table>\n",
       "</div>"
      ],
      "text/plain": [
       "   n_epochs  n_factors     l_r   reg  RMSE_train  RMSE_test\n",
       "0      20.0      100.0  0.1000  0.02    0.099511   0.898686\n",
       "1      20.0      100.0  0.0100  0.02    0.771272   0.877357\n",
       "2      20.0      100.0  0.0010  0.02    0.829891   0.883900\n",
       "3      20.0      100.0  0.0001  0.02    0.840733   0.888942"
      ]
     },
     "execution_count": 117,
     "metadata": {},
     "output_type": "execute_result"
    }
   ],
   "source": [
    "df1 = df\n",
    "df1"
   ]
  },
  {
   "cell_type": "code",
   "execution_count": 177,
   "metadata": {},
   "outputs": [],
   "source": [
    "df1 = df1.sort_values(by=['l_r'],ascending=False)"
   ]
  },
  {
   "cell_type": "code",
   "execution_count": 179,
   "metadata": {},
   "outputs": [],
   "source": [
    "df1 = df1.drop(df1.index[0])"
   ]
  },
  {
   "cell_type": "code",
   "execution_count": 180,
   "metadata": {},
   "outputs": [
    {
     "data": {
      "text/html": [
       "<div>\n",
       "<style scoped>\n",
       "    .dataframe tbody tr th:only-of-type {\n",
       "        vertical-align: middle;\n",
       "    }\n",
       "\n",
       "    .dataframe tbody tr th {\n",
       "        vertical-align: top;\n",
       "    }\n",
       "\n",
       "    .dataframe thead th {\n",
       "        text-align: right;\n",
       "    }\n",
       "</style>\n",
       "<table border=\"1\" class=\"dataframe\">\n",
       "  <thead>\n",
       "    <tr style=\"text-align: right;\">\n",
       "      <th></th>\n",
       "      <th>n_epochs</th>\n",
       "      <th>n_factors</th>\n",
       "      <th>l_r</th>\n",
       "      <th>reg</th>\n",
       "      <th>RMSE_train</th>\n",
       "      <th>RMSE_test</th>\n",
       "    </tr>\n",
       "  </thead>\n",
       "  <tbody>\n",
       "    <tr>\n",
       "      <th>1</th>\n",
       "      <td>20.0</td>\n",
       "      <td>100.0</td>\n",
       "      <td>0.0100</td>\n",
       "      <td>0.02</td>\n",
       "      <td>0.771272</td>\n",
       "      <td>0.877357</td>\n",
       "    </tr>\n",
       "    <tr>\n",
       "      <th>4</th>\n",
       "      <td>20.0</td>\n",
       "      <td>100.0</td>\n",
       "      <td>0.0050</td>\n",
       "      <td>0.02</td>\n",
       "      <td>0.807128</td>\n",
       "      <td>0.878824</td>\n",
       "    </tr>\n",
       "    <tr>\n",
       "      <th>2</th>\n",
       "      <td>20.0</td>\n",
       "      <td>100.0</td>\n",
       "      <td>0.0010</td>\n",
       "      <td>0.02</td>\n",
       "      <td>0.829891</td>\n",
       "      <td>0.883900</td>\n",
       "    </tr>\n",
       "    <tr>\n",
       "      <th>3</th>\n",
       "      <td>20.0</td>\n",
       "      <td>100.0</td>\n",
       "      <td>0.0001</td>\n",
       "      <td>0.02</td>\n",
       "      <td>0.840733</td>\n",
       "      <td>0.888942</td>\n",
       "    </tr>\n",
       "  </tbody>\n",
       "</table>\n",
       "</div>"
      ],
      "text/plain": [
       "   n_epochs  n_factors     l_r   reg  RMSE_train  RMSE_test\n",
       "1      20.0      100.0  0.0100  0.02    0.771272   0.877357\n",
       "4      20.0      100.0  0.0050  0.02    0.807128   0.878824\n",
       "2      20.0      100.0  0.0010  0.02    0.829891   0.883900\n",
       "3      20.0      100.0  0.0001  0.02    0.840733   0.888942"
      ]
     },
     "execution_count": 180,
     "metadata": {},
     "output_type": "execute_result"
    }
   ],
   "source": [
    "df1"
   ]
  },
  {
   "cell_type": "code",
   "execution_count": 141,
   "metadata": {},
   "outputs": [],
   "source": [
    "df = pd.DataFrame({\"n_epochs\":[10.0,15.0,20.0,25.0],\n",
    "                  \"n_factors\":[100.0,100.0,100.0,100.0],\n",
    "                  \"l_r\":[0.005,0.005,0.005,0.005],\n",
    "                  \"reg\":[0.02,0.02,0.02,0.02],\n",
    "                  \"RMSE_train\":[0.821462,0.813842,0.807128,0.800499],\n",
    "                  \"RMSE_test\":[0.880808,0.879534,0.878824,0.878369]})\n"
   ]
  },
  {
   "cell_type": "code",
   "execution_count": 152,
   "metadata": {},
   "outputs": [
    {
     "data": {
      "text/html": [
       "<div>\n",
       "<style scoped>\n",
       "    .dataframe tbody tr th:only-of-type {\n",
       "        vertical-align: middle;\n",
       "    }\n",
       "\n",
       "    .dataframe tbody tr th {\n",
       "        vertical-align: top;\n",
       "    }\n",
       "\n",
       "    .dataframe thead th {\n",
       "        text-align: right;\n",
       "    }\n",
       "</style>\n",
       "<table border=\"1\" class=\"dataframe\">\n",
       "  <thead>\n",
       "    <tr style=\"text-align: right;\">\n",
       "      <th></th>\n",
       "      <th>n_epochs</th>\n",
       "      <th>n_factors</th>\n",
       "      <th>l_r</th>\n",
       "      <th>reg</th>\n",
       "      <th>RMSE_train</th>\n",
       "      <th>RMSE_test</th>\n",
       "    </tr>\n",
       "  </thead>\n",
       "  <tbody>\n",
       "    <tr>\n",
       "      <th>0</th>\n",
       "      <td>10.0</td>\n",
       "      <td>100.0</td>\n",
       "      <td>0.005</td>\n",
       "      <td>0.02</td>\n",
       "      <td>0.821462</td>\n",
       "      <td>0.880808</td>\n",
       "    </tr>\n",
       "    <tr>\n",
       "      <th>1</th>\n",
       "      <td>15.0</td>\n",
       "      <td>100.0</td>\n",
       "      <td>0.005</td>\n",
       "      <td>0.02</td>\n",
       "      <td>0.813842</td>\n",
       "      <td>0.879534</td>\n",
       "    </tr>\n",
       "    <tr>\n",
       "      <th>2</th>\n",
       "      <td>20.0</td>\n",
       "      <td>100.0</td>\n",
       "      <td>0.005</td>\n",
       "      <td>0.02</td>\n",
       "      <td>0.807128</td>\n",
       "      <td>0.878824</td>\n",
       "    </tr>\n",
       "    <tr>\n",
       "      <th>3</th>\n",
       "      <td>25.0</td>\n",
       "      <td>100.0</td>\n",
       "      <td>0.005</td>\n",
       "      <td>0.02</td>\n",
       "      <td>0.800499</td>\n",
       "      <td>0.878369</td>\n",
       "    </tr>\n",
       "  </tbody>\n",
       "</table>\n",
       "</div>"
      ],
      "text/plain": [
       "   n_epochs  n_factors    l_r   reg  RMSE_train  RMSE_test\n",
       "0      10.0      100.0  0.005  0.02    0.821462   0.880808\n",
       "1      15.0      100.0  0.005  0.02    0.813842   0.879534\n",
       "2      20.0      100.0  0.005  0.02    0.807128   0.878824\n",
       "3      25.0      100.0  0.005  0.02    0.800499   0.878369"
      ]
     },
     "execution_count": 152,
     "metadata": {},
     "output_type": "execute_result"
    }
   ],
   "source": [
    "df"
   ]
  },
  {
   "cell_type": "code",
   "execution_count": 118,
   "metadata": {},
   "outputs": [
    {
     "data": {
      "text/html": [
       "<div>\n",
       "<style scoped>\n",
       "    .dataframe tbody tr th:only-of-type {\n",
       "        vertical-align: middle;\n",
       "    }\n",
       "\n",
       "    .dataframe tbody tr th {\n",
       "        vertical-align: top;\n",
       "    }\n",
       "\n",
       "    .dataframe thead th {\n",
       "        text-align: right;\n",
       "    }\n",
       "</style>\n",
       "<table border=\"1\" class=\"dataframe\">\n",
       "  <thead>\n",
       "    <tr style=\"text-align: right;\">\n",
       "      <th></th>\n",
       "      <th>n_epochs</th>\n",
       "      <th>n_factors</th>\n",
       "      <th>l_r</th>\n",
       "      <th>reg</th>\n",
       "      <th>RMSE_train</th>\n",
       "      <th>RMSE_test</th>\n",
       "    </tr>\n",
       "  </thead>\n",
       "  <tbody>\n",
       "    <tr>\n",
       "      <th>0</th>\n",
       "      <td>20.0</td>\n",
       "      <td>100.0</td>\n",
       "      <td>0.1000</td>\n",
       "      <td>0.02</td>\n",
       "      <td>0.099511</td>\n",
       "      <td>0.898686</td>\n",
       "    </tr>\n",
       "    <tr>\n",
       "      <th>1</th>\n",
       "      <td>20.0</td>\n",
       "      <td>100.0</td>\n",
       "      <td>0.0100</td>\n",
       "      <td>0.02</td>\n",
       "      <td>0.771272</td>\n",
       "      <td>0.877357</td>\n",
       "    </tr>\n",
       "    <tr>\n",
       "      <th>2</th>\n",
       "      <td>20.0</td>\n",
       "      <td>100.0</td>\n",
       "      <td>0.0010</td>\n",
       "      <td>0.02</td>\n",
       "      <td>0.829891</td>\n",
       "      <td>0.883900</td>\n",
       "    </tr>\n",
       "    <tr>\n",
       "      <th>3</th>\n",
       "      <td>20.0</td>\n",
       "      <td>100.0</td>\n",
       "      <td>0.0001</td>\n",
       "      <td>0.02</td>\n",
       "      <td>0.840733</td>\n",
       "      <td>0.888942</td>\n",
       "    </tr>\n",
       "    <tr>\n",
       "      <th>4</th>\n",
       "      <td>20.0</td>\n",
       "      <td>100.0</td>\n",
       "      <td>0.0050</td>\n",
       "      <td>0.02</td>\n",
       "      <td>0.807128</td>\n",
       "      <td>0.878824</td>\n",
       "    </tr>\n",
       "  </tbody>\n",
       "</table>\n",
       "</div>"
      ],
      "text/plain": [
       "   n_epochs  n_factors     l_r   reg  RMSE_train  RMSE_test\n",
       "0      20.0      100.0  0.1000  0.02    0.099511   0.898686\n",
       "1      20.0      100.0  0.0100  0.02    0.771272   0.877357\n",
       "2      20.0      100.0  0.0010  0.02    0.829891   0.883900\n",
       "3      20.0      100.0  0.0001  0.02    0.840733   0.888942\n",
       "4      20.0      100.0  0.0050  0.02    0.807128   0.878824"
      ]
     },
     "execution_count": 118,
     "metadata": {},
     "output_type": "execute_result"
    }
   ],
   "source": [
    "df1 = df.append({'n_epochs' : 20.0 , 'n_factors' : 100,'l_r' : 0.005,'reg' : 0.02,'RMSE_train' : 0.807128,'RMSE_test' : 0.878824} , ignore_index=True)\n",
    "df1"
   ]
  },
  {
   "cell_type": "code",
   "execution_count": 143,
   "metadata": {},
   "outputs": [],
   "source": [
    "\n",
    "df2 = pd.DataFrame({\"n_epochs\":[20.0,20.0,20.0,20.0],\n",
    "                    \"n_factors\":[100.0,100.0,100.0,100.0],\n",
    "                    \"l_r\":[0.01,0.01,0.01,0.01],\n",
    "                    \"reg\":[0.1,0.01,0.02,0.001],\n",
    "                    \"RMSE_train\":[0.799801,0.749585,0.771272,0.718165],\n",
    "                    \"RMSE_test\":[0.878690,0.876614,0.877357,0.876336]})"
   ]
  },
  {
   "cell_type": "code",
   "execution_count": 191,
   "metadata": {},
   "outputs": [
    {
     "data": {
      "text/html": [
       "<div>\n",
       "<style scoped>\n",
       "    .dataframe tbody tr th:only-of-type {\n",
       "        vertical-align: middle;\n",
       "    }\n",
       "\n",
       "    .dataframe tbody tr th {\n",
       "        vertical-align: top;\n",
       "    }\n",
       "\n",
       "    .dataframe thead th {\n",
       "        text-align: right;\n",
       "    }\n",
       "</style>\n",
       "<table border=\"1\" class=\"dataframe\">\n",
       "  <thead>\n",
       "    <tr style=\"text-align: right;\">\n",
       "      <th></th>\n",
       "      <th>n_epochs</th>\n",
       "      <th>n_factors</th>\n",
       "      <th>l_r</th>\n",
       "      <th>reg</th>\n",
       "      <th>RMSE_train</th>\n",
       "      <th>RMSE_test</th>\n",
       "    </tr>\n",
       "  </thead>\n",
       "  <tbody>\n",
       "    <tr>\n",
       "      <th>0</th>\n",
       "      <td>20.0</td>\n",
       "      <td>100.0</td>\n",
       "      <td>0.01</td>\n",
       "      <td>0.100</td>\n",
       "      <td>0.799801</td>\n",
       "      <td>0.878690</td>\n",
       "    </tr>\n",
       "    <tr>\n",
       "      <th>2</th>\n",
       "      <td>20.0</td>\n",
       "      <td>100.0</td>\n",
       "      <td>0.01</td>\n",
       "      <td>0.020</td>\n",
       "      <td>0.771272</td>\n",
       "      <td>0.877357</td>\n",
       "    </tr>\n",
       "    <tr>\n",
       "      <th>1</th>\n",
       "      <td>20.0</td>\n",
       "      <td>100.0</td>\n",
       "      <td>0.01</td>\n",
       "      <td>0.010</td>\n",
       "      <td>0.749585</td>\n",
       "      <td>0.876614</td>\n",
       "    </tr>\n",
       "    <tr>\n",
       "      <th>3</th>\n",
       "      <td>20.0</td>\n",
       "      <td>100.0</td>\n",
       "      <td>0.01</td>\n",
       "      <td>0.001</td>\n",
       "      <td>0.718165</td>\n",
       "      <td>0.876336</td>\n",
       "    </tr>\n",
       "  </tbody>\n",
       "</table>\n",
       "</div>"
      ],
      "text/plain": [
       "   n_epochs  n_factors   l_r    reg  RMSE_train  RMSE_test\n",
       "0      20.0      100.0  0.01  0.100    0.799801   0.878690\n",
       "2      20.0      100.0  0.01  0.020    0.771272   0.877357\n",
       "1      20.0      100.0  0.01  0.010    0.749585   0.876614\n",
       "3      20.0      100.0  0.01  0.001    0.718165   0.876336"
      ]
     },
     "execution_count": 191,
     "metadata": {},
     "output_type": "execute_result"
    }
   ],
   "source": [
    "df2 = df2.sort_values(by=['reg'],ascending=False)\n",
    "df2"
   ]
  },
  {
   "cell_type": "code",
   "execution_count": 147,
   "metadata": {},
   "outputs": [
    {
     "data": {
      "text/html": [
       "<div>\n",
       "<style scoped>\n",
       "    .dataframe tbody tr th:only-of-type {\n",
       "        vertical-align: middle;\n",
       "    }\n",
       "\n",
       "    .dataframe tbody tr th {\n",
       "        vertical-align: top;\n",
       "    }\n",
       "\n",
       "    .dataframe thead th {\n",
       "        text-align: right;\n",
       "    }\n",
       "</style>\n",
       "<table border=\"1\" class=\"dataframe\">\n",
       "  <thead>\n",
       "    <tr style=\"text-align: right;\">\n",
       "      <th></th>\n",
       "      <th>n_epochs</th>\n",
       "      <th>n_factors</th>\n",
       "      <th>l_r</th>\n",
       "      <th>reg</th>\n",
       "      <th>RMSE_train</th>\n",
       "      <th>RMSE_test</th>\n",
       "    </tr>\n",
       "  </thead>\n",
       "  <tbody>\n",
       "    <tr>\n",
       "      <th>0</th>\n",
       "      <td>20.0</td>\n",
       "      <td>25.0</td>\n",
       "      <td>0.01</td>\n",
       "      <td>0.02</td>\n",
       "      <td>0.791664</td>\n",
       "      <td>0.878535</td>\n",
       "    </tr>\n",
       "    <tr>\n",
       "      <th>1</th>\n",
       "      <td>20.0</td>\n",
       "      <td>50.0</td>\n",
       "      <td>0.01</td>\n",
       "      <td>0.02</td>\n",
       "      <td>0.785218</td>\n",
       "      <td>0.878274</td>\n",
       "    </tr>\n",
       "    <tr>\n",
       "      <th>2</th>\n",
       "      <td>20.0</td>\n",
       "      <td>75.0</td>\n",
       "      <td>0.01</td>\n",
       "      <td>0.02</td>\n",
       "      <td>0.777816</td>\n",
       "      <td>0.877732</td>\n",
       "    </tr>\n",
       "    <tr>\n",
       "      <th>3</th>\n",
       "      <td>20.0</td>\n",
       "      <td>100.0</td>\n",
       "      <td>0.01</td>\n",
       "      <td>0.02</td>\n",
       "      <td>0.771272</td>\n",
       "      <td>0.877357</td>\n",
       "    </tr>\n",
       "  </tbody>\n",
       "</table>\n",
       "</div>"
      ],
      "text/plain": [
       "   n_epochs  n_factors   l_r   reg  RMSE_train  RMSE_test\n",
       "0      20.0       25.0  0.01  0.02    0.791664   0.878535\n",
       "1      20.0       50.0  0.01  0.02    0.785218   0.878274\n",
       "2      20.0       75.0  0.01  0.02    0.777816   0.877732\n",
       "3      20.0      100.0  0.01  0.02    0.771272   0.877357"
      ]
     },
     "execution_count": 147,
     "metadata": {},
     "output_type": "execute_result"
    }
   ],
   "source": [
    "df3 = pd.DataFrame({\"n_epochs\":[20.0,20.0,20.0,20.0],\n",
    "                    \"n_factors\":[25.0,50.0,75.0,100.0],\n",
    "                    \"l_r\":[0.01,0.01,0.01,0.01],\n",
    "                    \"reg\":[0.02,0.02,0.02,0.02],\n",
    "                    \"RMSE_train\":[0.791664,0.785218,0.777816,0.771272],\n",
    "                    \"RMSE_test\":[0.878535,0.878274,0.877732,0.877357]})\n",
    "df3"
   ]
  },
  {
   "cell_type": "code",
   "execution_count": 199,
   "metadata": {},
   "outputs": [],
   "source": [
    "import matplotlib.pyplot as plt\n",
    "%matplotlib inline\n",
    "\n",
    "def plot_error(param,title,df_k,y_lim):\n",
    "    df_p = df_k.copy()\n",
    "    df_p = df_p.set_index(param)\n",
    "    plt.style.use(\"seaborn\")\n",
    "\n",
    "    df_p.RMSE_train.plot(x=param,label=\"train_err\")\n",
    "    df_p.RMSE_test.plot(x=param,label=\"test err\")\n",
    "    plt.legend()\n",
    "    plt.ylim(y_lim)\n",
    "    plt.ylabel(\"RMSE\")\n",
    "    plt.title(title);"
   ]
  },
  {
   "cell_type": "code",
   "execution_count": 200,
   "metadata": {},
   "outputs": [
    {
     "data": {
      "image/png": "[encoded data removed]",
      "text/plain": [
       "<Figure size 576x396 with 1 Axes>"
      ]
     },
     "metadata": {},
     "output_type": "display_data"
    }
   ],
   "source": [
    "plot_error(\"n_epochs\",\"Train error across different epochs\",df,(0.8,0.822))"
   ]
  },
  {
   "cell_type": "code",
   "execution_count": 201,
   "metadata": {},
   "outputs": [
    {
     "data": {
      "image/png": "[encoded data removed]",
      "text/plain": [
       "<Figure size 576x396 with 1 Axes>"
      ]
     },
     "metadata": {},
     "output_type": "display_data"
    }
   ],
   "source": [
    "plot_error(\"n_epochs\",\"Test error across different epochs\",df,(0.878,0.881))"
   ]
  },
  {
   "cell_type": "code",
   "execution_count": null,
   "metadata": {},
   "outputs": [],
   "source": [
    "Observations number of epochs:\n",
    "    (1) - test error seems to decay in an exponential manner although much slower than learning rate\n",
    "    (2) - train error decays in an almost linear manner\n",
    "    (3) - the decrease in RMSE between 10 and 25 epochs is only around 0.002 which is expected if we assum the error \n",
    "    is able to converge with a low ammount of epochs and 0.02 learning rate"
   ]
  },
  {
   "cell_type": "code",
   "execution_count": 202,
   "metadata": {},
   "outputs": [
    {
     "data": {
      "image/png": "[encoded data removed]",
      "text/plain": [
       "<Figure size 576x396 with 1 Axes>"
      ]
     },
     "metadata": {},
     "output_type": "display_data"
    }
   ],
   "source": [
    "plot_error(\"l_r\",\"Train error across different learning rates\",df1,(0.772,0.841))"
   ]
  },
  {
   "cell_type": "code",
   "execution_count": 203,
   "metadata": {},
   "outputs": [
    {
     "data": {
      "image/png": "[encoded data removed]",
      "text/plain": [
       "<Figure size 576x396 with 1 Axes>"
      ]
     },
     "metadata": {},
     "output_type": "display_data"
    }
   ],
   "source": [
    "plot_error(\"l_r\",\"Test error across different learning rates\",df1,(0.8772,0.8895))"
   ]
  },
  {
   "cell_type": "code",
   "execution_count": null,
   "metadata": {},
   "outputs": [],
   "source": [
    "Observations learning rate:\n",
    "    (1) - the test error decreases exponentially with the increase of learning rate\n",
    "    (2) - the training error shows a much slower decay (weird)\n",
    "    (3) - chaging the learning rate seems to have the biggest impact on performance with 0.01 RMSE difference between 0.01 and 0.0001\n",
    "    "
   ]
  },
  {
   "cell_type": "code",
   "execution_count": 204,
   "metadata": {},
   "outputs": [
    {
     "data": {
      "image/png": "[encoded data removed]",
      "text/plain": [
       "<Figure size 576x396 with 1 Axes>"
      ]
     },
     "metadata": {},
     "output_type": "display_data"
    }
   ],
   "source": [
    "plot_error(\"reg\",\"Train error across different regularizations\",df2,(0.717,0.801))"
   ]
  },
  {
   "cell_type": "code",
   "execution_count": 205,
   "metadata": {},
   "outputs": [
    {
     "data": {
      "image/png": "[encoded data removed]",
      "text/plain": [
       "<Figure size 576x396 with 1 Axes>"
      ]
     },
     "metadata": {},
     "output_type": "display_data"
    }
   ],
   "source": [
    "plot_error(\"reg\",\"Test error across different regularizations\",df2,(0.876,0.879))"
   ]
  },
  {
   "cell_type": "code",
   "execution_count": null,
   "metadata": {},
   "outputs": [],
   "source": [
    "Observations regularization:\n",
    "    (1) - it seems both test and train erro increase with the increase of the regularization parameter, which indicates we should be careful when using high values\n",
    "    (2) - the effect of the regularization parameter seems to be neglegible (only 0.003 RMSE) between 0.001 and 0.1\n",
    "    (3) - Point (2) is expected since the regularization parameter is usually used to prevent overfitting and not to increase performance\n",
    "    \n",
    "    "
   ]
  },
  {
   "cell_type": "code",
   "execution_count": 206,
   "metadata": {},
   "outputs": [
    {
     "data": {
      "image/png": "[encoded data removed]",
      "text/plain": [
       "<Figure size 576x396 with 1 Axes>"
      ]
     },
     "metadata": {},
     "output_type": "display_data"
    }
   ],
   "source": [
    "plot_error(\"n_factors\",\"Train error across different numbers of latent factors\",df3,(0.77,0.793))"
   ]
  },
  {
   "cell_type": "code",
   "execution_count": 207,
   "metadata": {},
   "outputs": [
    {
     "data": {
      "image/png": "[encoded data removed]",
      "text/plain": [
       "<Figure size 576x396 with 1 Axes>"
      ]
     },
     "metadata": {},
     "output_type": "display_data"
    }
   ],
   "source": [
    "plot_error(\"n_factors\",\"Test error across different numbers of latent factors\",df3,(0.8772,0.8786))"
   ]
  },
  {
   "cell_type": "code",
   "execution_count": null,
   "metadata": {},
   "outputs": [],
   "source": [
    "Observations number of factors:\n",
    "    (1) - The test error falls pretty heavily between 50 and 75 latent factors and starts to stabilize after that\n",
    "    (2) - Inside the boundaries we studied (25-100 factors) there is little improvement (~0.0022 RMSE) between 25 (0.8785 RMSE) and 100 (0.8773 RMSE) this indicates that choosing\n",
    "    a number close to 25 is possibly beneficial since it should decrease computational time\n",
    "    (3) - Train error seems to fall monotonically and since the test error doesnt seem to increase we dont see signs of overfitting"
   ]
  }
 ],
 "metadata": {
  "kernelspec": {
   "display_name": "'Python Interactive'",
   "language": "python",
   "name": "24d3b7dc-5817-4c9c-bb43-e2b0576a6709"
  },
  "language_info": {
   "codemirror_mode": {
    "name": "ipython",
    "version": 3
   },
   "file_extension": ".py",
   "mimetype": "text/x-python",
   "name": "python",
   "nbconvert_exporter": "python",
   "pygments_lexer": "ipython3",
   "version": "3.7.0"
  }
 },
 "nbformat": 4,
 "nbformat_minor": 2
}
