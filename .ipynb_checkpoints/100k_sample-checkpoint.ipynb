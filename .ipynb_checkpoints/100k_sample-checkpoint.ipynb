{
 "cells": [
  {
   "cell_type": "code",
   "execution_count": 19,
   "metadata": {},
   "outputs": [],
   "source": [
    "import pandas as pd\n",
    "import numpy as np\n",
    "import scipy.sparse as sparse\n",
    "from scipy.sparse.linalg import spsolve\n",
    "import implicit\n",
    "from sklearn.utils import validation as skval\n",
    "\n",
    "def make_sparse_matrix(data, rows, cols):\n",
    "    skval.check_consistent_length(data, rows, cols)\n",
    "    rows = rows.astype(\"category\").cat.codes\n",
    "    cols = cols.astype(\"category\").cat.codes\n",
    "    data, rows, cols = (np.asarray(x) for x in (data.astype(float), rows, cols))\n",
    "    shape = (np.unique(rows).shape[0], np.unique(cols).shape[0])\n",
    "\n",
    "    return sparse.csr_matrix((data, (rows, cols)), shape = shape)"
   ]
  },
  {
   "cell_type": "code",
   "execution_count": 20,
   "metadata": {},
   "outputs": [],
   "source": [
    "class ALSRecommender():\n",
    "    def __init__(self, iterations = 20, latent = 10, alpha = 40, regularizer = 0.1):        \n",
    "        self.iterations = iterations\n",
    "        self.latent = latent\n",
    "        self.alpha = 40\n",
    "        self.regularizer = 0.1\n",
    "        self.S = None\n",
    "\n",
    "    def fit(self, sample):\n",
    "        #Instead of pivot_table the als from the implicit library expects a sparse matrix\n",
    "        self.S = sample\n",
    "        self.S.movieId = self.S.movieId.astype(\"category\").cat.codes\n",
    "        self.S.userId = self.S.userId.astype(\"category\").cat.codes\n",
    "        self.movie_user_matrix = make_sparse_matrix(self.S.rating, self.S.movieId, self.S.userId)\n",
    "        self.user_movie_matrix = make_sparse_matrix(self.S.rating, self.S.userId, self.S.movieId)\n",
    "        \n",
    "        confidence = (self.movie_user_matrix * self.alpha).astype(\"double\")\n",
    "\n",
    "        #Als model with 10 latent factor, lambda = 0.1 and 20 alternating iterations\n",
    "        als_model = implicit.als.AlternatingLeastSquares(factors = self.latent, regularization = self.regularizer, iterations = self.iterations)\n",
    "        als_model.fit(confidence)\n",
    "        \n",
    "        self.user_vectors = als_model.user_factors\n",
    "        self.movie_vectors = als_model.item_factors\n",
    "        \n",
    "        return self.user_vectors, self.movie_vectors\n",
    "    \n",
    "    def similar_to_movie(self, movie_id, n_similar):\n",
    "        #scores = V dot V.T[movie] -> Item recommendation\n",
    "        movie_vec = self.movie_vectors[movie_id].T #será que posso fazer com a movie_user_matrix? assim dava para testar\n",
    "\n",
    "        movie_norms = np.sqrt((self.movie_vectors * self.movie_vectors).sum(axis = 1))\n",
    "\n",
    "        scores = np.dot(self.movie_vectors, movie_vec) / movie_norms\n",
    "        top_10 = np.argpartition(scores, -n_similar)[-n_similar:]\n",
    "        similar = sorted(zip(top_10, scores[top_10] / movie_norms[n_similar]), key=lambda x: -x[1])\n",
    "        \n",
    "        titles = []\n",
    "        similarity = []\n",
    "        for i in similar:\n",
    "            idx, sim = i\n",
    "            titles.append(self.S.loc[self.S.movieId == idx].title.iloc[0])\n",
    "            similarity.append(sim)\n",
    "            \n",
    "        return pd.DataFrame({\"movie_title\": titles, \"similarity\": similarity})\n",
    "    \n",
    "    #user_movie_matrix deve ser um parametro (para poder passar uma test sample)\n",
    "    def recommend_to_user(self, user_id, n_movies, user_movie_matrix):\n",
    "        user_ratings = user_movie_matrix[user_id,:].toarray().reshape(-1) + 1 #ratings do user escolhido (1d array)\n",
    "        #ratings de filmes não vistos ficam com rating 1, enquanto os que já foram vistos são postos a 0 para não serem recomendados\n",
    "        #outra vez ao utilizador\n",
    "        user_ratings[user_ratings > 1] = 0\n",
    "\n",
    "        user_vectors = sparse.csr_matrix(self.user_vectors)\n",
    "        movie_vectors = sparse.csr_matrix(self.movie_vectors)\n",
    "        \n",
    "        #formula de cálculo de recomendações para utilizadores\n",
    "        #Ui dot V.T (produto escalar entre vetor do utilizador i e dos filmes todos transpostos)\n",
    "        recommendation_vector = np.dot(user_vectors[user_id,:], movie_vectors.T).toarray()\n",
    "\n",
    "        #remover os filmes já vistos pelo utilizador\n",
    "        recommend_vector = user_ratings * recommendation_vector.reshape(-1)\n",
    "\n",
    "        #argsort é ascendente\n",
    "        #::-1 coloca o valor mais alto no inicio do array, o segundo mais alto de seguida, etc.\n",
    "        scores_idx = np.argsort(recommend_vector)[::-1][:n_movies] #dez valores mais parecidos\n",
    "\n",
    "        titles = []\n",
    "        scores = []\n",
    "        for i in scores_idx:\n",
    "            titles.append(self.S.loc[self.S.movieId == i].title.iloc[0])\n",
    "            scores.append(recommend_vector[i])\n",
    "\n",
    "        return pd.DataFrame({\"movie_title\" : titles, \"score\": scores})"
   ]
  },
  {
   "cell_type": "code",
   "execution_count": 21,
   "metadata": {},
   "outputs": [
    {
     "name": "stdout",
     "output_type": "stream",
     "text": [
      "(100836, 3)\n"
     ]
    },
    {
     "data": {
      "text/html": [
       "<div>\n",
       "<style scoped>\n",
       "    .dataframe tbody tr th:only-of-type {\n",
       "        vertical-align: middle;\n",
       "    }\n",
       "\n",
       "    .dataframe tbody tr th {\n",
       "        vertical-align: top;\n",
       "    }\n",
       "\n",
       "    .dataframe thead th {\n",
       "        text-align: right;\n",
       "    }\n",
       "</style>\n",
       "<table border=\"1\" class=\"dataframe\">\n",
       "  <thead>\n",
       "    <tr style=\"text-align: right;\">\n",
       "      <th></th>\n",
       "      <th>userId</th>\n",
       "      <th>movieId</th>\n",
       "      <th>rating</th>\n",
       "    </tr>\n",
       "  </thead>\n",
       "  <tbody>\n",
       "    <tr>\n",
       "      <td>0</td>\n",
       "      <td>1</td>\n",
       "      <td>1</td>\n",
       "      <td>4.0</td>\n",
       "    </tr>\n",
       "    <tr>\n",
       "      <td>1</td>\n",
       "      <td>1</td>\n",
       "      <td>3</td>\n",
       "      <td>4.0</td>\n",
       "    </tr>\n",
       "    <tr>\n",
       "      <td>2</td>\n",
       "      <td>1</td>\n",
       "      <td>6</td>\n",
       "      <td>4.0</td>\n",
       "    </tr>\n",
       "    <tr>\n",
       "      <td>3</td>\n",
       "      <td>1</td>\n",
       "      <td>47</td>\n",
       "      <td>5.0</td>\n",
       "    </tr>\n",
       "    <tr>\n",
       "      <td>4</td>\n",
       "      <td>1</td>\n",
       "      <td>50</td>\n",
       "      <td>5.0</td>\n",
       "    </tr>\n",
       "  </tbody>\n",
       "</table>\n",
       "</div>"
      ],
      "text/plain": [
       "   userId  movieId  rating\n",
       "0       1        1     4.0\n",
       "1       1        3     4.0\n",
       "2       1        6     4.0\n",
       "3       1       47     5.0\n",
       "4       1       50     5.0"
      ]
     },
     "execution_count": 21,
     "metadata": {},
     "output_type": "execute_result"
    }
   ],
   "source": [
    "ratings = pd.read_csv(\"datasets/100k/ratings.csv\")\n",
    "ratings.dropna(inplace = True)\n",
    "ratings.drop(columns = \"timestamp\", inplace = True)\n",
    "print(ratings.shape)\n",
    "ratings.head()"
   ]
  },
  {
   "cell_type": "code",
   "execution_count": 22,
   "metadata": {},
   "outputs": [
    {
     "name": "stdout",
     "output_type": "stream",
     "text": [
      "(9742, 2)\n"
     ]
    },
    {
     "data": {
      "text/html": [
       "<div>\n",
       "<style scoped>\n",
       "    .dataframe tbody tr th:only-of-type {\n",
       "        vertical-align: middle;\n",
       "    }\n",
       "\n",
       "    .dataframe tbody tr th {\n",
       "        vertical-align: top;\n",
       "    }\n",
       "\n",
       "    .dataframe thead th {\n",
       "        text-align: right;\n",
       "    }\n",
       "</style>\n",
       "<table border=\"1\" class=\"dataframe\">\n",
       "  <thead>\n",
       "    <tr style=\"text-align: right;\">\n",
       "      <th></th>\n",
       "      <th>movieId</th>\n",
       "      <th>title</th>\n",
       "    </tr>\n",
       "  </thead>\n",
       "  <tbody>\n",
       "    <tr>\n",
       "      <td>0</td>\n",
       "      <td>1</td>\n",
       "      <td>Toy Story (1995)</td>\n",
       "    </tr>\n",
       "    <tr>\n",
       "      <td>1</td>\n",
       "      <td>2</td>\n",
       "      <td>Jumanji (1995)</td>\n",
       "    </tr>\n",
       "    <tr>\n",
       "      <td>2</td>\n",
       "      <td>3</td>\n",
       "      <td>Grumpier Old Men (1995)</td>\n",
       "    </tr>\n",
       "    <tr>\n",
       "      <td>3</td>\n",
       "      <td>4</td>\n",
       "      <td>Waiting to Exhale (1995)</td>\n",
       "    </tr>\n",
       "    <tr>\n",
       "      <td>4</td>\n",
       "      <td>5</td>\n",
       "      <td>Father of the Bride Part II (1995)</td>\n",
       "    </tr>\n",
       "  </tbody>\n",
       "</table>\n",
       "</div>"
      ],
      "text/plain": [
       "   movieId                               title\n",
       "0        1                    Toy Story (1995)\n",
       "1        2                      Jumanji (1995)\n",
       "2        3             Grumpier Old Men (1995)\n",
       "3        4            Waiting to Exhale (1995)\n",
       "4        5  Father of the Bride Part II (1995)"
      ]
     },
     "execution_count": 22,
     "metadata": {},
     "output_type": "execute_result"
    }
   ],
   "source": [
    "movies = pd.read_csv(\"datasets/100k/movies.csv\")\n",
    "movies.dropna(inplace = True)\n",
    "movies.drop(columns = \"genres\", inplace = True)\n",
    "print(movies.shape)\n",
    "movies.head()"
   ]
  },
  {
   "cell_type": "code",
   "execution_count": 23,
   "metadata": {},
   "outputs": [
    {
     "name": "stdout",
     "output_type": "stream",
     "text": [
      "(100836, 4)\n",
      "Users: 610\n",
      "Movies: 9724\n",
      "(100836, 4)\n"
     ]
    },
    {
     "data": {
      "text/html": [
       "<div>\n",
       "<style scoped>\n",
       "    .dataframe tbody tr th:only-of-type {\n",
       "        vertical-align: middle;\n",
       "    }\n",
       "\n",
       "    .dataframe tbody tr th {\n",
       "        vertical-align: top;\n",
       "    }\n",
       "\n",
       "    .dataframe thead th {\n",
       "        text-align: right;\n",
       "    }\n",
       "</style>\n",
       "<table border=\"1\" class=\"dataframe\">\n",
       "  <thead>\n",
       "    <tr style=\"text-align: right;\">\n",
       "      <th></th>\n",
       "      <th>userId</th>\n",
       "      <th>movieId</th>\n",
       "      <th>rating</th>\n",
       "      <th>title</th>\n",
       "    </tr>\n",
       "  </thead>\n",
       "  <tbody>\n",
       "    <tr>\n",
       "      <td>0</td>\n",
       "      <td>1</td>\n",
       "      <td>1</td>\n",
       "      <td>4.0</td>\n",
       "      <td>Toy Story (1995)</td>\n",
       "    </tr>\n",
       "    <tr>\n",
       "      <td>1</td>\n",
       "      <td>1</td>\n",
       "      <td>3</td>\n",
       "      <td>4.0</td>\n",
       "      <td>Grumpier Old Men (1995)</td>\n",
       "    </tr>\n",
       "    <tr>\n",
       "      <td>2</td>\n",
       "      <td>1</td>\n",
       "      <td>6</td>\n",
       "      <td>4.0</td>\n",
       "      <td>Heat (1995)</td>\n",
       "    </tr>\n",
       "    <tr>\n",
       "      <td>3</td>\n",
       "      <td>1</td>\n",
       "      <td>47</td>\n",
       "      <td>5.0</td>\n",
       "      <td>Seven (a.k.a. Se7en) (1995)</td>\n",
       "    </tr>\n",
       "    <tr>\n",
       "      <td>4</td>\n",
       "      <td>1</td>\n",
       "      <td>50</td>\n",
       "      <td>5.0</td>\n",
       "      <td>Usual Suspects, The (1995)</td>\n",
       "    </tr>\n",
       "  </tbody>\n",
       "</table>\n",
       "</div>"
      ],
      "text/plain": [
       "   userId  movieId  rating                        title\n",
       "0       1        1     4.0             Toy Story (1995)\n",
       "1       1        3     4.0      Grumpier Old Men (1995)\n",
       "2       1        6     4.0                  Heat (1995)\n",
       "3       1       47     5.0  Seven (a.k.a. Se7en) (1995)\n",
       "4       1       50     5.0   Usual Suspects, The (1995)"
      ]
     },
     "execution_count": 23,
     "metadata": {},
     "output_type": "execute_result"
    }
   ],
   "source": [
    "movie_ratings = ratings.join(movies.set_index(\"movieId\"), on = \"movieId\")\n",
    "print(movie_ratings.shape)\n",
    "print(\"Users:\", movie_ratings.userId.unique().size)\n",
    "print(\"Movies:\", movie_ratings.movieId.unique().size)\n",
    "print(movie_ratings.drop_duplicates().shape)\n",
    "movie_ratings.head()"
   ]
  },
  {
   "cell_type": "markdown",
   "metadata": {},
   "source": [
    "## Apply baseline predictors to ratings:"
   ]
  },
  {
   "cell_type": "code",
   "execution_count": 24,
   "metadata": {},
   "outputs": [
    {
     "data": {
      "text/html": [
       "<div>\n",
       "<style scoped>\n",
       "    .dataframe tbody tr th:only-of-type {\n",
       "        vertical-align: middle;\n",
       "    }\n",
       "\n",
       "    .dataframe tbody tr th {\n",
       "        vertical-align: top;\n",
       "    }\n",
       "\n",
       "    .dataframe thead th {\n",
       "        text-align: right;\n",
       "    }\n",
       "</style>\n",
       "<table border=\"1\" class=\"dataframe\">\n",
       "  <thead>\n",
       "    <tr style=\"text-align: right;\">\n",
       "      <th></th>\n",
       "      <th>userId</th>\n",
       "      <th>movieId</th>\n",
       "      <th>title</th>\n",
       "      <th>rating</th>\n",
       "    </tr>\n",
       "  </thead>\n",
       "  <tbody>\n",
       "    <tr>\n",
       "      <td>0</td>\n",
       "      <td>1</td>\n",
       "      <td>1</td>\n",
       "      <td>Toy Story (1995)</td>\n",
       "      <td>5.089208</td>\n",
       "    </tr>\n",
       "    <tr>\n",
       "      <td>1</td>\n",
       "      <td>1</td>\n",
       "      <td>3</td>\n",
       "      <td>Grumpier Old Men (1995)</td>\n",
       "      <td>4.637278</td>\n",
       "    </tr>\n",
       "    <tr>\n",
       "      <td>2</td>\n",
       "      <td>1</td>\n",
       "      <td>6</td>\n",
       "      <td>Heat (1995)</td>\n",
       "      <td>5.099497</td>\n",
       "    </tr>\n",
       "    <tr>\n",
       "      <td>3</td>\n",
       "      <td>1</td>\n",
       "      <td>47</td>\n",
       "      <td>Seven (a.k.a. Se7en) (1995)</td>\n",
       "      <td>6.150616</td>\n",
       "    </tr>\n",
       "    <tr>\n",
       "      <td>4</td>\n",
       "      <td>1</td>\n",
       "      <td>50</td>\n",
       "      <td>Usual Suspects, The (1995)</td>\n",
       "      <td>6.360803</td>\n",
       "    </tr>\n",
       "  </tbody>\n",
       "</table>\n",
       "</div>"
      ],
      "text/plain": [
       "   userId  movieId                        title    rating\n",
       "0       1        1             Toy Story (1995)  5.089208\n",
       "1       1        3      Grumpier Old Men (1995)  4.637278\n",
       "2       1        6                  Heat (1995)  5.099497\n",
       "3       1       47  Seven (a.k.a. Se7en) (1995)  6.150616\n",
       "4       1       50   Usual Suspects, The (1995)  6.360803"
      ]
     },
     "execution_count": 24,
     "metadata": {},
     "output_type": "execute_result"
    }
   ],
   "source": [
    "import baseline as base\n",
    "baseline_df = base.make_baseline(movie_ratings, damping_factor = 25).get_ratings()\n",
    "baseline_df.drop(columns = [\"rating\", \"bi\", \"bu\"], inplace = True)\n",
    "baseline_df.rename(columns = {\"bui\": \"rating\"}, inplace = True)\n",
    "baseline_df.head()"
   ]
  },
  {
   "cell_type": "markdown",
   "metadata": {},
   "source": [
    "## Alternating Least Squares (ALS):\n",
    "Fitting the model"
   ]
  },
  {
   "cell_type": "code",
   "execution_count": 25,
   "metadata": {},
   "outputs": [
    {
     "name": "stderr",
     "output_type": "stream",
     "text": [
      "WARNING:root:Intel MKL BLAS detected. Its highly recommend to set the environment variable 'export MKL_NUM_THREADS=1' to disable its internal multithreading\n"
     ]
    },
    {
     "data": {
      "application/vnd.jupyter.widget-view+json": {
       "model_id": "c59e980422f9455ea4fdd11476f5368c",
       "version_major": 2,
       "version_minor": 0
      },
      "text/plain": [
       "HBox(children=(FloatProgress(value=0.0, max=10.0), HTML(value='')))"
      ]
     },
     "metadata": {},
     "output_type": "display_data"
    },
    {
     "name": "stdout",
     "output_type": "stream",
     "text": [
      "\n"
     ]
    },
    {
     "data": {
      "text/plain": [
       "(array([[17.734818  , 10.219808  , 20.813026  , ...,  5.5213423 ,\n",
       "         10.684315  , 19.552555  ],\n",
       "        [-0.48394808, -0.651731  ,  0.8520135 , ..., 15.950156  ,\n",
       "          7.9368134 ,  0.6330999 ],\n",
       "        [16.189411  ,  4.126651  ,  2.3362892 , ...,  4.1413717 ,\n",
       "         -2.904066  , 12.085226  ],\n",
       "        ...,\n",
       "        [17.705315  , 19.287487  , 14.987953  , ..., 18.50695   ,\n",
       "          7.219401  , 17.254366  ],\n",
       "        [ 6.7488194 , -4.3674917 ,  0.14057973, ...,  3.9427464 ,\n",
       "         15.290184  , -0.2532464 ],\n",
       "        [ 4.924457  , 22.745455  , 15.1717205 , ...,  8.501083  ,\n",
       "         10.5501795 , 24.10157   ]], dtype=float32),\n",
       " array([[ 5.19224536e-03, -1.01913884e-02,  8.10204074e-03, ...,\n",
       "          2.05841586e-02,  2.23653223e-02, -1.89959642e-03],\n",
       "        [ 3.32620391e-03, -3.29579671e-05,  8.36145133e-03, ...,\n",
       "          1.31441634e-02,  2.22663935e-02, -4.21004649e-03],\n",
       "        [ 8.21489468e-03, -7.29986466e-03,  3.69444489e-04, ...,\n",
       "          1.39502445e-02,  1.16375275e-02,  1.97293656e-03],\n",
       "        ...,\n",
       "        [-2.87445374e-02, -7.08917505e-04,  1.77935418e-02, ...,\n",
       "         -1.78703503e-03, -9.21514444e-03,  1.44535780e-03],\n",
       "        [-2.87710093e-02, -6.67899672e-04,  1.77463870e-02, ...,\n",
       "         -1.79767387e-03, -9.20296088e-03,  1.46011042e-03],\n",
       "        [-1.85119442e-03,  3.14602349e-03,  1.30735189e-02, ...,\n",
       "          1.13611575e-02, -6.96044648e-03, -1.59602482e-02]], dtype=float32))"
      ]
     },
     "execution_count": 25,
     "metadata": {},
     "output_type": "execute_result"
    }
   ],
   "source": [
    "#import als_recommender as als\n",
    "model = ALSRecommender(iterations = 10, latent = 10, alpha = 40, regularizer = 0.1)\n",
    "model.fit(movie_ratings)"
   ]
  },
  {
   "cell_type": "markdown",
   "metadata": {},
   "source": [
    "### Item-Item collaborative filter\n",
    "Find similar movies according to a given movie"
   ]
  },
  {
   "cell_type": "code",
   "execution_count": 26,
   "metadata": {},
   "outputs": [
    {
     "data": {
      "text/html": [
       "<div>\n",
       "<style scoped>\n",
       "    .dataframe tbody tr th:only-of-type {\n",
       "        vertical-align: middle;\n",
       "    }\n",
       "\n",
       "    .dataframe tbody tr th {\n",
       "        vertical-align: top;\n",
       "    }\n",
       "\n",
       "    .dataframe thead th {\n",
       "        text-align: right;\n",
       "    }\n",
       "</style>\n",
       "<table border=\"1\" class=\"dataframe\">\n",
       "  <thead>\n",
       "    <tr style=\"text-align: right;\">\n",
       "      <th></th>\n",
       "      <th>movie_title</th>\n",
       "      <th>similarity</th>\n",
       "    </tr>\n",
       "  </thead>\n",
       "  <tbody>\n",
       "    <tr>\n",
       "      <td>0</td>\n",
       "      <td>Toy Story (1995)</td>\n",
       "      <td>1.081008</td>\n",
       "    </tr>\n",
       "    <tr>\n",
       "      <td>1</td>\n",
       "      <td>Forrest Gump (1994)</td>\n",
       "      <td>1.079774</td>\n",
       "    </tr>\n",
       "    <tr>\n",
       "      <td>2</td>\n",
       "      <td>Lion King, The (1994)</td>\n",
       "      <td>1.078086</td>\n",
       "    </tr>\n",
       "    <tr>\n",
       "      <td>3</td>\n",
       "      <td>Star Wars: Episode IV - A New Hope (1977)</td>\n",
       "      <td>1.077847</td>\n",
       "    </tr>\n",
       "    <tr>\n",
       "      <td>4</td>\n",
       "      <td>Shawshank Redemption, The (1994)</td>\n",
       "      <td>1.077643</td>\n",
       "    </tr>\n",
       "    <tr>\n",
       "      <td>5</td>\n",
       "      <td>Jurassic Park (1993)</td>\n",
       "      <td>1.076894</td>\n",
       "    </tr>\n",
       "    <tr>\n",
       "      <td>6</td>\n",
       "      <td>Silence of the Lambs, The (1991)</td>\n",
       "      <td>1.076187</td>\n",
       "    </tr>\n",
       "    <tr>\n",
       "      <td>7</td>\n",
       "      <td>Aladdin (1992)</td>\n",
       "      <td>1.075100</td>\n",
       "    </tr>\n",
       "    <tr>\n",
       "      <td>8</td>\n",
       "      <td>Braveheart (1995)</td>\n",
       "      <td>1.074699</td>\n",
       "    </tr>\n",
       "    <tr>\n",
       "      <td>9</td>\n",
       "      <td>Pulp Fiction (1994)</td>\n",
       "      <td>1.074584</td>\n",
       "    </tr>\n",
       "  </tbody>\n",
       "</table>\n",
       "</div>"
      ],
      "text/plain": [
       "                                 movie_title  similarity\n",
       "0                           Toy Story (1995)    1.081008\n",
       "1                        Forrest Gump (1994)    1.079774\n",
       "2                      Lion King, The (1994)    1.078086\n",
       "3  Star Wars: Episode IV - A New Hope (1977)    1.077847\n",
       "4           Shawshank Redemption, The (1994)    1.077643\n",
       "5                       Jurassic Park (1993)    1.076894\n",
       "6           Silence of the Lambs, The (1991)    1.076187\n",
       "7                             Aladdin (1992)    1.075100\n",
       "8                          Braveheart (1995)    1.074699\n",
       "9                        Pulp Fiction (1994)    1.074584"
      ]
     },
     "execution_count": 26,
     "metadata": {},
     "output_type": "execute_result"
    }
   ],
   "source": [
    "#Find movies similar to a certain movie with class\n",
    "model.similar_to_movie(movie_id = 0, n_similar = 10)"
   ]
  },
  {
   "cell_type": "markdown",
   "metadata": {},
   "source": [
    "### User-Item collaborative filter\n",
    "Recommend movies to a certain user"
   ]
  },
  {
   "cell_type": "code",
   "execution_count": 27,
   "metadata": {},
   "outputs": [],
   "source": [
    "user_movie_matrix = sparse.csr_matrix((movie_ratings.rating.astype(float), (movie_ratings.userId, movie_ratings.movieId)))\n",
    "recs = model.recommend_to_user(user_id = 10, n_movies = 9730, user_movie_matrix = user_movie_matrix)"
   ]
  },
  {
   "cell_type": "code",
   "execution_count": 28,
   "metadata": {},
   "outputs": [
    {
     "data": {
      "text/html": [
       "<div>\n",
       "<style scoped>\n",
       "    .dataframe tbody tr th:only-of-type {\n",
       "        vertical-align: middle;\n",
       "    }\n",
       "\n",
       "    .dataframe tbody tr th {\n",
       "        vertical-align: top;\n",
       "    }\n",
       "\n",
       "    .dataframe thead th {\n",
       "        text-align: right;\n",
       "    }\n",
       "</style>\n",
       "<table border=\"1\" class=\"dataframe\">\n",
       "  <thead>\n",
       "    <tr style=\"text-align: right;\">\n",
       "      <th></th>\n",
       "      <th>movie_title</th>\n",
       "      <th>score</th>\n",
       "    </tr>\n",
       "  </thead>\n",
       "  <tbody>\n",
       "    <tr>\n",
       "      <td>5573</td>\n",
       "      <td>Dead Man Walking (1995)</td>\n",
       "      <td>0.0</td>\n",
       "    </tr>\n",
       "  </tbody>\n",
       "</table>\n",
       "</div>"
      ],
      "text/plain": [
       "                  movie_title  score\n",
       "5573  Dead Man Walking (1995)    0.0"
      ]
     },
     "execution_count": 28,
     "metadata": {},
     "output_type": "execute_result"
    }
   ],
   "source": [
    "recs.loc[recs.movie_title == \"Dead Man Walking (1995)\"]"
   ]
  },
  {
   "cell_type": "code",
   "execution_count": 29,
   "metadata": {},
   "outputs": [
    {
     "data": {
      "text/plain": [
       "array(['Heat (1995)', 'GoldenEye (1995)', 'Dead Man Walking (1995)',\n",
       "       'Mortal Kombat (1995)', 'Broken Arrow (1996)', 'Braveheart (1995)',\n",
       "       'Apollo 13 (1995)', 'Batman Forever (1995)',\n",
       "       'Die Hard: With a Vengeance (1995)', 'Hackers (1995)',\n",
       "       'Waterworld (1995)', 'Outbreak (1995)',\n",
       "       'Shawshank Redemption, The (1994)',\n",
       "       'Clear and Present Danger (1994)', 'Forrest Gump (1994)',\n",
       "       'Maverick (1994)', 'River Wild, The (1994)', 'Speed (1994)',\n",
       "       'True Lies (1994)', 'Cliffhanger (1993)', 'Fugitive, The (1993)',\n",
       "       'Hot Shots! Part Deux (1993)', 'In the Line of Fire (1993)',\n",
       "       'Jurassic Park (1993)', 'Menace II Society (1993)',\n",
       "       'Program, The (1993)', 'Searching for Bobby Fischer (1993)',\n",
       "       'Terminator 2: Judgment Day (1991)',\n",
       "       'Silence of the Lambs, The (1991)', 'Mission: Impossible (1996)',\n",
       "       'Rock, The (1996)', 'Twister (1996)',\n",
       "       'Independence Day (a.k.a. ID4) (1996)', 'Days of Thunder (1990)',\n",
       "       'Top Gun (1986)',\n",
       "       'Star Wars: Episode VI - Return of the Jedi (1983)',\n",
       "       'Sling Blade (1996)', 'Die Hard 2 (1990)', 'Under Siege (1992)',\n",
       "       'Mars Attacks! (1996)', 'Last of the Mohicans, The (1992)',\n",
       "       \"Dante's Peak (1997)\", 'Breakdown (1997)', 'Con Air (1997)',\n",
       "       'Face/Off (1997)', 'Contact (1997)', 'G.I. Jane (1997)',\n",
       "       'Conspiracy Theory (1997)', 'Money Talks (1997)',\n",
       "       'Air Force One (1997)', 'Peacemaker, The (1997)',\n",
       "       'Jackal, The (1997)', 'Amistad (1997)', 'Good Will Hunting (1997)',\n",
       "       'Titanic (1997)', 'As Good as It Gets (1997)',\n",
       "       'He Got Game (1998)', 'Godzilla (1998)', 'Armageddon (1998)',\n",
       "       'Lethal Weapon 4 (1998)', \"There's Something About Mary (1998)\",\n",
       "       'Lethal Weapon 3 (1992)', \"Jane Austen's Mafia! (1998)\",\n",
       "       'Saving Private Ryan (1998)'], dtype=object)"
      ]
     },
     "execution_count": 29,
     "metadata": {},
     "output_type": "execute_result"
    }
   ],
   "source": [
    "movie_ratings.loc[movie_ratings.userId == 10].title.unique()"
   ]
  },
  {
   "cell_type": "markdown",
   "metadata": {},
   "source": [
    "## Using the implicit library:"
   ]
  },
  {
   "cell_type": "code",
   "execution_count": 30,
   "metadata": {},
   "outputs": [
    {
     "data": {
      "application/vnd.jupyter.widget-view+json": {
       "model_id": "75795589a90748b690737bdfbcdc28e6",
       "version_major": 2,
       "version_minor": 0
      },
      "text/plain": [
       "HBox(children=(FloatProgress(value=0.0, max=10.0), HTML(value='')))"
      ]
     },
     "metadata": {},
     "output_type": "display_data"
    },
    {
     "name": "stdout",
     "output_type": "stream",
     "text": [
      "\n"
     ]
    }
   ],
   "source": [
    "movie_user_matrix = sparse.csr_matrix((movie_ratings.rating.astype(float), (movie_ratings.movieId, movie_ratings.userId)))\n",
    "\n",
    "als_model = implicit.als.AlternatingLeastSquares(factors=10, regularization=0.1, iterations=10)\n",
    "confidence = (movie_user_matrix * 40).astype(\"double\")\n",
    "als_model.fit(confidence)"
   ]
  },
  {
   "cell_type": "code",
   "execution_count": 31,
   "metadata": {},
   "outputs": [
    {
     "data": {
      "text/html": [
       "<div>\n",
       "<style scoped>\n",
       "    .dataframe tbody tr th:only-of-type {\n",
       "        vertical-align: middle;\n",
       "    }\n",
       "\n",
       "    .dataframe tbody tr th {\n",
       "        vertical-align: top;\n",
       "    }\n",
       "\n",
       "    .dataframe thead th {\n",
       "        text-align: right;\n",
       "    }\n",
       "</style>\n",
       "<table border=\"1\" class=\"dataframe\">\n",
       "  <thead>\n",
       "    <tr style=\"text-align: right;\">\n",
       "      <th></th>\n",
       "      <th>movie_title</th>\n",
       "      <th>similarity</th>\n",
       "    </tr>\n",
       "  </thead>\n",
       "  <tbody>\n",
       "    <tr>\n",
       "      <td>0</td>\n",
       "      <td>Toy Story (1995)</td>\n",
       "      <td>0.049867</td>\n",
       "    </tr>\n",
       "    <tr>\n",
       "      <td>1</td>\n",
       "      <td>Forrest Gump (1994)</td>\n",
       "      <td>0.049788</td>\n",
       "    </tr>\n",
       "    <tr>\n",
       "      <td>2</td>\n",
       "      <td>Silence of the Lambs, The (1991)</td>\n",
       "      <td>0.049738</td>\n",
       "    </tr>\n",
       "    <tr>\n",
       "      <td>3</td>\n",
       "      <td>Shawshank Redemption, The (1994)</td>\n",
       "      <td>0.049687</td>\n",
       "    </tr>\n",
       "    <tr>\n",
       "      <td>4</td>\n",
       "      <td>Terminator 2: Judgment Day (1991)</td>\n",
       "      <td>0.049654</td>\n",
       "    </tr>\n",
       "    <tr>\n",
       "      <td>5</td>\n",
       "      <td>Braveheart (1995)</td>\n",
       "      <td>0.049630</td>\n",
       "    </tr>\n",
       "    <tr>\n",
       "      <td>6</td>\n",
       "      <td>Schindler's List (1993)</td>\n",
       "      <td>0.049595</td>\n",
       "    </tr>\n",
       "    <tr>\n",
       "      <td>7</td>\n",
       "      <td>Seven (a.k.a. Se7en) (1995)</td>\n",
       "      <td>0.049569</td>\n",
       "    </tr>\n",
       "    <tr>\n",
       "      <td>8</td>\n",
       "      <td>Jurassic Park (1993)</td>\n",
       "      <td>0.049563</td>\n",
       "    </tr>\n",
       "    <tr>\n",
       "      <td>9</td>\n",
       "      <td>Star Wars: Episode IV - A New Hope (1977)</td>\n",
       "      <td>0.049527</td>\n",
       "    </tr>\n",
       "  </tbody>\n",
       "</table>\n",
       "</div>"
      ],
      "text/plain": [
       "                                 movie_title  similarity\n",
       "0                           Toy Story (1995)    0.049867\n",
       "1                        Forrest Gump (1994)    0.049788\n",
       "2           Silence of the Lambs, The (1991)    0.049738\n",
       "3           Shawshank Redemption, The (1994)    0.049687\n",
       "4          Terminator 2: Judgment Day (1991)    0.049654\n",
       "5                          Braveheart (1995)    0.049630\n",
       "6                    Schindler's List (1993)    0.049595\n",
       "7                Seven (a.k.a. Se7en) (1995)    0.049569\n",
       "8                       Jurassic Park (1993)    0.049563\n",
       "9  Star Wars: Episode IV - A New Hope (1977)    0.049527"
      ]
     },
     "execution_count": 31,
     "metadata": {},
     "output_type": "execute_result"
    }
   ],
   "source": [
    "similar = als_model.similar_items(0, 10)\n",
    "\n",
    "movies = []\n",
    "scores = []\n",
    "for i in similar:\n",
    "    idx, score = i\n",
    "    movies.append(movie_ratings.loc[movie_ratings.movieId == idx].title.iloc[0])\n",
    "    scores.append(score)\n",
    "    \n",
    "pd.DataFrame({\"movie_title\": movies, \"similarity\": scores})"
   ]
  },
  {
   "cell_type": "code",
   "execution_count": 32,
   "metadata": {},
   "outputs": [
    {
     "data": {
      "text/html": [
       "<div>\n",
       "<style scoped>\n",
       "    .dataframe tbody tr th:only-of-type {\n",
       "        vertical-align: middle;\n",
       "    }\n",
       "\n",
       "    .dataframe tbody tr th {\n",
       "        vertical-align: top;\n",
       "    }\n",
       "\n",
       "    .dataframe thead th {\n",
       "        text-align: right;\n",
       "    }\n",
       "</style>\n",
       "<table border=\"1\" class=\"dataframe\">\n",
       "  <thead>\n",
       "    <tr style=\"text-align: right;\">\n",
       "      <th></th>\n",
       "      <th>movie_title</th>\n",
       "      <th>similarity</th>\n",
       "    </tr>\n",
       "  </thead>\n",
       "  <tbody>\n",
       "    <tr>\n",
       "      <td>0</td>\n",
       "      <td>101 Dalmatians (1996)</td>\n",
       "      <td>1.179175</td>\n",
       "    </tr>\n",
       "    <tr>\n",
       "      <td>1</td>\n",
       "      <td>Jack (1996)</td>\n",
       "      <td>1.169049</td>\n",
       "    </tr>\n",
       "    <tr>\n",
       "      <td>2</td>\n",
       "      <td>Beavis and Butt-Head Do America (1996)</td>\n",
       "      <td>1.160122</td>\n",
       "    </tr>\n",
       "    <tr>\n",
       "      <td>3</td>\n",
       "      <td>Kingpin (1996)</td>\n",
       "      <td>1.119681</td>\n",
       "    </tr>\n",
       "    <tr>\n",
       "      <td>4</td>\n",
       "      <td>Usual Suspects, The (1995)</td>\n",
       "      <td>1.097537</td>\n",
       "    </tr>\n",
       "    <tr>\n",
       "      <td>5</td>\n",
       "      <td>Sleepers (1996)</td>\n",
       "      <td>1.095358</td>\n",
       "    </tr>\n",
       "    <tr>\n",
       "      <td>6</td>\n",
       "      <td>Matilda (1996)</td>\n",
       "      <td>1.094412</td>\n",
       "    </tr>\n",
       "    <tr>\n",
       "      <td>7</td>\n",
       "      <td>Friday (1995)</td>\n",
       "      <td>1.093864</td>\n",
       "    </tr>\n",
       "    <tr>\n",
       "      <td>8</td>\n",
       "      <td>Schindler's List (1993)</td>\n",
       "      <td>1.091154</td>\n",
       "    </tr>\n",
       "    <tr>\n",
       "      <td>9</td>\n",
       "      <td>Pulp Fiction (1994)</td>\n",
       "      <td>1.089453</td>\n",
       "    </tr>\n",
       "  </tbody>\n",
       "</table>\n",
       "</div>"
      ],
      "text/plain": [
       "                              movie_title  similarity\n",
       "0                   101 Dalmatians (1996)    1.179175\n",
       "1                             Jack (1996)    1.169049\n",
       "2  Beavis and Butt-Head Do America (1996)    1.160122\n",
       "3                          Kingpin (1996)    1.119681\n",
       "4              Usual Suspects, The (1995)    1.097537\n",
       "5                         Sleepers (1996)    1.095358\n",
       "6                          Matilda (1996)    1.094412\n",
       "7                           Friday (1995)    1.093864\n",
       "8                 Schindler's List (1993)    1.091154\n",
       "9                     Pulp Fiction (1994)    1.089453"
      ]
     },
     "execution_count": 32,
     "metadata": {},
     "output_type": "execute_result"
    }
   ],
   "source": [
    "similar = als_model.recommend(10, user_movie_matrix)\n",
    "\n",
    "movies = []\n",
    "scores = []\n",
    "for i in similar:\n",
    "    idx, score = i\n",
    "    movies.append(movie_ratings.loc[movie_ratings.movieId == idx].title.iloc[0])\n",
    "    scores.append(score)\n",
    "    \n",
    "pd.DataFrame({\"movie_title\": movies, \"similarity\": scores})"
   ]
  },
  {
   "cell_type": "markdown",
   "metadata": {},
   "source": [
    "# Evaluation:"
   ]
  },
  {
   "cell_type": "code",
   "execution_count": 33,
   "metadata": {},
   "outputs": [
    {
     "name": "stdout",
     "output_type": "stream",
     "text": [
      "x_train: (50418, 4) \n",
      "x_test: (50418, 4)\n"
     ]
    }
   ],
   "source": [
    "from sklearn.model_selection import train_test_split\n",
    "\n",
    "x_train, x_test = train_test_split(movie_ratings, train_size = 0.5)\n",
    "print(\"x_train:\", x_train.shape, \"\\nx_test:\", x_test.shape)"
   ]
  },
  {
   "cell_type": "code",
   "execution_count": 34,
   "metadata": {},
   "outputs": [
    {
     "name": "stdout",
     "output_type": "stream",
     "text": [
      "x_train: (47495, 4) \n",
      "x_test: (47566, 4)\n",
      "x_train_users: (610,) \n",
      "x_test_users: (610,)\n",
      "x_train_movies: (5349,) \n",
      "x_test_movies: (5349,)\n"
     ]
    }
   ],
   "source": [
    "#Não pode haver users e movies no x_train que depois não existam no x_test\n",
    "x_train = x_train[x_train.movieId.isin(x_test.movieId.unique())]\n",
    "x_test = x_test[x_test.movieId.isin(x_train.movieId.unique())]\n",
    "print(\"x_train:\", x_train.shape, \"\\nx_test:\", x_test.shape)\n",
    "print(\"x_train_users:\", x_train.userId.unique().shape, \"\\nx_test_users:\", x_test.userId.unique().shape)\n",
    "print(\"x_train_movies:\", x_train.movieId.unique().shape, \"\\nx_test_movies:\", x_test.movieId.unique().shape)"
   ]
  },
  {
   "cell_type": "code",
   "execution_count": 35,
   "metadata": {},
   "outputs": [
    {
     "data": {
      "application/vnd.jupyter.widget-view+json": {
       "model_id": "e65b13dd46db48f78928984084dc6425",
       "version_major": 2,
       "version_minor": 0
      },
      "text/plain": [
       "HBox(children=(FloatProgress(value=0.0, max=10.0), HTML(value='')))"
      ]
     },
     "metadata": {},
     "output_type": "display_data"
    },
    {
     "name": "stdout",
     "output_type": "stream",
     "text": [
      "\n",
      "(610, 10) (5349, 10)\n"
     ]
    }
   ],
   "source": [
    "train_model = ALSRecommender(iterations = 10, latent = 10, alpha = 40, regularizer = 0.1)\n",
    "user_vec, movie_vec = train_model.fit(x_train)\n",
    "print(user_vec.shape, movie_vec.shape)"
   ]
  },
  {
   "cell_type": "code",
   "execution_count": 39,
   "metadata": {},
   "outputs": [
    {
     "data": {
      "text/plain": [
       "(610, 5349)"
      ]
     },
     "execution_count": 39,
     "metadata": {},
     "output_type": "execute_result"
    }
   ],
   "source": [
    "train_matrix = make_sparse_matrix(x_train.rating, x_train.userId, x_train.movieId)\n",
    "train_matrix.shape"
   ]
  },
  {
   "cell_type": "code",
   "execution_count": 36,
   "metadata": {},
   "outputs": [
    {
     "data": {
      "text/plain": [
       "(610, 5349)"
      ]
     },
     "execution_count": 36,
     "metadata": {},
     "output_type": "execute_result"
    }
   ],
   "source": [
    "test_matrix = make_sparse_matrix(x_test.rating, x_test.userId, x_test.movieId)\n",
    "test_matrix.shape"
   ]
  },
  {
   "cell_type": "code",
   "execution_count": 37,
   "metadata": {},
   "outputs": [
    {
     "name": "stdout",
     "output_type": "stream",
     "text": [
      "(10, 2)\n"
     ]
    },
    {
     "data": {
      "text/html": [
       "<div>\n",
       "<style scoped>\n",
       "    .dataframe tbody tr th:only-of-type {\n",
       "        vertical-align: middle;\n",
       "    }\n",
       "\n",
       "    .dataframe tbody tr th {\n",
       "        vertical-align: top;\n",
       "    }\n",
       "\n",
       "    .dataframe thead th {\n",
       "        text-align: right;\n",
       "    }\n",
       "</style>\n",
       "<table border=\"1\" class=\"dataframe\">\n",
       "  <thead>\n",
       "    <tr style=\"text-align: right;\">\n",
       "      <th></th>\n",
       "      <th>movie_title</th>\n",
       "      <th>score</th>\n",
       "    </tr>\n",
       "  </thead>\n",
       "  <tbody>\n",
       "    <tr>\n",
       "      <td>0</td>\n",
       "      <td>Crimson Tide (1995)</td>\n",
       "      <td>1.212612</td>\n",
       "    </tr>\n",
       "    <tr>\n",
       "      <td>1</td>\n",
       "      <td>Star Trek: Generations (1994)</td>\n",
       "      <td>1.179942</td>\n",
       "    </tr>\n",
       "    <tr>\n",
       "      <td>2</td>\n",
       "      <td>Escape from L.A. (1996)</td>\n",
       "      <td>1.111863</td>\n",
       "    </tr>\n",
       "    <tr>\n",
       "      <td>3</td>\n",
       "      <td>Firm, The (1993)</td>\n",
       "      <td>1.089559</td>\n",
       "    </tr>\n",
       "    <tr>\n",
       "      <td>4</td>\n",
       "      <td>Executive Decision (1996)</td>\n",
       "      <td>1.086759</td>\n",
       "    </tr>\n",
       "    <tr>\n",
       "      <td>5</td>\n",
       "      <td>Dances with Wolves (1990)</td>\n",
       "      <td>1.082071</td>\n",
       "    </tr>\n",
       "    <tr>\n",
       "      <td>6</td>\n",
       "      <td>Die Hard: With a Vengeance (1995)</td>\n",
       "      <td>1.067426</td>\n",
       "    </tr>\n",
       "    <tr>\n",
       "      <td>7</td>\n",
       "      <td>Johnny Mnemonic (1995)</td>\n",
       "      <td>1.058139</td>\n",
       "    </tr>\n",
       "    <tr>\n",
       "      <td>8</td>\n",
       "      <td>Judge Dredd (1995)</td>\n",
       "      <td>1.040145</td>\n",
       "    </tr>\n",
       "    <tr>\n",
       "      <td>9</td>\n",
       "      <td>Stargate (1994)</td>\n",
       "      <td>1.029331</td>\n",
       "    </tr>\n",
       "  </tbody>\n",
       "</table>\n",
       "</div>"
      ],
      "text/plain": [
       "                         movie_title     score\n",
       "0                Crimson Tide (1995)  1.212612\n",
       "1      Star Trek: Generations (1994)  1.179942\n",
       "2            Escape from L.A. (1996)  1.111863\n",
       "3                   Firm, The (1993)  1.089559\n",
       "4          Executive Decision (1996)  1.086759\n",
       "5          Dances with Wolves (1990)  1.082071\n",
       "6  Die Hard: With a Vengeance (1995)  1.067426\n",
       "7             Johnny Mnemonic (1995)  1.058139\n",
       "8                 Judge Dredd (1995)  1.040145\n",
       "9                    Stargate (1994)  1.029331"
      ]
     },
     "execution_count": 37,
     "metadata": {},
     "output_type": "execute_result"
    }
   ],
   "source": [
    "predictions = train_model.recommend_to_user(user_id = 10, n_movies = 10, user_movie_matrix = test_matrix)\n",
    "print(predictions.shape)\n",
    "predictions"
   ]
  },
  {
   "cell_type": "code",
   "execution_count": null,
   "metadata": {},
   "outputs": [],
   "source": [
    "truth = train_model.recommend_to_user(user_id = 10, n_movies = 10, )"
   ]
  }
 ],
 "metadata": {
  "kernelspec": {
   "display_name": "Python 3",
   "language": "python",
   "name": "python3"
  },
  "language_info": {
   "codemirror_mode": {
    "name": "ipython",
    "version": 3
   },
   "file_extension": ".py",
   "mimetype": "text/x-python",
   "name": "python",
   "nbconvert_exporter": "python",
   "pygments_lexer": "ipython3",
   "version": "3.7.4"
  }
 },
 "nbformat": 4,
 "nbformat_minor": 4
}
