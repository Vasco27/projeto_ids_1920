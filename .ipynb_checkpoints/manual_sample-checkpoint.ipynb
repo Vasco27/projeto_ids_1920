{
 "cells": [
  {
   "cell_type": "markdown",
   "metadata": {},
   "source": [
    "# Datasets:\n",
    "\n",
    "* Dataset \"**Movies**\" e \"**Ratings**\"\n",
    "* Transformação de timestamps em DateTimes\n",
    "* Nos **Ratings** não existem dados antes de 1995 e depois de 2018\n",
    "* Há cerca de 27 milhões de ratings e 58 mil filmes nos datasets\n",
    "\n",
    "## Ratings:"
   ]
  },
  {
   "cell_type": "code",
   "execution_count": 1,
   "metadata": {},
   "outputs": [
    {
     "name": "stdout",
     "output_type": "stream",
     "text": [
      "(27753444, 4)\n"
     ]
    },
    {
     "data": {
      "text/html": [
       "<div>\n",
       "<style scoped>\n",
       "    .dataframe tbody tr th:only-of-type {\n",
       "        vertical-align: middle;\n",
       "    }\n",
       "\n",
       "    .dataframe tbody tr th {\n",
       "        vertical-align: top;\n",
       "    }\n",
       "\n",
       "    .dataframe thead th {\n",
       "        text-align: right;\n",
       "    }\n",
       "</style>\n",
       "<table border=\"1\" class=\"dataframe\">\n",
       "  <thead>\n",
       "    <tr style=\"text-align: right;\">\n",
       "      <th></th>\n",
       "      <th>userId</th>\n",
       "      <th>movieId</th>\n",
       "      <th>rating</th>\n",
       "      <th>timestamp</th>\n",
       "    </tr>\n",
       "  </thead>\n",
       "  <tbody>\n",
       "    <tr>\n",
       "      <td>0</td>\n",
       "      <td>1</td>\n",
       "      <td>307</td>\n",
       "      <td>3.5</td>\n",
       "      <td>1256677221</td>\n",
       "    </tr>\n",
       "    <tr>\n",
       "      <td>1</td>\n",
       "      <td>1</td>\n",
       "      <td>481</td>\n",
       "      <td>3.5</td>\n",
       "      <td>1256677456</td>\n",
       "    </tr>\n",
       "    <tr>\n",
       "      <td>2</td>\n",
       "      <td>1</td>\n",
       "      <td>1091</td>\n",
       "      <td>1.5</td>\n",
       "      <td>1256677471</td>\n",
       "    </tr>\n",
       "    <tr>\n",
       "      <td>3</td>\n",
       "      <td>1</td>\n",
       "      <td>1257</td>\n",
       "      <td>4.5</td>\n",
       "      <td>1256677460</td>\n",
       "    </tr>\n",
       "    <tr>\n",
       "      <td>4</td>\n",
       "      <td>1</td>\n",
       "      <td>1449</td>\n",
       "      <td>4.5</td>\n",
       "      <td>1256677264</td>\n",
       "    </tr>\n",
       "  </tbody>\n",
       "</table>\n",
       "</div>"
      ],
      "text/plain": [
       "   userId  movieId  rating   timestamp\n",
       "0       1      307     3.5  1256677221\n",
       "1       1      481     3.5  1256677456\n",
       "2       1     1091     1.5  1256677471\n",
       "3       1     1257     4.5  1256677460\n",
       "4       1     1449     4.5  1256677264"
      ]
     },
     "execution_count": 1,
     "metadata": {},
     "output_type": "execute_result"
    }
   ],
   "source": [
    "import pandas as pd\n",
    "import numpy as np\n",
    "import scipy.sparse as sparse\n",
    "from scipy.sparse.linalg import spsolve\n",
    "import implicit\n",
    "\n",
    "ratings = pd.read_csv(\"datasets/ratings.csv\")\n",
    "print(ratings.shape)\n",
    "ratings.head()"
   ]
  },
  {
   "cell_type": "markdown",
   "metadata": {},
   "source": [
    "##### Transformar timestamps em datetime:\n",
    "* transformar a coluna \"timestamp\" no dataset dos ratings\n",
    "* Possivelmente utilizá-la como index"
   ]
  },
  {
   "cell_type": "code",
   "execution_count": 2,
   "metadata": {},
   "outputs": [
    {
     "data": {
      "text/html": [
       "<div>\n",
       "<style scoped>\n",
       "    .dataframe tbody tr th:only-of-type {\n",
       "        vertical-align: middle;\n",
       "    }\n",
       "\n",
       "    .dataframe tbody tr th {\n",
       "        vertical-align: top;\n",
       "    }\n",
       "\n",
       "    .dataframe thead th {\n",
       "        text-align: right;\n",
       "    }\n",
       "</style>\n",
       "<table border=\"1\" class=\"dataframe\">\n",
       "  <thead>\n",
       "    <tr style=\"text-align: right;\">\n",
       "      <th></th>\n",
       "      <th>userId</th>\n",
       "      <th>movieId</th>\n",
       "      <th>rating</th>\n",
       "      <th>date</th>\n",
       "    </tr>\n",
       "  </thead>\n",
       "  <tbody>\n",
       "    <tr>\n",
       "      <td>0</td>\n",
       "      <td>1</td>\n",
       "      <td>307</td>\n",
       "      <td>3.5</td>\n",
       "      <td>2009-10-27 21:00:21</td>\n",
       "    </tr>\n",
       "    <tr>\n",
       "      <td>1</td>\n",
       "      <td>1</td>\n",
       "      <td>481</td>\n",
       "      <td>3.5</td>\n",
       "      <td>2009-10-27 21:04:16</td>\n",
       "    </tr>\n",
       "    <tr>\n",
       "      <td>2</td>\n",
       "      <td>1</td>\n",
       "      <td>1091</td>\n",
       "      <td>1.5</td>\n",
       "      <td>2009-10-27 21:04:31</td>\n",
       "    </tr>\n",
       "    <tr>\n",
       "      <td>3</td>\n",
       "      <td>1</td>\n",
       "      <td>1257</td>\n",
       "      <td>4.5</td>\n",
       "      <td>2009-10-27 21:04:20</td>\n",
       "    </tr>\n",
       "    <tr>\n",
       "      <td>4</td>\n",
       "      <td>1</td>\n",
       "      <td>1449</td>\n",
       "      <td>4.5</td>\n",
       "      <td>2009-10-27 21:01:04</td>\n",
       "    </tr>\n",
       "  </tbody>\n",
       "</table>\n",
       "</div>"
      ],
      "text/plain": [
       "   userId  movieId  rating                date\n",
       "0       1      307     3.5 2009-10-27 21:00:21\n",
       "1       1      481     3.5 2009-10-27 21:04:16\n",
       "2       1     1091     1.5 2009-10-27 21:04:31\n",
       "3       1     1257     4.5 2009-10-27 21:04:20\n",
       "4       1     1449     4.5 2009-10-27 21:01:04"
      ]
     },
     "execution_count": 2,
     "metadata": {},
     "output_type": "execute_result"
    }
   ],
   "source": [
    "ratings[\"date\"] = pd.to_datetime(ratings.timestamp, unit = \"s\")\n",
    "ratings = ratings.drop(columns = \"timestamp\")\n",
    "ratings.head()\n",
    "\n",
    "#Se for preciso utilizar a data como index\n",
    "#ratings_plot.index = pd.DatetimeIndex(ratings_plot.date)"
   ]
  },
  {
   "cell_type": "markdown",
   "metadata": {},
   "source": [
    "**Não existem ratings antes de 1995 e depois de 2018**"
   ]
  },
  {
   "cell_type": "code",
   "execution_count": 3,
   "metadata": {},
   "outputs": [
    {
     "name": "stdout",
     "output_type": "stream",
     "text": [
      "Empty DataFrame\n",
      "Columns: [userId, movieId, rating, date]\n",
      "Index: []\n",
      "Empty DataFrame\n",
      "Columns: [userId, movieId, rating, date]\n",
      "Index: []\n"
     ]
    }
   ],
   "source": [
    "print(ratings.loc[ratings.date.dt.year < 1995])\n",
    "print(ratings.loc[ratings.date.dt.year > 2018])"
   ]
  },
  {
   "cell_type": "markdown",
   "metadata": {},
   "source": [
    "## Movies:"
   ]
  },
  {
   "cell_type": "code",
   "execution_count": 4,
   "metadata": {},
   "outputs": [
    {
     "name": "stdout",
     "output_type": "stream",
     "text": [
      "(58098, 3)\n"
     ]
    },
    {
     "data": {
      "text/html": [
       "<div>\n",
       "<style scoped>\n",
       "    .dataframe tbody tr th:only-of-type {\n",
       "        vertical-align: middle;\n",
       "    }\n",
       "\n",
       "    .dataframe tbody tr th {\n",
       "        vertical-align: top;\n",
       "    }\n",
       "\n",
       "    .dataframe thead th {\n",
       "        text-align: right;\n",
       "    }\n",
       "</style>\n",
       "<table border=\"1\" class=\"dataframe\">\n",
       "  <thead>\n",
       "    <tr style=\"text-align: right;\">\n",
       "      <th></th>\n",
       "      <th>movieId</th>\n",
       "      <th>title</th>\n",
       "      <th>genres</th>\n",
       "    </tr>\n",
       "  </thead>\n",
       "  <tbody>\n",
       "    <tr>\n",
       "      <td>0</td>\n",
       "      <td>1</td>\n",
       "      <td>Toy Story (1995)</td>\n",
       "      <td>Adventure|Animation|Children|Comedy|Fantasy</td>\n",
       "    </tr>\n",
       "    <tr>\n",
       "      <td>1</td>\n",
       "      <td>2</td>\n",
       "      <td>Jumanji (1995)</td>\n",
       "      <td>Adventure|Children|Fantasy</td>\n",
       "    </tr>\n",
       "    <tr>\n",
       "      <td>2</td>\n",
       "      <td>3</td>\n",
       "      <td>Grumpier Old Men (1995)</td>\n",
       "      <td>Comedy|Romance</td>\n",
       "    </tr>\n",
       "    <tr>\n",
       "      <td>3</td>\n",
       "      <td>4</td>\n",
       "      <td>Waiting to Exhale (1995)</td>\n",
       "      <td>Comedy|Drama|Romance</td>\n",
       "    </tr>\n",
       "    <tr>\n",
       "      <td>4</td>\n",
       "      <td>5</td>\n",
       "      <td>Father of the Bride Part II (1995)</td>\n",
       "      <td>Comedy</td>\n",
       "    </tr>\n",
       "  </tbody>\n",
       "</table>\n",
       "</div>"
      ],
      "text/plain": [
       "   movieId                               title  \\\n",
       "0        1                    Toy Story (1995)   \n",
       "1        2                      Jumanji (1995)   \n",
       "2        3             Grumpier Old Men (1995)   \n",
       "3        4            Waiting to Exhale (1995)   \n",
       "4        5  Father of the Bride Part II (1995)   \n",
       "\n",
       "                                        genres  \n",
       "0  Adventure|Animation|Children|Comedy|Fantasy  \n",
       "1                   Adventure|Children|Fantasy  \n",
       "2                               Comedy|Romance  \n",
       "3                         Comedy|Drama|Romance  \n",
       "4                                       Comedy  "
      ]
     },
     "execution_count": 4,
     "metadata": {},
     "output_type": "execute_result"
    }
   ],
   "source": [
    "movies = pd.read_csv(\"datasets/movies.csv\")\n",
    "print(movies.shape)\n",
    "movies.head()"
   ]
  },
  {
   "cell_type": "code",
   "execution_count": 5,
   "metadata": {},
   "outputs": [
    {
     "data": {
      "text/html": [
       "<div>\n",
       "<style scoped>\n",
       "    .dataframe tbody tr th:only-of-type {\n",
       "        vertical-align: middle;\n",
       "    }\n",
       "\n",
       "    .dataframe tbody tr th {\n",
       "        vertical-align: top;\n",
       "    }\n",
       "\n",
       "    .dataframe thead th {\n",
       "        text-align: right;\n",
       "    }\n",
       "</style>\n",
       "<table border=\"1\" class=\"dataframe\">\n",
       "  <thead>\n",
       "    <tr style=\"text-align: right;\">\n",
       "      <th></th>\n",
       "      <th>movieId</th>\n",
       "      <th>title</th>\n",
       "      <th>genres</th>\n",
       "      <th>year</th>\n",
       "    </tr>\n",
       "  </thead>\n",
       "  <tbody>\n",
       "    <tr>\n",
       "      <td>0</td>\n",
       "      <td>1</td>\n",
       "      <td>Toy Story</td>\n",
       "      <td>Adventure|Animation|Children|Comedy|Fantasy</td>\n",
       "      <td>1995</td>\n",
       "    </tr>\n",
       "    <tr>\n",
       "      <td>1</td>\n",
       "      <td>2</td>\n",
       "      <td>Jumanji</td>\n",
       "      <td>Adventure|Children|Fantasy</td>\n",
       "      <td>1995</td>\n",
       "    </tr>\n",
       "    <tr>\n",
       "      <td>2</td>\n",
       "      <td>3</td>\n",
       "      <td>Grumpier Old Men</td>\n",
       "      <td>Comedy|Romance</td>\n",
       "      <td>1995</td>\n",
       "    </tr>\n",
       "    <tr>\n",
       "      <td>3</td>\n",
       "      <td>4</td>\n",
       "      <td>Waiting to Exhale</td>\n",
       "      <td>Comedy|Drama|Romance</td>\n",
       "      <td>1995</td>\n",
       "    </tr>\n",
       "    <tr>\n",
       "      <td>4</td>\n",
       "      <td>5</td>\n",
       "      <td>Father of the Bride Part II</td>\n",
       "      <td>Comedy</td>\n",
       "      <td>1995</td>\n",
       "    </tr>\n",
       "  </tbody>\n",
       "</table>\n",
       "</div>"
      ],
      "text/plain": [
       "   movieId                        title  \\\n",
       "0        1                    Toy Story   \n",
       "1        2                      Jumanji   \n",
       "2        3             Grumpier Old Men   \n",
       "3        4            Waiting to Exhale   \n",
       "4        5  Father of the Bride Part II   \n",
       "\n",
       "                                        genres  year  \n",
       "0  Adventure|Animation|Children|Comedy|Fantasy  1995  \n",
       "1                   Adventure|Children|Fantasy  1995  \n",
       "2                               Comedy|Romance  1995  \n",
       "3                         Comedy|Drama|Romance  1995  \n",
       "4                                       Comedy  1995  "
      ]
     },
     "execution_count": 5,
     "metadata": {},
     "output_type": "execute_result"
    }
   ],
   "source": [
    "#Extrair o ano\n",
    "movies[\"year\"] = movies.title.str.extract(\"\\((\\d{4})\\)\")\n",
    "movies.title = movies.title.str[:-7]\n",
    "movies.head()"
   ]
  },
  {
   "cell_type": "code",
   "execution_count": 6,
   "metadata": {},
   "outputs": [
    {
     "data": {
      "text/plain": [
       "(57771, 4)"
      ]
     },
     "execution_count": 6,
     "metadata": {},
     "output_type": "execute_result"
    }
   ],
   "source": [
    "movies = movies.dropna()\n",
    "movies.shape"
   ]
  },
  {
   "cell_type": "markdown",
   "metadata": {},
   "source": [
    "# Sampling do dataset:\n",
    "* Juntando os ratings com os movies\n",
    "* Sendo o peso o ano do filme (filmes mais antigos têm menos ratings e sao menos importantes para recomendação)\n",
    "* **BIAS:** Usando o ano como peso na amostragem acrescenta uma parcialidade a favor de filmes mais recentes.\n",
    "\n",
    "\n",
    "#### Número único de utilizadores e filmes:"
   ]
  },
  {
   "cell_type": "code",
   "execution_count": 7,
   "metadata": {},
   "outputs": [
    {
     "name": "stdout",
     "output_type": "stream",
     "text": [
      "(27753444, 6)\n",
      "283228\n",
      "50591\n"
     ]
    },
    {
     "data": {
      "text/html": [
       "<div>\n",
       "<style scoped>\n",
       "    .dataframe tbody tr th:only-of-type {\n",
       "        vertical-align: middle;\n",
       "    }\n",
       "\n",
       "    .dataframe tbody tr th {\n",
       "        vertical-align: top;\n",
       "    }\n",
       "\n",
       "    .dataframe thead th {\n",
       "        text-align: right;\n",
       "    }\n",
       "</style>\n",
       "<table border=\"1\" class=\"dataframe\">\n",
       "  <thead>\n",
       "    <tr style=\"text-align: right;\">\n",
       "      <th></th>\n",
       "      <th>userId</th>\n",
       "      <th>movieId</th>\n",
       "      <th>rating</th>\n",
       "      <th>date</th>\n",
       "      <th>title</th>\n",
       "      <th>year</th>\n",
       "    </tr>\n",
       "  </thead>\n",
       "  <tbody>\n",
       "    <tr>\n",
       "      <td>0</td>\n",
       "      <td>1</td>\n",
       "      <td>307</td>\n",
       "      <td>3.5</td>\n",
       "      <td>2009-10-27 21:00:21</td>\n",
       "      <td>Three Colors: Blue (Trois couleurs: Bleu)</td>\n",
       "      <td>1993</td>\n",
       "    </tr>\n",
       "    <tr>\n",
       "      <td>1</td>\n",
       "      <td>1</td>\n",
       "      <td>481</td>\n",
       "      <td>3.5</td>\n",
       "      <td>2009-10-27 21:04:16</td>\n",
       "      <td>Kalifornia</td>\n",
       "      <td>1993</td>\n",
       "    </tr>\n",
       "    <tr>\n",
       "      <td>2</td>\n",
       "      <td>1</td>\n",
       "      <td>1091</td>\n",
       "      <td>1.5</td>\n",
       "      <td>2009-10-27 21:04:31</td>\n",
       "      <td>Weekend at Bernie's</td>\n",
       "      <td>1989</td>\n",
       "    </tr>\n",
       "    <tr>\n",
       "      <td>3</td>\n",
       "      <td>1</td>\n",
       "      <td>1257</td>\n",
       "      <td>4.5</td>\n",
       "      <td>2009-10-27 21:04:20</td>\n",
       "      <td>Better Off Dead...</td>\n",
       "      <td>1985</td>\n",
       "    </tr>\n",
       "    <tr>\n",
       "      <td>4</td>\n",
       "      <td>1</td>\n",
       "      <td>1449</td>\n",
       "      <td>4.5</td>\n",
       "      <td>2009-10-27 21:01:04</td>\n",
       "      <td>Waiting for Guffman</td>\n",
       "      <td>1996</td>\n",
       "    </tr>\n",
       "  </tbody>\n",
       "</table>\n",
       "</div>"
      ],
      "text/plain": [
       "   userId  movieId  rating                date  \\\n",
       "0       1      307     3.5 2009-10-27 21:00:21   \n",
       "1       1      481     3.5 2009-10-27 21:04:16   \n",
       "2       1     1091     1.5 2009-10-27 21:04:31   \n",
       "3       1     1257     4.5 2009-10-27 21:04:20   \n",
       "4       1     1449     4.5 2009-10-27 21:01:04   \n",
       "\n",
       "                                       title  year  \n",
       "0  Three Colors: Blue (Trois couleurs: Bleu)  1993  \n",
       "1                                 Kalifornia  1993  \n",
       "2                        Weekend at Bernie's  1989  \n",
       "3                         Better Off Dead...  1985  \n",
       "4                        Waiting for Guffman  1996  "
      ]
     },
     "execution_count": 7,
     "metadata": {},
     "output_type": "execute_result"
    }
   ],
   "source": [
    "movie_ratings = ratings.join(movies.set_index(\"movieId\"), on = \"movieId\")\n",
    "movie_ratings.drop(columns = [\"genres\"], inplace = True)\n",
    "print(movie_ratings.shape)\n",
    "print(movie_ratings.userId.unique().size)\n",
    "print(movie_ratings.title.unique().size)\n",
    "movie_ratings.head()"
   ]
  },
  {
   "cell_type": "code",
   "execution_count": 8,
   "metadata": {},
   "outputs": [],
   "source": [
    "def get_count_movie_ratings(df, ratings_threshold):\n",
    "    movie_ratings = df.groupby(\"movieId\")[\"rating\"].count()\n",
    "    return(movie_ratings[movie_ratings > ratings_threshold])"
   ]
  },
  {
   "cell_type": "code",
   "execution_count": 9,
   "metadata": {},
   "outputs": [],
   "source": [
    "def ratings_from_movie(df, ratings_threshold):\n",
    "    movie_ratings = get_count_movie_ratings(df, ratings_threshold)\n",
    "    mask = df.movieId.apply(lambda x: x in movie_ratings.index)\n",
    "    return df[mask]"
   ]
  },
  {
   "cell_type": "code",
   "execution_count": 10,
   "metadata": {},
   "outputs": [
    {
     "name": "stdout",
     "output_type": "stream",
     "text": [
      "user count: (282438,)\n",
      "movie count: (2564,)\n"
     ]
    }
   ],
   "source": [
    "movie_ratings = ratings_from_movie(movie_ratings, 2000)\n",
    "print(\"user count:\", movie_ratings.userId.unique().shape)\n",
    "print(\"movie count:\", movie_ratings.movieId.unique().shape)"
   ]
  },
  {
   "cell_type": "markdown",
   "metadata": {},
   "source": [
    "### get_count_users_ratings:\n",
    "Extrai todos os utilizador de um dataframe que fizeram mais de um certo número de ratings (*ratings_threshold*)\n",
    "* *df* -> dataframe com userId e ratings\n",
    "* *ratings_threshold* -> número de ratings a partir do qual um utilizador é relevante"
   ]
  },
  {
   "cell_type": "code",
   "execution_count": 11,
   "metadata": {},
   "outputs": [],
   "source": [
    "def get_count_users_ratings(df, ratings_threshold):\n",
    "    user_ratings = df.groupby(\"userId\")[\"rating\"].count()\n",
    "    return(user_ratings[user_ratings > ratings_threshold])"
   ]
  },
  {
   "cell_type": "code",
   "execution_count": 12,
   "metadata": {},
   "outputs": [
    {
     "name": "stdout",
     "output_type": "stream",
     "text": [
      "(10585,)\n"
     ]
    },
    {
     "data": {
      "text/plain": [
       "userId\n",
       "4      659\n",
       "56     636\n",
       "81     834\n",
       "100    477\n",
       "134    842\n",
       "Name: rating, dtype: int64"
      ]
     },
     "execution_count": 12,
     "metadata": {},
     "output_type": "execute_result"
    }
   ],
   "source": [
    "#Exemplo de utilizacao\n",
    "user_ratings = get_count_users_ratings(movie_ratings, 400)\n",
    "print(user_ratings.shape)\n",
    "user_ratings.head()"
   ]
  },
  {
   "cell_type": "markdown",
   "metadata": {},
   "source": [
    "### ratings_from_users:\n",
    "Mostra apenas os utilizadores com mais de certos ratings num determinado dataframe, utilizando a função **get_count_users_ratings**."
   ]
  },
  {
   "cell_type": "code",
   "execution_count": 13,
   "metadata": {},
   "outputs": [],
   "source": [
    "def ratings_from_users(df, ratings_threshold):\n",
    "    user_ratings = get_count_users_ratings(df, ratings_threshold)\n",
    "    mask = df.userId.apply(lambda x: x in user_ratings.index)\n",
    "    return df[mask]"
   ]
  },
  {
   "cell_type": "code",
   "execution_count": 14,
   "metadata": {},
   "outputs": [
    {
     "name": "stdout",
     "output_type": "stream",
     "text": [
      "(1132119, 6)\n",
      "movie count: (2564,)\n",
      "user count: (910,)\n"
     ]
    },
    {
     "data": {
      "text/html": [
       "<div>\n",
       "<style scoped>\n",
       "    .dataframe tbody tr th:only-of-type {\n",
       "        vertical-align: middle;\n",
       "    }\n",
       "\n",
       "    .dataframe tbody tr th {\n",
       "        vertical-align: top;\n",
       "    }\n",
       "\n",
       "    .dataframe thead th {\n",
       "        text-align: right;\n",
       "    }\n",
       "</style>\n",
       "<table border=\"1\" class=\"dataframe\">\n",
       "  <thead>\n",
       "    <tr style=\"text-align: right;\">\n",
       "      <th></th>\n",
       "      <th>userId</th>\n",
       "      <th>movieId</th>\n",
       "      <th>rating</th>\n",
       "      <th>date</th>\n",
       "      <th>title</th>\n",
       "      <th>year</th>\n",
       "    </tr>\n",
       "  </thead>\n",
       "  <tbody>\n",
       "    <tr>\n",
       "      <td>22715</td>\n",
       "      <td>235</td>\n",
       "      <td>1</td>\n",
       "      <td>5.0</td>\n",
       "      <td>2001-12-30 12:50:08</td>\n",
       "      <td>Toy Story</td>\n",
       "      <td>1995</td>\n",
       "    </tr>\n",
       "    <tr>\n",
       "      <td>22716</td>\n",
       "      <td>235</td>\n",
       "      <td>2</td>\n",
       "      <td>3.0</td>\n",
       "      <td>2001-12-30 12:40:16</td>\n",
       "      <td>Jumanji</td>\n",
       "      <td>1995</td>\n",
       "    </tr>\n",
       "    <tr>\n",
       "      <td>22717</td>\n",
       "      <td>235</td>\n",
       "      <td>6</td>\n",
       "      <td>4.0</td>\n",
       "      <td>2002-01-09 14:07:39</td>\n",
       "      <td>Heat</td>\n",
       "      <td>1995</td>\n",
       "    </tr>\n",
       "    <tr>\n",
       "      <td>22718</td>\n",
       "      <td>235</td>\n",
       "      <td>10</td>\n",
       "      <td>5.0</td>\n",
       "      <td>2002-01-04 20:11:16</td>\n",
       "      <td>GoldenEye</td>\n",
       "      <td>1995</td>\n",
       "    </tr>\n",
       "    <tr>\n",
       "      <td>22719</td>\n",
       "      <td>235</td>\n",
       "      <td>11</td>\n",
       "      <td>4.0</td>\n",
       "      <td>2001-12-30 12:43:01</td>\n",
       "      <td>American President, The</td>\n",
       "      <td>1995</td>\n",
       "    </tr>\n",
       "  </tbody>\n",
       "</table>\n",
       "</div>"
      ],
      "text/plain": [
       "       userId  movieId  rating                date                    title  \\\n",
       "22715     235        1     5.0 2001-12-30 12:50:08                Toy Story   \n",
       "22716     235        2     3.0 2001-12-30 12:40:16                  Jumanji   \n",
       "22717     235        6     4.0 2002-01-09 14:07:39                     Heat   \n",
       "22718     235       10     5.0 2002-01-04 20:11:16                GoldenEye   \n",
       "22719     235       11     4.0 2001-12-30 12:43:01  American President, The   \n",
       "\n",
       "       year  \n",
       "22715  1995  \n",
       "22716  1995  \n",
       "22717  1995  \n",
       "22718  1995  \n",
       "22719  1995  "
      ]
     },
     "execution_count": 14,
     "metadata": {},
     "output_type": "execute_result"
    }
   ],
   "source": [
    "#Exemplo\n",
    "movie_ratings = ratings_from_users(movie_ratings, 1000)\n",
    "print(movie_ratings.shape)\n",
    "print(\"movie count:\", movie_ratings.movieId.unique().shape)\n",
    "print(\"user count:\", movie_ratings.userId.unique().shape)\n",
    "movie_ratings.head()"
   ]
  },
  {
   "cell_type": "markdown",
   "metadata": {},
   "source": [
    "Sample de 100K ratings, dando mais importância a anos mais recentes"
   ]
  },
  {
   "cell_type": "code",
   "execution_count": 15,
   "metadata": {},
   "outputs": [
    {
     "name": "stdout",
     "output_type": "stream",
     "text": [
      "(200000, 6)\n"
     ]
    },
    {
     "data": {
      "text/html": [
       "<div>\n",
       "<style scoped>\n",
       "    .dataframe tbody tr th:only-of-type {\n",
       "        vertical-align: middle;\n",
       "    }\n",
       "\n",
       "    .dataframe tbody tr th {\n",
       "        vertical-align: top;\n",
       "    }\n",
       "\n",
       "    .dataframe thead th {\n",
       "        text-align: right;\n",
       "    }\n",
       "</style>\n",
       "<table border=\"1\" class=\"dataframe\">\n",
       "  <thead>\n",
       "    <tr style=\"text-align: right;\">\n",
       "      <th></th>\n",
       "      <th>userId</th>\n",
       "      <th>movieId</th>\n",
       "      <th>rating</th>\n",
       "      <th>date</th>\n",
       "      <th>title</th>\n",
       "      <th>year</th>\n",
       "    </tr>\n",
       "  </thead>\n",
       "  <tbody>\n",
       "    <tr>\n",
       "      <td>11486193</td>\n",
       "      <td>117790</td>\n",
       "      <td>480</td>\n",
       "      <td>5.0</td>\n",
       "      <td>2015-06-21 08:57:35</td>\n",
       "      <td>Jurassic Park</td>\n",
       "      <td>1993</td>\n",
       "    </tr>\n",
       "    <tr>\n",
       "      <td>20239568</td>\n",
       "      <td>206360</td>\n",
       "      <td>913</td>\n",
       "      <td>3.5</td>\n",
       "      <td>2006-01-02 04:21:21</td>\n",
       "      <td>Maltese Falcon, The</td>\n",
       "      <td>1941</td>\n",
       "    </tr>\n",
       "    <tr>\n",
       "      <td>22857</td>\n",
       "      <td>235</td>\n",
       "      <td>593</td>\n",
       "      <td>5.0</td>\n",
       "      <td>2001-11-21 18:58:52</td>\n",
       "      <td>Silence of the Lambs, The</td>\n",
       "      <td>1991</td>\n",
       "    </tr>\n",
       "    <tr>\n",
       "      <td>8444100</td>\n",
       "      <td>87000</td>\n",
       "      <td>799</td>\n",
       "      <td>3.5</td>\n",
       "      <td>2005-10-23 19:06:58</td>\n",
       "      <td>Frighteners, The</td>\n",
       "      <td>1996</td>\n",
       "    </tr>\n",
       "    <tr>\n",
       "      <td>4157730</td>\n",
       "      <td>42704</td>\n",
       "      <td>519</td>\n",
       "      <td>3.0</td>\n",
       "      <td>2005-02-09 07:58:48</td>\n",
       "      <td>RoboCop 3</td>\n",
       "      <td>1993</td>\n",
       "    </tr>\n",
       "  </tbody>\n",
       "</table>\n",
       "</div>"
      ],
      "text/plain": [
       "          userId  movieId  rating                date  \\\n",
       "11486193  117790      480     5.0 2015-06-21 08:57:35   \n",
       "20239568  206360      913     3.5 2006-01-02 04:21:21   \n",
       "22857        235      593     5.0 2001-11-21 18:58:52   \n",
       "8444100    87000      799     3.5 2005-10-23 19:06:58   \n",
       "4157730    42704      519     3.0 2005-02-09 07:58:48   \n",
       "\n",
       "                              title  year  \n",
       "11486193              Jurassic Park  1993  \n",
       "20239568        Maltese Falcon, The  1941  \n",
       "22857     Silence of the Lambs, The  1991  \n",
       "8444100            Frighteners, The  1996  \n",
       "4157730                   RoboCop 3  1993  "
      ]
     },
     "execution_count": 15,
     "metadata": {},
     "output_type": "execute_result"
    }
   ],
   "source": [
    "sampled_ratings = pd.DataFrame(movie_ratings)\n",
    "sampled_ratings = sampled_ratings.sample(n = 200000, replace = False, weights = \"year\", random_state = 1)\n",
    "print(sampled_ratings.shape)\n",
    "sampled_ratings.head()"
   ]
  },
  {
   "cell_type": "markdown",
   "metadata": {},
   "source": [
    "Verificação da possibilidade de construir uma pivot_table com os utilizadores e filmes existentes na sample. Estes não podem ultrapassar o valor máximo de um **int32**."
   ]
  },
  {
   "cell_type": "code",
   "execution_count": 16,
   "metadata": {},
   "outputs": [
    {
     "name": "stdout",
     "output_type": "stream",
     "text": [
      "(500000, 6)\n",
      "user count: 910\n",
      "movie count: 2564\n",
      "2333240\n",
      "True\n"
     ]
    }
   ],
   "source": [
    "#não existem valores em falta no dataframe\n",
    "print(sampled_ratings.dropna().shape)\n",
    "print(\"user count:\",sampled_ratings.userId.unique().size)\n",
    "print(\"movie count:\",sampled_ratings.movieId.unique().size)\n",
    "print(sampled_ratings.userId.unique().size * sampled_ratings.movieId.unique().size)\n",
    "\n",
    "#Verificar se o tamanho da sample (em forma de pivot table) é maior que o maior valor do int32 (evitar memory errors)\n",
    "print(2147483647 > (sampled_ratings.userId.unique().size * sampled_ratings.movieId.unique().size))"
   ]
  },
  {
   "cell_type": "code",
   "execution_count": 17,
   "metadata": {},
   "outputs": [],
   "source": [
    "sampled_ratings.userId = pd.to_numeric(sampled_ratings.userId, downcast = \"integer\")\n",
    "sampled_ratings.movieId = pd.to_numeric(sampled_ratings.movieId, downcast = \"integer\")\n",
    "sampled_ratings.rating = pd.to_numeric(sampled_ratings.rating, downcast = \"float\")\n",
    "\n",
    "#para usar com o implicit é preciso as duas\n",
    "merge_matrix = sampled_ratings.pivot_table(index = \"userId\", columns = \"title\", values = \"rating\")\n",
    "#user_movie_matrix = sampled_ratings.pivot_table(index = \"userId\", columns = \"title\", values = \"rating\")\n",
    "#movie_user_matrix = sampled_ratings.pivot_table(index = \"title\", columns = \"userId\", values = \"rating\")"
   ]
  },
  {
   "cell_type": "code",
   "execution_count": 18,
   "metadata": {},
   "outputs": [
    {
     "data": {
      "text/plain": [
       "title\n",
       "Marley & Me                                       0.684252\n",
       "Insurgent                                         0.677486\n",
       "Sandlot, The                                      0.643707\n",
       "Wings of the Dove, The                            0.638555\n",
       "Shrek 2                                           0.637273\n",
       "Houseguest                                        0.628128\n",
       "Ulee's Gold                                       0.623437\n",
       "Defending Your Life                               0.610485\n",
       "Spy                                               0.609055\n",
       "For Love of the Game                              0.607001\n",
       "Coco                                              0.606300\n",
       "Chariots of Fire                                  0.605136\n",
       "Crucible, The                                     0.603622\n",
       "Doctor Strange                                    0.594131\n",
       "Fantastic Beasts and Where to Find Them           0.592157\n",
       "She's the Man                                     0.591017\n",
       "Made in America                                   0.587055\n",
       "Conjuring, The                                    0.585899\n",
       "Stuart Little                                     0.585349\n",
       "Jaws 3-D                                          0.584919\n",
       "Shadow, The                                       0.577758\n",
       "Kung Fu Panda                                     0.572736\n",
       "Only You                                          0.571358\n",
       "Shark Tale                                        0.567808\n",
       "The Imitation Game                                0.567686\n",
       "Reindeer Games                                    0.564143\n",
       "Reader, The                                       0.560116\n",
       "Million Dollar Baby                               0.557014\n",
       "Now You See Me 2                                  0.555606\n",
       "Higher Learning                                   0.553991\n",
       "Ray                                               0.551934\n",
       "Tin Men                                           0.551460\n",
       "Night at the Museum: Battle of the Smithsonian    0.546551\n",
       "Cold Mountain                                     0.541644\n",
       "Sherlock: The Abominable Bride                    0.539500\n",
       "King and I, The                                   0.537766\n",
       "Rocky II                                          0.535098\n",
       "Rocky V                                           0.534277\n",
       "21 Jump Street                                    0.531063\n",
       "Stand and Deliver                                 0.529974\n",
       "The Man from U.N.C.L.E.                           0.525516\n",
       "Circle of Friends                                 0.524290\n",
       "Burnt by the Sun (Utomlyonnye solntsem)           0.523631\n",
       "City Hall                                         0.523196\n",
       "X-Men: Apocalypse                                 0.520421\n",
       "Indecent Proposal                                 0.519687\n",
       "Zootopia                                          0.512306\n",
       "Kazaam                                            0.508981\n",
       "Polar Express, The                                0.508566\n",
       "Waiting to Exhale                                 0.506561\n",
       "Story of Us, The                                  0.506484\n",
       "Runaway Jury                                      0.502332\n",
       "dtype: float64"
      ]
     },
     "execution_count": 18,
     "metadata": {},
     "output_type": "execute_result"
    }
   ],
   "source": [
    "import correlation as corr\n",
    "corr.ratings_correlation(sampled_ratings, merge_matrix, \"Shrek\", 3, 10, 0.5).get_correlations()"
   ]
  },
  {
   "cell_type": "markdown",
   "metadata": {},
   "source": [
    "# Baseline predictors:"
   ]
  },
  {
   "cell_type": "code",
   "execution_count": 38,
   "metadata": {},
   "outputs": [
    {
     "data": {
      "text/html": [
       "<div>\n",
       "<style scoped>\n",
       "    .dataframe tbody tr th:only-of-type {\n",
       "        vertical-align: middle;\n",
       "    }\n",
       "\n",
       "    .dataframe tbody tr th {\n",
       "        vertical-align: top;\n",
       "    }\n",
       "\n",
       "    .dataframe thead th {\n",
       "        text-align: right;\n",
       "    }\n",
       "</style>\n",
       "<table border=\"1\" class=\"dataframe\">\n",
       "  <thead>\n",
       "    <tr style=\"text-align: right;\">\n",
       "      <th></th>\n",
       "      <th>userId</th>\n",
       "      <th>movieId</th>\n",
       "      <th>rating</th>\n",
       "      <th>date</th>\n",
       "      <th>title</th>\n",
       "      <th>year</th>\n",
       "      <th>bi</th>\n",
       "      <th>bu</th>\n",
       "      <th>bui</th>\n",
       "    </tr>\n",
       "  </thead>\n",
       "  <tbody>\n",
       "    <tr>\n",
       "      <td>0</td>\n",
       "      <td>381</td>\n",
       "      <td>257</td>\n",
       "      <td>5.0</td>\n",
       "      <td>2015-06-21 08:57:35</td>\n",
       "      <td>Jurassic Park</td>\n",
       "      <td>1993</td>\n",
       "      <td>0.395913</td>\n",
       "      <td>0.463309</td>\n",
       "      <td>5.859221</td>\n",
       "    </tr>\n",
       "    <tr>\n",
       "      <td>1</td>\n",
       "      <td>658</td>\n",
       "      <td>408</td>\n",
       "      <td>3.5</td>\n",
       "      <td>2006-01-02 04:21:21</td>\n",
       "      <td>Maltese Falcon, The</td>\n",
       "      <td>1941</td>\n",
       "      <td>0.628930</td>\n",
       "      <td>-0.095349</td>\n",
       "      <td>4.033580</td>\n",
       "    </tr>\n",
       "    <tr>\n",
       "      <td>2</td>\n",
       "      <td>0</td>\n",
       "      <td>313</td>\n",
       "      <td>5.0</td>\n",
       "      <td>2001-11-21 18:58:52</td>\n",
       "      <td>Silence of the Lambs, The</td>\n",
       "      <td>1991</td>\n",
       "      <td>0.916927</td>\n",
       "      <td>0.539949</td>\n",
       "      <td>6.456875</td>\n",
       "    </tr>\n",
       "    <tr>\n",
       "      <td>3</td>\n",
       "      <td>278</td>\n",
       "      <td>372</td>\n",
       "      <td>3.5</td>\n",
       "      <td>2005-10-23 19:06:58</td>\n",
       "      <td>Frighteners, The</td>\n",
       "      <td>1996</td>\n",
       "      <td>0.018827</td>\n",
       "      <td>-0.081526</td>\n",
       "      <td>3.437302</td>\n",
       "    </tr>\n",
       "    <tr>\n",
       "      <td>4</td>\n",
       "      <td>138</td>\n",
       "      <td>278</td>\n",
       "      <td>3.0</td>\n",
       "      <td>2005-02-09 07:58:48</td>\n",
       "      <td>RoboCop 3</td>\n",
       "      <td>1993</td>\n",
       "      <td>-1.240506</td>\n",
       "      <td>0.444984</td>\n",
       "      <td>2.204478</td>\n",
       "    </tr>\n",
       "  </tbody>\n",
       "</table>\n",
       "</div>"
      ],
      "text/plain": [
       "   userId  movieId  rating                date                      title  \\\n",
       "0     381      257     5.0 2015-06-21 08:57:35              Jurassic Park   \n",
       "1     658      408     3.5 2006-01-02 04:21:21        Maltese Falcon, The   \n",
       "2       0      313     5.0 2001-11-21 18:58:52  Silence of the Lambs, The   \n",
       "3     278      372     3.5 2005-10-23 19:06:58           Frighteners, The   \n",
       "4     138      278     3.0 2005-02-09 07:58:48                  RoboCop 3   \n",
       "\n",
       "   year        bi        bu       bui  \n",
       "0  1993  0.395913  0.463309  5.859221  \n",
       "1  1941  0.628930 -0.095349  4.033580  \n",
       "2  1991  0.916927  0.539949  6.456875  \n",
       "3  1996  0.018827 -0.081526  3.437302  \n",
       "4  1993 -1.240506  0.444984  2.204478  "
      ]
     },
     "execution_count": 38,
     "metadata": {},
     "output_type": "execute_result"
    }
   ],
   "source": [
    "import baseline as base\n",
    "base.make_baseline(sampled_ratings, damping_factor = 25).get_ratings().head()"
   ]
  },
  {
   "cell_type": "markdown",
   "metadata": {},
   "source": [
    "# Alternating Least Squares (ALS)\n",
    "## Tensor\n",
    "Este recommender system define-se por (U, I, A), em que U é o conjunto de utilizadores com dimensão *n*, I é o conjunto de itens (filmes) com dimensão *p* e A é o conjunto de ratings dados pelos utilizadores aos produtos com dimensão *q*.\n",
    "\n",
    "* $r_{uia}$ representa o feedback do utilizador $u$ através do rating $a$ para um item $i$.\n",
    "* Todos os feedbacks vão criar um *tensor* (array multidimensinal) **R** de dimensão $n * p * q$\n",
    "* Em **R**, nem todos os feedback vão existir, logo o objetivo do recommender system é que todos os valores deste tensor sejam preenchidos\n",
    "\n",
    "\n",
    "### Tensor factorization:\n",
    "* CANDECOMP-PARAFAC (CP)\n",
    "* Tucker decompositions\n",
    "\n",
    "São problemas muito difíceis computacionalmente, por isso a solução é:\n",
    "\n",
    "## Higher Order Alternating Least Squares (HOALS):\n",
    "* Usando Tucker decomposition\n",
    "* Tensor de ordem n = 2\n",
    "* Cada feature deve ser tratada independentemente"
   ]
  },
  {
   "cell_type": "code",
   "execution_count": 19,
   "metadata": {},
   "outputs": [
    {
     "ename": "NameError",
     "evalue": "name 'movie_user_matrix' is not defined",
     "output_type": "error",
     "traceback": [
      "\u001b[1;31m---------------------------------------------------------------------------\u001b[0m",
      "\u001b[1;31mNameError\u001b[0m                                 Traceback (most recent call last)",
      "\u001b[1;32m<ipython-input-19-28f9b35e357c>\u001b[0m in \u001b[0;36m<module>\u001b[1;34m\u001b[0m\n\u001b[0;32m      1\u001b[0m \u001b[0malpha\u001b[0m \u001b[1;33m=\u001b[0m \u001b[1;36m40\u001b[0m\u001b[1;33m\u001b[0m\u001b[1;33m\u001b[0m\u001b[0m\n\u001b[1;32m----> 2\u001b[1;33m \u001b[0mconfidence\u001b[0m \u001b[1;33m=\u001b[0m \u001b[1;33m(\u001b[0m\u001b[0mmovie_user_matrix\u001b[0m \u001b[1;33m*\u001b[0m \u001b[0malpha\u001b[0m\u001b[1;33m)\u001b[0m\u001b[1;33m.\u001b[0m\u001b[0mastype\u001b[0m\u001b[1;33m(\u001b[0m\u001b[1;34m\"double\"\u001b[0m\u001b[1;33m)\u001b[0m\u001b[1;33m\u001b[0m\u001b[1;33m\u001b[0m\u001b[0m\n\u001b[0m\u001b[0;32m      3\u001b[0m \u001b[1;33m\u001b[0m\u001b[0m\n\u001b[0;32m      4\u001b[0m \u001b[1;31m#Als model with 10 latent factor, lambda = 0.1 and 10 alternating iterations\u001b[0m\u001b[1;33m\u001b[0m\u001b[1;33m\u001b[0m\u001b[1;33m\u001b[0m\u001b[0m\n\u001b[0;32m      5\u001b[0m \u001b[0mals_model\u001b[0m \u001b[1;33m=\u001b[0m \u001b[0mimplicit\u001b[0m\u001b[1;33m.\u001b[0m\u001b[0mals\u001b[0m\u001b[1;33m.\u001b[0m\u001b[0mAlternatingLeastSquares\u001b[0m\u001b[1;33m(\u001b[0m\u001b[0mfactors\u001b[0m \u001b[1;33m=\u001b[0m \u001b[1;36m20\u001b[0m\u001b[1;33m,\u001b[0m \u001b[0mregularization\u001b[0m \u001b[1;33m=\u001b[0m \u001b[1;36m0.1\u001b[0m\u001b[1;33m,\u001b[0m \u001b[0miterations\u001b[0m \u001b[1;33m=\u001b[0m \u001b[1;36m20\u001b[0m\u001b[1;33m)\u001b[0m\u001b[1;33m\u001b[0m\u001b[1;33m\u001b[0m\u001b[0m\n",
      "\u001b[1;31mNameError\u001b[0m: name 'movie_user_matrix' is not defined"
     ]
    }
   ],
   "source": [
    "alpha = 40\n",
    "confidence = (movie_user_matrix * alpha).astype(\"double\")\n",
    "\n",
    "#Als model with 10 latent factor, lambda = 0.1 and 10 alternating iterations\n",
    "als_model = implicit.als.AlternatingLeastSquares(factors = 10, regularization = 0.1, iterations = 10)\n",
    "als_model.fit(confidence)\n",
    "%time"
   ]
  },
  {
   "cell_type": "code",
   "execution_count": 36,
   "metadata": {},
   "outputs": [
    {
     "name": "stdout",
     "output_type": "stream",
     "text": [
      "Title: You Can Count on Me \n",
      "Score: 1.0374522\n",
      "Title: Living in Oblivion \n",
      "Score: 1.0325506\n",
      "Title: American Movie \n",
      "Score: 1.0321634\n",
      "Title: Everyone Says I Love You \n",
      "Score: 1.0266441\n",
      "Title: From Here to Eternity \n",
      "Score: 1.0256691\n",
      "Title: Charade \n",
      "Score: 1.0253102\n",
      "Title: Meet Me in St. Louis \n",
      "Score: 1.024713\n",
      "Title: His Girl Friday \n",
      "Score: 1.0230129\n",
      "Title: Purple Rose of Cairo, The \n",
      "Score: 1.0183117\n",
      "Title: 8 1/2 (8½) \n",
      "Score: 1.014023\n"
     ]
    }
   ],
   "source": [
    "#Using the implicit built in user recommender function\n",
    "recommended = als_model.recommend(10, user_movie_matrix)\n",
    "\n",
    "for rec in recommended:\n",
    "    i, score = rec\n",
    "    print(\"Title:\", sampled_ratings.loc[sampled_ratings.movieId == i].title.iloc[0], \"\\nScore:\", score)"
   ]
  },
  {
   "cell_type": "code",
   "execution_count": 17,
   "metadata": {},
   "outputs": [
    {
     "name": "stderr",
     "output_type": "stream",
     "text": [
      "WARNING:root:Intel MKL BLAS detected. Its highly recommend to set the environment variable 'export MKL_NUM_THREADS=1' to disable its internal multithreading\n"
     ]
    },
    {
     "data": {
      "application/vnd.jupyter.widget-view+json": {
       "model_id": "ca722bae03d545a5ba9719505a5c1f4b",
       "version_major": 2,
       "version_minor": 0
      },
      "text/plain": [
       "HBox(children=(FloatProgress(value=0.0, max=10.0), HTML(value='')))"
      ]
     },
     "metadata": {},
     "output_type": "display_data"
    },
    {
     "name": "stdout",
     "output_type": "stream",
     "text": [
      "\n"
     ]
    }
   ],
   "source": [
    "#Fitting with class\n",
    "import als_recommender as als\n",
    "model = als.ALSRecommender(iterations = 10, latent = 10, alpha = 40, regularizer = 0.1)\n",
    "model.fit(sampled_ratings)"
   ]
  },
  {
   "cell_type": "code",
   "execution_count": 18,
   "metadata": {},
   "outputs": [
    {
     "data": {
      "text/html": [
       "<div>\n",
       "<style scoped>\n",
       "    .dataframe tbody tr th:only-of-type {\n",
       "        vertical-align: middle;\n",
       "    }\n",
       "\n",
       "    .dataframe tbody tr th {\n",
       "        vertical-align: top;\n",
       "    }\n",
       "\n",
       "    .dataframe thead th {\n",
       "        text-align: right;\n",
       "    }\n",
       "</style>\n",
       "<table border=\"1\" class=\"dataframe\">\n",
       "  <thead>\n",
       "    <tr style=\"text-align: right;\">\n",
       "      <th></th>\n",
       "      <th>movie_title</th>\n",
       "      <th>similarity</th>\n",
       "    </tr>\n",
       "  </thead>\n",
       "  <tbody>\n",
       "    <tr>\n",
       "      <td>0</td>\n",
       "      <td>Toy Story</td>\n",
       "      <td>0.327326</td>\n",
       "    </tr>\n",
       "    <tr>\n",
       "      <td>1</td>\n",
       "      <td>Goonies, The</td>\n",
       "      <td>0.326160</td>\n",
       "    </tr>\n",
       "    <tr>\n",
       "      <td>2</td>\n",
       "      <td>Spaceballs</td>\n",
       "      <td>0.325734</td>\n",
       "    </tr>\n",
       "    <tr>\n",
       "      <td>3</td>\n",
       "      <td>Airplane!</td>\n",
       "      <td>0.325431</td>\n",
       "    </tr>\n",
       "    <tr>\n",
       "      <td>4</td>\n",
       "      <td>A.I. Artificial Intelligence</td>\n",
       "      <td>0.325042</td>\n",
       "    </tr>\n",
       "    <tr>\n",
       "      <td>5</td>\n",
       "      <td>Predator</td>\n",
       "      <td>0.324934</td>\n",
       "    </tr>\n",
       "    <tr>\n",
       "      <td>6</td>\n",
       "      <td>Home Alone</td>\n",
       "      <td>0.324923</td>\n",
       "    </tr>\n",
       "    <tr>\n",
       "      <td>7</td>\n",
       "      <td>Lord of the Rings: The Two Towers, The</td>\n",
       "      <td>0.324891</td>\n",
       "    </tr>\n",
       "    <tr>\n",
       "      <td>8</td>\n",
       "      <td>Austin Powers: International Man of Mystery</td>\n",
       "      <td>0.324873</td>\n",
       "    </tr>\n",
       "    <tr>\n",
       "      <td>9</td>\n",
       "      <td>Indiana Jones and the Temple of Doom</td>\n",
       "      <td>0.324666</td>\n",
       "    </tr>\n",
       "  </tbody>\n",
       "</table>\n",
       "</div>"
      ],
      "text/plain": [
       "                                   movie_title  similarity\n",
       "0                                    Toy Story    0.327326\n",
       "1                                 Goonies, The    0.326160\n",
       "2                                   Spaceballs    0.325734\n",
       "3                                    Airplane!    0.325431\n",
       "4                 A.I. Artificial Intelligence    0.325042\n",
       "5                                     Predator    0.324934\n",
       "6                                   Home Alone    0.324923\n",
       "7       Lord of the Rings: The Two Towers, The    0.324891\n",
       "8  Austin Powers: International Man of Mystery    0.324873\n",
       "9         Indiana Jones and the Temple of Doom    0.324666"
      ]
     },
     "execution_count": 18,
     "metadata": {},
     "output_type": "execute_result"
    }
   ],
   "source": [
    "#Find movies similar to a certain movie with class\n",
    "model.similar_to_movie(movie_id = 0, n_similar = 10)"
   ]
  },
  {
   "cell_type": "code",
   "execution_count": 29,
   "metadata": {},
   "outputs": [
    {
     "data": {
      "text/html": [
       "<div>\n",
       "<style scoped>\n",
       "    .dataframe tbody tr th:only-of-type {\n",
       "        vertical-align: middle;\n",
       "    }\n",
       "\n",
       "    .dataframe tbody tr th {\n",
       "        vertical-align: top;\n",
       "    }\n",
       "\n",
       "    .dataframe thead th {\n",
       "        text-align: right;\n",
       "    }\n",
       "</style>\n",
       "<table border=\"1\" class=\"dataframe\">\n",
       "  <thead>\n",
       "    <tr style=\"text-align: right;\">\n",
       "      <th></th>\n",
       "      <th>movie_title</th>\n",
       "      <th>score</th>\n",
       "    </tr>\n",
       "  </thead>\n",
       "  <tbody>\n",
       "    <tr>\n",
       "      <td>0</td>\n",
       "      <td>Manhattan Murder Mystery</td>\n",
       "      <td>1.033533</td>\n",
       "    </tr>\n",
       "    <tr>\n",
       "      <td>1</td>\n",
       "      <td>His Girl Friday</td>\n",
       "      <td>1.026646</td>\n",
       "    </tr>\n",
       "    <tr>\n",
       "      <td>2</td>\n",
       "      <td>Charade</td>\n",
       "      <td>1.025606</td>\n",
       "    </tr>\n",
       "    <tr>\n",
       "      <td>3</td>\n",
       "      <td>From Here to Eternity</td>\n",
       "      <td>1.024198</td>\n",
       "    </tr>\n",
       "    <tr>\n",
       "      <td>4</td>\n",
       "      <td>Purple Rose of Cairo, The</td>\n",
       "      <td>1.020313</td>\n",
       "    </tr>\n",
       "    <tr>\n",
       "      <td>5</td>\n",
       "      <td>Everyone Says I Love You</td>\n",
       "      <td>1.017498</td>\n",
       "    </tr>\n",
       "    <tr>\n",
       "      <td>6</td>\n",
       "      <td>Mighty Aphrodite</td>\n",
       "      <td>1.016955</td>\n",
       "    </tr>\n",
       "    <tr>\n",
       "      <td>7</td>\n",
       "      <td>Spellbound</td>\n",
       "      <td>1.016857</td>\n",
       "    </tr>\n",
       "    <tr>\n",
       "      <td>8</td>\n",
       "      <td>M</td>\n",
       "      <td>1.015822</td>\n",
       "    </tr>\n",
       "    <tr>\n",
       "      <td>9</td>\n",
       "      <td>Streetcar Named Desire, A</td>\n",
       "      <td>1.015375</td>\n",
       "    </tr>\n",
       "  </tbody>\n",
       "</table>\n",
       "</div>"
      ],
      "text/plain": [
       "                 movie_title     score\n",
       "0   Manhattan Murder Mystery  1.033533\n",
       "1            His Girl Friday  1.026646\n",
       "2                    Charade  1.025606\n",
       "3      From Here to Eternity  1.024198\n",
       "4  Purple Rose of Cairo, The  1.020313\n",
       "5   Everyone Says I Love You  1.017498\n",
       "6           Mighty Aphrodite  1.016955\n",
       "7                 Spellbound  1.016857\n",
       "8                          M  1.015822\n",
       "9  Streetcar Named Desire, A  1.015375"
      ]
     },
     "execution_count": 29,
     "metadata": {},
     "output_type": "execute_result"
    }
   ],
   "source": [
    "model.recommend_to_user(user_id = 10, n_movies = 10)"
   ]
  }
 ],
 "metadata": {
  "kernelspec": {
   "display_name": "Python 3",
   "language": "python",
   "name": "python3"
  },
  "language_info": {
   "codemirror_mode": {
    "name": "ipython",
    "version": 3
   },
   "file_extension": ".py",
   "mimetype": "text/x-python",
   "name": "python",
   "nbconvert_exporter": "python",
   "pygments_lexer": "ipython3",
   "version": "3.7.4"
  }
 },
 "nbformat": 4,
 "nbformat_minor": 4
}
