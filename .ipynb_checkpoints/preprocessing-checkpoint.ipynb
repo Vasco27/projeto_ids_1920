{
 "cells": [
  {
   "cell_type": "markdown",
   "metadata": {},
   "source": [
    "# Pré-processamento:\n",
    "\n",
    "* Retirar o ano do filme da coluna \"title\" e colocá-lo numa coluna à parte\n",
    "* Separar os valores na coluna \"genres\" em valores separados\n",
    "* Transformar timestamps de unix time para datetime\n",
    "* O ficheiro dos links não tem informação util para este trabalho\n",
    "* Fazer um cut aleatório nos \"ratings\" para reduzir o tamanho da população para 10M\n",
    "* Juntar dataframes (ratings e movies)\n",
    "* Testar distribuição da amostra e da população\n",
    "\n",
    "## Ratings:"
   ]
  },
  {
   "cell_type": "code",
   "execution_count": 1,
   "metadata": {},
   "outputs": [
    {
     "name": "stdout",
     "output_type": "stream",
     "text": [
      "(27753444, 4)\n"
     ]
    },
    {
     "data": {
      "text/html": [
       "<div>\n",
       "<style scoped>\n",
       "    .dataframe tbody tr th:only-of-type {\n",
       "        vertical-align: middle;\n",
       "    }\n",
       "\n",
       "    .dataframe tbody tr th {\n",
       "        vertical-align: top;\n",
       "    }\n",
       "\n",
       "    .dataframe thead th {\n",
       "        text-align: right;\n",
       "    }\n",
       "</style>\n",
       "<table border=\"1\" class=\"dataframe\">\n",
       "  <thead>\n",
       "    <tr style=\"text-align: right;\">\n",
       "      <th></th>\n",
       "      <th>userId</th>\n",
       "      <th>movieId</th>\n",
       "      <th>rating</th>\n",
       "      <th>timestamp</th>\n",
       "    </tr>\n",
       "  </thead>\n",
       "  <tbody>\n",
       "    <tr>\n",
       "      <td>0</td>\n",
       "      <td>1</td>\n",
       "      <td>307</td>\n",
       "      <td>3.5</td>\n",
       "      <td>1256677221</td>\n",
       "    </tr>\n",
       "    <tr>\n",
       "      <td>1</td>\n",
       "      <td>1</td>\n",
       "      <td>481</td>\n",
       "      <td>3.5</td>\n",
       "      <td>1256677456</td>\n",
       "    </tr>\n",
       "    <tr>\n",
       "      <td>2</td>\n",
       "      <td>1</td>\n",
       "      <td>1091</td>\n",
       "      <td>1.5</td>\n",
       "      <td>1256677471</td>\n",
       "    </tr>\n",
       "    <tr>\n",
       "      <td>3</td>\n",
       "      <td>1</td>\n",
       "      <td>1257</td>\n",
       "      <td>4.5</td>\n",
       "      <td>1256677460</td>\n",
       "    </tr>\n",
       "    <tr>\n",
       "      <td>4</td>\n",
       "      <td>1</td>\n",
       "      <td>1449</td>\n",
       "      <td>4.5</td>\n",
       "      <td>1256677264</td>\n",
       "    </tr>\n",
       "  </tbody>\n",
       "</table>\n",
       "</div>"
      ],
      "text/plain": [
       "   userId  movieId  rating   timestamp\n",
       "0       1      307     3.5  1256677221\n",
       "1       1      481     3.5  1256677456\n",
       "2       1     1091     1.5  1256677471\n",
       "3       1     1257     4.5  1256677460\n",
       "4       1     1449     4.5  1256677264"
      ]
     },
     "execution_count": 1,
     "metadata": {},
     "output_type": "execute_result"
    }
   ],
   "source": [
    "import pandas as pd\n",
    "import numpy as np\n",
    "ratings = pd.read_csv(\"datasets/ratings.csv\")\n",
    "print(ratings.shape)\n",
    "ratings.head()"
   ]
  },
  {
   "cell_type": "markdown",
   "metadata": {},
   "source": [
    "##### Transformar timestamps em datetime:\n",
    "* transformar a coluna \"timestamp\" no dataset dos ratings\n",
    "* Possivelmente utilizá-la como index"
   ]
  },
  {
   "cell_type": "code",
   "execution_count": 2,
   "metadata": {},
   "outputs": [
    {
     "data": {
      "text/html": [
       "<div>\n",
       "<style scoped>\n",
       "    .dataframe tbody tr th:only-of-type {\n",
       "        vertical-align: middle;\n",
       "    }\n",
       "\n",
       "    .dataframe tbody tr th {\n",
       "        vertical-align: top;\n",
       "    }\n",
       "\n",
       "    .dataframe thead th {\n",
       "        text-align: right;\n",
       "    }\n",
       "</style>\n",
       "<table border=\"1\" class=\"dataframe\">\n",
       "  <thead>\n",
       "    <tr style=\"text-align: right;\">\n",
       "      <th></th>\n",
       "      <th>userId</th>\n",
       "      <th>movieId</th>\n",
       "      <th>rating</th>\n",
       "      <th>date</th>\n",
       "    </tr>\n",
       "  </thead>\n",
       "  <tbody>\n",
       "    <tr>\n",
       "      <td>0</td>\n",
       "      <td>1</td>\n",
       "      <td>307</td>\n",
       "      <td>3.5</td>\n",
       "      <td>2009-10-27 21:00:21</td>\n",
       "    </tr>\n",
       "    <tr>\n",
       "      <td>1</td>\n",
       "      <td>1</td>\n",
       "      <td>481</td>\n",
       "      <td>3.5</td>\n",
       "      <td>2009-10-27 21:04:16</td>\n",
       "    </tr>\n",
       "    <tr>\n",
       "      <td>2</td>\n",
       "      <td>1</td>\n",
       "      <td>1091</td>\n",
       "      <td>1.5</td>\n",
       "      <td>2009-10-27 21:04:31</td>\n",
       "    </tr>\n",
       "    <tr>\n",
       "      <td>3</td>\n",
       "      <td>1</td>\n",
       "      <td>1257</td>\n",
       "      <td>4.5</td>\n",
       "      <td>2009-10-27 21:04:20</td>\n",
       "    </tr>\n",
       "    <tr>\n",
       "      <td>4</td>\n",
       "      <td>1</td>\n",
       "      <td>1449</td>\n",
       "      <td>4.5</td>\n",
       "      <td>2009-10-27 21:01:04</td>\n",
       "    </tr>\n",
       "  </tbody>\n",
       "</table>\n",
       "</div>"
      ],
      "text/plain": [
       "   userId  movieId  rating                date\n",
       "0       1      307     3.5 2009-10-27 21:00:21\n",
       "1       1      481     3.5 2009-10-27 21:04:16\n",
       "2       1     1091     1.5 2009-10-27 21:04:31\n",
       "3       1     1257     4.5 2009-10-27 21:04:20\n",
       "4       1     1449     4.5 2009-10-27 21:01:04"
      ]
     },
     "execution_count": 2,
     "metadata": {},
     "output_type": "execute_result"
    }
   ],
   "source": [
    "ratings[\"date\"] = pd.to_datetime(ratings.timestamp, unit = \"s\")\n",
    "ratings = ratings.drop(columns = \"timestamp\")\n",
    "ratings.head()\n",
    "\n",
    "#Se for preciso utilizar a data como index\n",
    "#ratings_plot.index = pd.DatetimeIndex(ratings_plot.date)"
   ]
  },
  {
   "cell_type": "markdown",
   "metadata": {},
   "source": [
    "**Não existem ratings antes de 1995 e depois de 2018**"
   ]
  },
  {
   "cell_type": "code",
   "execution_count": 3,
   "metadata": {},
   "outputs": [
    {
     "name": "stdout",
     "output_type": "stream",
     "text": [
      "Empty DataFrame\n",
      "Columns: [userId, movieId, rating, date]\n",
      "Index: []\n",
      "Empty DataFrame\n",
      "Columns: [userId, movieId, rating, date]\n",
      "Index: []\n"
     ]
    }
   ],
   "source": [
    "print(ratings.loc[ratings.date.dt.year < 1995])\n",
    "print(ratings.loc[ratings.date.dt.year > 2018])"
   ]
  },
  {
   "cell_type": "markdown",
   "metadata": {},
   "source": [
    "## Movies:"
   ]
  },
  {
   "cell_type": "code",
   "execution_count": 4,
   "metadata": {},
   "outputs": [
    {
     "name": "stdout",
     "output_type": "stream",
     "text": [
      "(58098, 3)\n"
     ]
    },
    {
     "data": {
      "text/html": [
       "<div>\n",
       "<style scoped>\n",
       "    .dataframe tbody tr th:only-of-type {\n",
       "        vertical-align: middle;\n",
       "    }\n",
       "\n",
       "    .dataframe tbody tr th {\n",
       "        vertical-align: top;\n",
       "    }\n",
       "\n",
       "    .dataframe thead th {\n",
       "        text-align: right;\n",
       "    }\n",
       "</style>\n",
       "<table border=\"1\" class=\"dataframe\">\n",
       "  <thead>\n",
       "    <tr style=\"text-align: right;\">\n",
       "      <th></th>\n",
       "      <th>movieId</th>\n",
       "      <th>title</th>\n",
       "      <th>genres</th>\n",
       "    </tr>\n",
       "  </thead>\n",
       "  <tbody>\n",
       "    <tr>\n",
       "      <td>0</td>\n",
       "      <td>1</td>\n",
       "      <td>Toy Story (1995)</td>\n",
       "      <td>Adventure|Animation|Children|Comedy|Fantasy</td>\n",
       "    </tr>\n",
       "    <tr>\n",
       "      <td>1</td>\n",
       "      <td>2</td>\n",
       "      <td>Jumanji (1995)</td>\n",
       "      <td>Adventure|Children|Fantasy</td>\n",
       "    </tr>\n",
       "    <tr>\n",
       "      <td>2</td>\n",
       "      <td>3</td>\n",
       "      <td>Grumpier Old Men (1995)</td>\n",
       "      <td>Comedy|Romance</td>\n",
       "    </tr>\n",
       "    <tr>\n",
       "      <td>3</td>\n",
       "      <td>4</td>\n",
       "      <td>Waiting to Exhale (1995)</td>\n",
       "      <td>Comedy|Drama|Romance</td>\n",
       "    </tr>\n",
       "    <tr>\n",
       "      <td>4</td>\n",
       "      <td>5</td>\n",
       "      <td>Father of the Bride Part II (1995)</td>\n",
       "      <td>Comedy</td>\n",
       "    </tr>\n",
       "  </tbody>\n",
       "</table>\n",
       "</div>"
      ],
      "text/plain": [
       "   movieId                               title  \\\n",
       "0        1                    Toy Story (1995)   \n",
       "1        2                      Jumanji (1995)   \n",
       "2        3             Grumpier Old Men (1995)   \n",
       "3        4            Waiting to Exhale (1995)   \n",
       "4        5  Father of the Bride Part II (1995)   \n",
       "\n",
       "                                        genres  \n",
       "0  Adventure|Animation|Children|Comedy|Fantasy  \n",
       "1                   Adventure|Children|Fantasy  \n",
       "2                               Comedy|Romance  \n",
       "3                         Comedy|Drama|Romance  \n",
       "4                                       Comedy  "
      ]
     },
     "execution_count": 4,
     "metadata": {},
     "output_type": "execute_result"
    }
   ],
   "source": [
    "movies = pd.read_csv(\"datasets/movies.csv\")\n",
    "print(movies.shape)\n",
    "movies.head()"
   ]
  },
  {
   "cell_type": "code",
   "execution_count": 5,
   "metadata": {},
   "outputs": [
    {
     "data": {
      "text/html": [
       "<div>\n",
       "<style scoped>\n",
       "    .dataframe tbody tr th:only-of-type {\n",
       "        vertical-align: middle;\n",
       "    }\n",
       "\n",
       "    .dataframe tbody tr th {\n",
       "        vertical-align: top;\n",
       "    }\n",
       "\n",
       "    .dataframe thead th {\n",
       "        text-align: right;\n",
       "    }\n",
       "</style>\n",
       "<table border=\"1\" class=\"dataframe\">\n",
       "  <thead>\n",
       "    <tr style=\"text-align: right;\">\n",
       "      <th></th>\n",
       "      <th>movieId</th>\n",
       "      <th>title</th>\n",
       "      <th>genres</th>\n",
       "      <th>year</th>\n",
       "    </tr>\n",
       "  </thead>\n",
       "  <tbody>\n",
       "    <tr>\n",
       "      <td>0</td>\n",
       "      <td>1</td>\n",
       "      <td>Toy Story</td>\n",
       "      <td>Adventure|Animation|Children|Comedy|Fantasy</td>\n",
       "      <td>1995</td>\n",
       "    </tr>\n",
       "    <tr>\n",
       "      <td>1</td>\n",
       "      <td>2</td>\n",
       "      <td>Jumanji</td>\n",
       "      <td>Adventure|Children|Fantasy</td>\n",
       "      <td>1995</td>\n",
       "    </tr>\n",
       "    <tr>\n",
       "      <td>2</td>\n",
       "      <td>3</td>\n",
       "      <td>Grumpier Old Men</td>\n",
       "      <td>Comedy|Romance</td>\n",
       "      <td>1995</td>\n",
       "    </tr>\n",
       "    <tr>\n",
       "      <td>3</td>\n",
       "      <td>4</td>\n",
       "      <td>Waiting to Exhale</td>\n",
       "      <td>Comedy|Drama|Romance</td>\n",
       "      <td>1995</td>\n",
       "    </tr>\n",
       "    <tr>\n",
       "      <td>4</td>\n",
       "      <td>5</td>\n",
       "      <td>Father of the Bride Part II</td>\n",
       "      <td>Comedy</td>\n",
       "      <td>1995</td>\n",
       "    </tr>\n",
       "  </tbody>\n",
       "</table>\n",
       "</div>"
      ],
      "text/plain": [
       "   movieId                        title  \\\n",
       "0        1                    Toy Story   \n",
       "1        2                      Jumanji   \n",
       "2        3             Grumpier Old Men   \n",
       "3        4            Waiting to Exhale   \n",
       "4        5  Father of the Bride Part II   \n",
       "\n",
       "                                        genres  year  \n",
       "0  Adventure|Animation|Children|Comedy|Fantasy  1995  \n",
       "1                   Adventure|Children|Fantasy  1995  \n",
       "2                               Comedy|Romance  1995  \n",
       "3                         Comedy|Drama|Romance  1995  \n",
       "4                                       Comedy  1995  "
      ]
     },
     "execution_count": 5,
     "metadata": {},
     "output_type": "execute_result"
    }
   ],
   "source": [
    "#Extrair o ano\n",
    "movies[\"year\"] = movies.title.str.extract(\"\\((\\d{4})\\)\")\n",
    "movies.title = movies.title.str[:-7]\n",
    "movies.head()"
   ]
  },
  {
   "cell_type": "code",
   "execution_count": 6,
   "metadata": {},
   "outputs": [],
   "source": [
    "movies = movies.dropna()"
   ]
  },
  {
   "cell_type": "markdown",
   "metadata": {},
   "source": [
    "#### Sampling do dataset:\n",
    "* Juntando os ratings com os movies\n",
    "* Sendo o peso o ano do filme (filmes mais antigos têm menos ratings e sao menos importantes para recomendação)\n",
    "* **BIAS:** Usando o ano como peso na amostragem acrescenta uma parcialidade a favor de filmes mais recentes."
   ]
  },
  {
   "cell_type": "code",
   "execution_count": 7,
   "metadata": {},
   "outputs": [
    {
     "name": "stdout",
     "output_type": "stream",
     "text": [
      "(27753444, 6)\n",
      "283228\n",
      "50591\n"
     ]
    },
    {
     "data": {
      "text/html": [
       "<div>\n",
       "<style scoped>\n",
       "    .dataframe tbody tr th:only-of-type {\n",
       "        vertical-align: middle;\n",
       "    }\n",
       "\n",
       "    .dataframe tbody tr th {\n",
       "        vertical-align: top;\n",
       "    }\n",
       "\n",
       "    .dataframe thead th {\n",
       "        text-align: right;\n",
       "    }\n",
       "</style>\n",
       "<table border=\"1\" class=\"dataframe\">\n",
       "  <thead>\n",
       "    <tr style=\"text-align: right;\">\n",
       "      <th></th>\n",
       "      <th>userId</th>\n",
       "      <th>movieId</th>\n",
       "      <th>rating</th>\n",
       "      <th>date</th>\n",
       "      <th>title</th>\n",
       "      <th>year</th>\n",
       "    </tr>\n",
       "  </thead>\n",
       "  <tbody>\n",
       "    <tr>\n",
       "      <td>0</td>\n",
       "      <td>1</td>\n",
       "      <td>307</td>\n",
       "      <td>3.5</td>\n",
       "      <td>2009-10-27 21:00:21</td>\n",
       "      <td>Three Colors: Blue (Trois couleurs: Bleu)</td>\n",
       "      <td>1993</td>\n",
       "    </tr>\n",
       "    <tr>\n",
       "      <td>1</td>\n",
       "      <td>1</td>\n",
       "      <td>481</td>\n",
       "      <td>3.5</td>\n",
       "      <td>2009-10-27 21:04:16</td>\n",
       "      <td>Kalifornia</td>\n",
       "      <td>1993</td>\n",
       "    </tr>\n",
       "    <tr>\n",
       "      <td>2</td>\n",
       "      <td>1</td>\n",
       "      <td>1091</td>\n",
       "      <td>1.5</td>\n",
       "      <td>2009-10-27 21:04:31</td>\n",
       "      <td>Weekend at Bernie's</td>\n",
       "      <td>1989</td>\n",
       "    </tr>\n",
       "    <tr>\n",
       "      <td>3</td>\n",
       "      <td>1</td>\n",
       "      <td>1257</td>\n",
       "      <td>4.5</td>\n",
       "      <td>2009-10-27 21:04:20</td>\n",
       "      <td>Better Off Dead...</td>\n",
       "      <td>1985</td>\n",
       "    </tr>\n",
       "    <tr>\n",
       "      <td>4</td>\n",
       "      <td>1</td>\n",
       "      <td>1449</td>\n",
       "      <td>4.5</td>\n",
       "      <td>2009-10-27 21:01:04</td>\n",
       "      <td>Waiting for Guffman</td>\n",
       "      <td>1996</td>\n",
       "    </tr>\n",
       "  </tbody>\n",
       "</table>\n",
       "</div>"
      ],
      "text/plain": [
       "   userId  movieId  rating                date  \\\n",
       "0       1      307     3.5 2009-10-27 21:00:21   \n",
       "1       1      481     3.5 2009-10-27 21:04:16   \n",
       "2       1     1091     1.5 2009-10-27 21:04:31   \n",
       "3       1     1257     4.5 2009-10-27 21:04:20   \n",
       "4       1     1449     4.5 2009-10-27 21:01:04   \n",
       "\n",
       "                                       title  year  \n",
       "0  Three Colors: Blue (Trois couleurs: Bleu)  1993  \n",
       "1                                 Kalifornia  1993  \n",
       "2                        Weekend at Bernie's  1989  \n",
       "3                         Better Off Dead...  1985  \n",
       "4                        Waiting for Guffman  1996  "
      ]
     },
     "execution_count": 7,
     "metadata": {},
     "output_type": "execute_result"
    }
   ],
   "source": [
    "movie_ratings = ratings.join(movies.set_index(\"movieId\"), on = \"movieId\")\n",
    "movie_ratings.drop(columns = [\"genres\"], inplace = True)\n",
    "print(movie_ratings.shape)\n",
    "print(movie_ratings.userId.unique().size)\n",
    "print(movie_ratings.title.unique().size)\n",
    "movie_ratings.head()"
   ]
  },
  {
   "cell_type": "code",
   "execution_count": 18,
   "metadata": {},
   "outputs": [
    {
     "name": "stdout",
     "output_type": "stream",
     "text": [
      "(14412,)\n"
     ]
    },
    {
     "data": {
      "text/plain": [
       "userId\n",
       "4      736\n",
       "56     764\n",
       "73     468\n",
       "79     425\n",
       "81    1093\n",
       "Name: rating, dtype: int64"
      ]
     },
     "execution_count": 18,
     "metadata": {},
     "output_type": "execute_result"
    }
   ],
   "source": [
    "user_ratings = movie_ratings.groupby(\"userId\")[\"rating\"].count()\n",
    "user_ratings = user_ratings[user_ratings > 400]\n",
    "print(user_ratings.shape)\n",
    "user_ratings.head()"
   ]
  },
  {
   "cell_type": "code",
   "execution_count": 19,
   "metadata": {},
   "outputs": [
    {
     "data": {
      "text/plain": [
       "42           True\n",
       "43           True\n",
       "44           True\n",
       "45           True\n",
       "46           True\n",
       "            ...  \n",
       "27753278    False\n",
       "27753279    False\n",
       "27753280    False\n",
       "27753281    False\n",
       "27753282    False\n",
       "Name: userId, Length: 16951891, dtype: bool"
      ]
     },
     "execution_count": 19,
     "metadata": {},
     "output_type": "execute_result"
    }
   ],
   "source": [
    "mask = movie_ratings.userId.apply(lambda x: x in user_ratings.index)\n",
    "mask"
   ]
  },
  {
   "cell_type": "code",
   "execution_count": 20,
   "metadata": {},
   "outputs": [
    {
     "data": {
      "text/html": [
       "<div>\n",
       "<style scoped>\n",
       "    .dataframe tbody tr th:only-of-type {\n",
       "        vertical-align: middle;\n",
       "    }\n",
       "\n",
       "    .dataframe tbody tr th {\n",
       "        vertical-align: top;\n",
       "    }\n",
       "\n",
       "    .dataframe thead th {\n",
       "        text-align: right;\n",
       "    }\n",
       "</style>\n",
       "<table border=\"1\" class=\"dataframe\">\n",
       "  <thead>\n",
       "    <tr style=\"text-align: right;\">\n",
       "      <th></th>\n",
       "      <th>userId</th>\n",
       "      <th>movieId</th>\n",
       "      <th>rating</th>\n",
       "      <th>date</th>\n",
       "      <th>title</th>\n",
       "      <th>year</th>\n",
       "    </tr>\n",
       "  </thead>\n",
       "  <tbody>\n",
       "    <tr>\n",
       "      <td>42</td>\n",
       "      <td>4</td>\n",
       "      <td>1</td>\n",
       "      <td>4.0</td>\n",
       "      <td>2005-04-17 19:25:37</td>\n",
       "      <td>Toy Story</td>\n",
       "      <td>1995</td>\n",
       "    </tr>\n",
       "    <tr>\n",
       "      <td>43</td>\n",
       "      <td>4</td>\n",
       "      <td>2</td>\n",
       "      <td>4.0</td>\n",
       "      <td>2005-04-17 19:48:26</td>\n",
       "      <td>Jumanji</td>\n",
       "      <td>1995</td>\n",
       "    </tr>\n",
       "    <tr>\n",
       "      <td>44</td>\n",
       "      <td>4</td>\n",
       "      <td>5</td>\n",
       "      <td>2.0</td>\n",
       "      <td>2005-08-14 03:34:13</td>\n",
       "      <td>Father of the Bride Part II</td>\n",
       "      <td>1995</td>\n",
       "    </tr>\n",
       "    <tr>\n",
       "      <td>45</td>\n",
       "      <td>4</td>\n",
       "      <td>6</td>\n",
       "      <td>4.5</td>\n",
       "      <td>2005-04-17 19:47:22</td>\n",
       "      <td>Heat</td>\n",
       "      <td>1995</td>\n",
       "    </tr>\n",
       "    <tr>\n",
       "      <td>46</td>\n",
       "      <td>4</td>\n",
       "      <td>10</td>\n",
       "      <td>4.0</td>\n",
       "      <td>2005-04-17 19:26:35</td>\n",
       "      <td>GoldenEye</td>\n",
       "      <td>1995</td>\n",
       "    </tr>\n",
       "    <tr>\n",
       "      <td>...</td>\n",
       "      <td>...</td>\n",
       "      <td>...</td>\n",
       "      <td>...</td>\n",
       "      <td>...</td>\n",
       "      <td>...</td>\n",
       "      <td>...</td>\n",
       "    </tr>\n",
       "    <tr>\n",
       "      <td>27751542</td>\n",
       "      <td>283195</td>\n",
       "      <td>116797</td>\n",
       "      <td>3.5</td>\n",
       "      <td>2015-09-30 21:40:34</td>\n",
       "      <td>The Imitation Game</td>\n",
       "      <td>2014</td>\n",
       "    </tr>\n",
       "    <tr>\n",
       "      <td>27751543</td>\n",
       "      <td>283195</td>\n",
       "      <td>119141</td>\n",
       "      <td>3.5</td>\n",
       "      <td>2015-09-30 21:41:08</td>\n",
       "      <td>The Interview</td>\n",
       "      <td>2014</td>\n",
       "    </tr>\n",
       "    <tr>\n",
       "      <td>27751544</td>\n",
       "      <td>283195</td>\n",
       "      <td>131724</td>\n",
       "      <td>4.0</td>\n",
       "      <td>2015-09-30 21:40:25</td>\n",
       "      <td>The Jinx: The Life and Deaths of Robert Durst</td>\n",
       "      <td>2015</td>\n",
       "    </tr>\n",
       "    <tr>\n",
       "      <td>27751545</td>\n",
       "      <td>283195</td>\n",
       "      <td>161127</td>\n",
       "      <td>4.0</td>\n",
       "      <td>2018-07-24 20:00:54</td>\n",
       "      <td>The Infiltrator</td>\n",
       "      <td>2016</td>\n",
       "    </tr>\n",
       "    <tr>\n",
       "      <td>27751546</td>\n",
       "      <td>283195</td>\n",
       "      <td>170705</td>\n",
       "      <td>5.0</td>\n",
       "      <td>2018-07-23 02:47:33</td>\n",
       "      <td>Band of Brothers</td>\n",
       "      <td>2001</td>\n",
       "    </tr>\n",
       "  </tbody>\n",
       "</table>\n",
       "<p>11203227 rows × 6 columns</p>\n",
       "</div>"
      ],
      "text/plain": [
       "          userId  movieId  rating                date  \\\n",
       "42             4        1     4.0 2005-04-17 19:25:37   \n",
       "43             4        2     4.0 2005-04-17 19:48:26   \n",
       "44             4        5     2.0 2005-08-14 03:34:13   \n",
       "45             4        6     4.5 2005-04-17 19:47:22   \n",
       "46             4       10     4.0 2005-04-17 19:26:35   \n",
       "...          ...      ...     ...                 ...   \n",
       "27751542  283195   116797     3.5 2015-09-30 21:40:34   \n",
       "27751543  283195   119141     3.5 2015-09-30 21:41:08   \n",
       "27751544  283195   131724     4.0 2015-09-30 21:40:25   \n",
       "27751545  283195   161127     4.0 2018-07-24 20:00:54   \n",
       "27751546  283195   170705     5.0 2018-07-23 02:47:33   \n",
       "\n",
       "                                                  title  year  \n",
       "42                                            Toy Story  1995  \n",
       "43                                              Jumanji  1995  \n",
       "44                          Father of the Bride Part II  1995  \n",
       "45                                                 Heat  1995  \n",
       "46                                            GoldenEye  1995  \n",
       "...                                                 ...   ...  \n",
       "27751542                             The Imitation Game  2014  \n",
       "27751543                                  The Interview  2014  \n",
       "27751544  The Jinx: The Life and Deaths of Robert Durst  2015  \n",
       "27751545                                The Infiltrator  2016  \n",
       "27751546                               Band of Brothers  2001  \n",
       "\n",
       "[11203227 rows x 6 columns]"
      ]
     },
     "execution_count": 20,
     "metadata": {},
     "output_type": "execute_result"
    }
   ],
   "source": [
    "movie_ratings = movie_ratings[mask]\n",
    "movie_ratings"
   ]
  },
  {
   "cell_type": "code",
   "execution_count": 21,
   "metadata": {},
   "outputs": [
    {
     "name": "stdout",
     "output_type": "stream",
     "text": [
      "(100000, 6)\n"
     ]
    },
    {
     "data": {
      "text/html": [
       "<div>\n",
       "<style scoped>\n",
       "    .dataframe tbody tr th:only-of-type {\n",
       "        vertical-align: middle;\n",
       "    }\n",
       "\n",
       "    .dataframe tbody tr th {\n",
       "        vertical-align: top;\n",
       "    }\n",
       "\n",
       "    .dataframe thead th {\n",
       "        text-align: right;\n",
       "    }\n",
       "</style>\n",
       "<table border=\"1\" class=\"dataframe\">\n",
       "  <thead>\n",
       "    <tr style=\"text-align: right;\">\n",
       "      <th></th>\n",
       "      <th>userId</th>\n",
       "      <th>movieId</th>\n",
       "      <th>rating</th>\n",
       "      <th>date</th>\n",
       "      <th>title</th>\n",
       "      <th>year</th>\n",
       "    </tr>\n",
       "  </thead>\n",
       "  <tbody>\n",
       "    <tr>\n",
       "      <td>11602861</td>\n",
       "      <td>118903</td>\n",
       "      <td>6711</td>\n",
       "      <td>3.5</td>\n",
       "      <td>2003-10-06 00:16:00</td>\n",
       "      <td>Lost in Translation</td>\n",
       "      <td>2003</td>\n",
       "    </tr>\n",
       "    <tr>\n",
       "      <td>19961188</td>\n",
       "      <td>203569</td>\n",
       "      <td>1544</td>\n",
       "      <td>1.5</td>\n",
       "      <td>2010-11-15 11:40:29</td>\n",
       "      <td>Lost World: Jurassic Park, The</td>\n",
       "      <td>1997</td>\n",
       "    </tr>\n",
       "    <tr>\n",
       "      <td>5287</td>\n",
       "      <td>56</td>\n",
       "      <td>7004</td>\n",
       "      <td>3.0</td>\n",
       "      <td>2010-05-25 10:03:01</td>\n",
       "      <td>Kindergarten Cop</td>\n",
       "      <td>1990</td>\n",
       "    </tr>\n",
       "    <tr>\n",
       "      <td>8460254</td>\n",
       "      <td>87201</td>\n",
       "      <td>110</td>\n",
       "      <td>4.0</td>\n",
       "      <td>2006-01-17 05:12:51</td>\n",
       "      <td>Braveheart</td>\n",
       "      <td>1995</td>\n",
       "    </tr>\n",
       "    <tr>\n",
       "      <td>4103898</td>\n",
       "      <td>42151</td>\n",
       "      <td>4011</td>\n",
       "      <td>4.5</td>\n",
       "      <td>2003-09-04 20:44:49</td>\n",
       "      <td>Snatch</td>\n",
       "      <td>2000</td>\n",
       "    </tr>\n",
       "  </tbody>\n",
       "</table>\n",
       "</div>"
      ],
      "text/plain": [
       "          userId  movieId  rating                date  \\\n",
       "11602861  118903     6711     3.5 2003-10-06 00:16:00   \n",
       "19961188  203569     1544     1.5 2010-11-15 11:40:29   \n",
       "5287          56     7004     3.0 2010-05-25 10:03:01   \n",
       "8460254    87201      110     4.0 2006-01-17 05:12:51   \n",
       "4103898    42151     4011     4.5 2003-09-04 20:44:49   \n",
       "\n",
       "                                   title  year  \n",
       "11602861             Lost in Translation  2003  \n",
       "19961188  Lost World: Jurassic Park, The  1997  \n",
       "5287                    Kindergarten Cop  1990  \n",
       "8460254                       Braveheart  1995  \n",
       "4103898                           Snatch  2000  "
      ]
     },
     "execution_count": 21,
     "metadata": {},
     "output_type": "execute_result"
    }
   ],
   "source": [
    "sampled_ratings = pd.DataFrame(movie_ratings)\n",
    "sampled_ratings = sampled_ratings.sample(n = 100000, replace = False, weights = \"year\", random_state = 1)\n",
    "print(sampled_ratings.shape)\n",
    "sampled_ratings.head()"
   ]
  },
  {
   "cell_type": "code",
   "execution_count": 24,
   "metadata": {},
   "outputs": [
    {
     "name": "stdout",
     "output_type": "stream",
     "text": [
      "(100000, 6)\n",
      "14301\n",
      "12249\n",
      "175172949\n",
      "True\n"
     ]
    }
   ],
   "source": [
    "#não existem valores em falta no dataframe\n",
    "print(sampled_ratings.dropna().shape)\n",
    "print(sampled_ratings.userId.unique().size)\n",
    "print(sampled_ratings.movieId.unique().size)\n",
    "print(sampled_ratings.userId.unique().size * sampled_ratings.movieId.unique().size)\n",
    "print(2147483647 > (sampled_ratings.userId.unique().size * sampled_ratings.movieId.unique().size))"
   ]
  },
  {
   "cell_type": "code",
   "execution_count": 14,
   "metadata": {},
   "outputs": [
    {
     "data": {
      "text/html": [
       "<div>\n",
       "<style scoped>\n",
       "    .dataframe tbody tr th:only-of-type {\n",
       "        vertical-align: middle;\n",
       "    }\n",
       "\n",
       "    .dataframe tbody tr th {\n",
       "        vertical-align: top;\n",
       "    }\n",
       "\n",
       "    .dataframe thead th {\n",
       "        text-align: right;\n",
       "    }\n",
       "</style>\n",
       "<table border=\"1\" class=\"dataframe\">\n",
       "  <thead>\n",
       "    <tr style=\"text-align: right;\">\n",
       "      <th></th>\n",
       "      <th>movieId</th>\n",
       "      <th>title</th>\n",
       "      <th>year</th>\n",
       "      <th>genre</th>\n",
       "    </tr>\n",
       "  </thead>\n",
       "  <tbody>\n",
       "    <tr>\n",
       "      <td>0</td>\n",
       "      <td>1</td>\n",
       "      <td>Toy Story</td>\n",
       "      <td>1995</td>\n",
       "      <td>Adventure</td>\n",
       "    </tr>\n",
       "    <tr>\n",
       "      <td>0</td>\n",
       "      <td>1</td>\n",
       "      <td>Toy Story</td>\n",
       "      <td>1995</td>\n",
       "      <td>Animation</td>\n",
       "    </tr>\n",
       "    <tr>\n",
       "      <td>0</td>\n",
       "      <td>1</td>\n",
       "      <td>Toy Story</td>\n",
       "      <td>1995</td>\n",
       "      <td>Children</td>\n",
       "    </tr>\n",
       "    <tr>\n",
       "      <td>0</td>\n",
       "      <td>1</td>\n",
       "      <td>Toy Story</td>\n",
       "      <td>1995</td>\n",
       "      <td>Comedy</td>\n",
       "    </tr>\n",
       "    <tr>\n",
       "      <td>0</td>\n",
       "      <td>1</td>\n",
       "      <td>Toy Story</td>\n",
       "      <td>1995</td>\n",
       "      <td>Fantasy</td>\n",
       "    </tr>\n",
       "  </tbody>\n",
       "</table>\n",
       "</div>"
      ],
      "text/plain": [
       "   movieId      title  year      genre\n",
       "0        1  Toy Story  1995  Adventure\n",
       "0        1  Toy Story  1995  Animation\n",
       "0        1  Toy Story  1995   Children\n",
       "0        1  Toy Story  1995     Comedy\n",
       "0        1  Toy Story  1995    Fantasy"
      ]
     },
     "execution_count": 14,
     "metadata": {},
     "output_type": "execute_result"
    }
   ],
   "source": [
    "movies_per_genre = pd.DataFrame(movies)\n",
    "movies_per_genre[\"genre\"] = pd.DataFrame(movies.genres.str.split(\"|\", expand = False).values)\n",
    "movies_per_genre = movies_per_genre.explode(\"genre\")\n",
    "movies_per_genre = movies_per_genre.drop(columns = \"genres\")\n",
    "movies_per_genre.head()"
   ]
  },
  {
   "cell_type": "markdown",
   "metadata": {},
   "source": [
    "# Sistema de recomendação básico:\n",
    "* Usando movies e ratings"
   ]
  },
  {
   "cell_type": "code",
   "execution_count": 26,
   "metadata": {},
   "outputs": [
    {
     "data": {
      "text/html": [
       "<div>\n",
       "<style scoped>\n",
       "    .dataframe tbody tr th:only-of-type {\n",
       "        vertical-align: middle;\n",
       "    }\n",
       "\n",
       "    .dataframe tbody tr th {\n",
       "        vertical-align: top;\n",
       "    }\n",
       "\n",
       "    .dataframe thead th {\n",
       "        text-align: right;\n",
       "    }\n",
       "</style>\n",
       "<table border=\"1\" class=\"dataframe\">\n",
       "  <thead>\n",
       "    <tr style=\"text-align: right;\">\n",
       "      <th></th>\n",
       "      <th>title</th>\n",
       "      <th>rating</th>\n",
       "      <th>rating_count</th>\n",
       "    </tr>\n",
       "  </thead>\n",
       "  <tbody>\n",
       "    <tr>\n",
       "      <td>0</td>\n",
       "      <td>#Horror</td>\n",
       "      <td>1.00</td>\n",
       "      <td>1</td>\n",
       "    </tr>\n",
       "    <tr>\n",
       "      <td>1</td>\n",
       "      <td>#realityhigh</td>\n",
       "      <td>3.00</td>\n",
       "      <td>1</td>\n",
       "    </tr>\n",
       "    <tr>\n",
       "      <td>2</td>\n",
       "      <td>$9.99</td>\n",
       "      <td>3.25</td>\n",
       "      <td>2</td>\n",
       "    </tr>\n",
       "    <tr>\n",
       "      <td>3</td>\n",
       "      <td>'71</td>\n",
       "      <td>3.50</td>\n",
       "      <td>1</td>\n",
       "    </tr>\n",
       "    <tr>\n",
       "      <td>4</td>\n",
       "      <td>'R Xmas</td>\n",
       "      <td>3.00</td>\n",
       "      <td>1</td>\n",
       "    </tr>\n",
       "  </tbody>\n",
       "</table>\n",
       "</div>"
      ],
      "text/plain": [
       "          title  rating  rating_count\n",
       "0       #Horror    1.00             1\n",
       "1  #realityhigh    3.00             1\n",
       "2         $9.99    3.25             2\n",
       "3           '71    3.50             1\n",
       "4       'R Xmas    3.00             1"
      ]
     },
     "execution_count": 26,
     "metadata": {},
     "output_type": "execute_result"
    }
   ],
   "source": [
    "#significancia estatistica dos ratings\n",
    "ratings_plot = sampled_ratings.groupby(\"title\")[\"rating\"].mean().reset_index()\n",
    "ratings_plot[\"rating_count\"] = sampled_ratings.groupby(\"title\")[\"rating\"].count().reset_index().rating\n",
    "ratings_plot.head()"
   ]
  },
  {
   "cell_type": "code",
   "execution_count": 27,
   "metadata": {},
   "outputs": [
    {
     "data": {
      "image/png": "[encoded data removed]",
      "text/plain": [
       "<Figure size 432x288 with 1 Axes>"
      ]
     },
     "metadata": {
      "needs_background": "light"
     },
     "output_type": "display_data"
    }
   ],
   "source": [
    "import matplotlib\n",
    "import matplotlib.pyplot as plt\n",
    "%matplotlib inline\n",
    "\n",
    "#Plot da distribuicao dos ratings medios\n",
    "ratings.rating.hist(bins = 50);\n",
    "plt.xlabel(\"rating médio\")\n",
    "plt.ylabel(\"quantidade de ratings\")\n",
    "plt.title(\"Quantidade de ratings médios por filme\");"
   ]
  },
  {
   "cell_type": "markdown",
   "metadata": {},
   "source": [
    "**Há muitos ratings entre os 2.5 e os 4**"
   ]
  },
  {
   "cell_type": "code",
   "execution_count": 28,
   "metadata": {},
   "outputs": [
    {
     "data": {
      "image/png": "[encoded data removed]",
      "text/plain": [
       "<Figure size 720x360 with 1 Axes>"
      ]
     },
     "metadata": {},
     "output_type": "display_data"
    }
   ],
   "source": [
    "plt.style.use('seaborn')\n",
    "ratings.describe()\n",
    "matplotlib.rcParams[\"figure.figsize\"] = [10, 5]\n",
    "ratings_plot.rating_count.hist(bins = 60)\n",
    "plt.yscale(\"log\")\n",
    "plt.xlabel(\"quantidade de ratings\")\n",
    "plt.ylabel(\"quantidade de filmes (log)\")\n",
    "plt.title(\"quantidade de ratings por filme\");"
   ]
  },
  {
   "cell_type": "markdown",
   "metadata": {},
   "source": [
    "**Maior parte dos filmes não possuem um único rating**"
   ]
  },
  {
   "cell_type": "code",
   "execution_count": 29,
   "metadata": {},
   "outputs": [
    {
     "data": {
      "image/png": "[encoded data removed]",
      "text/plain": [
       "<Figure size 432x432 with 3 Axes>"
      ]
     },
     "metadata": {},
     "output_type": "display_data"
    }
   ],
   "source": [
    "import seaborn as sns\n",
    "ax = sns.jointplot(x = \"rating\", y = \"rating_count\", data = ratings_plot)\n",
    "plt.suptitle(\"distribuição do rating médio pela quantidade de ratings por filme\", y = 1.01)\n",
    "ax.set_axis_labels(\"rating médio\", \"quantidade de ratings\");"
   ]
  },
  {
   "cell_type": "markdown",
   "metadata": {},
   "source": [
    "**Existe uma correlação positiva entre o rating médio e a quantidade de ratings.** Apesar de maior parte dos dados encontrarem no y = 0"
   ]
  },
  {
   "cell_type": "code",
   "execution_count": 30,
   "metadata": {},
   "outputs": [
    {
     "data": {
      "text/html": [
       "<div>\n",
       "<style scoped>\n",
       "    .dataframe tbody tr th:only-of-type {\n",
       "        vertical-align: middle;\n",
       "    }\n",
       "\n",
       "    .dataframe tbody tr th {\n",
       "        vertical-align: top;\n",
       "    }\n",
       "\n",
       "    .dataframe thead th {\n",
       "        text-align: right;\n",
       "    }\n",
       "</style>\n",
       "<table border=\"1\" class=\"dataframe\">\n",
       "  <thead>\n",
       "    <tr style=\"text-align: right;\">\n",
       "      <th>title</th>\n",
       "      <th>#Horror</th>\n",
       "      <th>#realityhigh</th>\n",
       "      <th>$9.99</th>\n",
       "      <th>'71</th>\n",
       "      <th>'R Xmas</th>\n",
       "      <th>'Round Midnight</th>\n",
       "      <th>'Salem's Lot</th>\n",
       "      <th>'Til There Was You</th>\n",
       "      <th>'burbs, The</th>\n",
       "      <th>'night Mother</th>\n",
       "      <th>...</th>\n",
       "      <th>a/k/a Tommy Chong</th>\n",
       "      <th>eXistenZ</th>\n",
       "      <th>iBoy</th>\n",
       "      <th>loudQUIETloud: A Film About the Pixies</th>\n",
       "      <th>xXx</th>\n",
       "      <th>xXx: Return of Xander Cage</th>\n",
       "      <th>xXx: State of the Union</th>\n",
       "      <th>¡Three Amigos!</th>\n",
       "      <th>Путь к себе</th>\n",
       "      <th>チェブラーシカ</th>\n",
       "    </tr>\n",
       "    <tr>\n",
       "      <th>userId</th>\n",
       "      <th></th>\n",
       "      <th></th>\n",
       "      <th></th>\n",
       "      <th></th>\n",
       "      <th></th>\n",
       "      <th></th>\n",
       "      <th></th>\n",
       "      <th></th>\n",
       "      <th></th>\n",
       "      <th></th>\n",
       "      <th></th>\n",
       "      <th></th>\n",
       "      <th></th>\n",
       "      <th></th>\n",
       "      <th></th>\n",
       "      <th></th>\n",
       "      <th></th>\n",
       "      <th></th>\n",
       "      <th></th>\n",
       "      <th></th>\n",
       "      <th></th>\n",
       "    </tr>\n",
       "  </thead>\n",
       "  <tbody>\n",
       "    <tr>\n",
       "      <td>4</td>\n",
       "      <td>NaN</td>\n",
       "      <td>NaN</td>\n",
       "      <td>NaN</td>\n",
       "      <td>NaN</td>\n",
       "      <td>NaN</td>\n",
       "      <td>NaN</td>\n",
       "      <td>NaN</td>\n",
       "      <td>NaN</td>\n",
       "      <td>NaN</td>\n",
       "      <td>NaN</td>\n",
       "      <td>...</td>\n",
       "      <td>NaN</td>\n",
       "      <td>NaN</td>\n",
       "      <td>NaN</td>\n",
       "      <td>NaN</td>\n",
       "      <td>NaN</td>\n",
       "      <td>NaN</td>\n",
       "      <td>NaN</td>\n",
       "      <td>NaN</td>\n",
       "      <td>NaN</td>\n",
       "      <td>NaN</td>\n",
       "    </tr>\n",
       "    <tr>\n",
       "      <td>56</td>\n",
       "      <td>NaN</td>\n",
       "      <td>NaN</td>\n",
       "      <td>NaN</td>\n",
       "      <td>NaN</td>\n",
       "      <td>NaN</td>\n",
       "      <td>NaN</td>\n",
       "      <td>NaN</td>\n",
       "      <td>NaN</td>\n",
       "      <td>NaN</td>\n",
       "      <td>NaN</td>\n",
       "      <td>...</td>\n",
       "      <td>NaN</td>\n",
       "      <td>NaN</td>\n",
       "      <td>NaN</td>\n",
       "      <td>NaN</td>\n",
       "      <td>NaN</td>\n",
       "      <td>NaN</td>\n",
       "      <td>NaN</td>\n",
       "      <td>NaN</td>\n",
       "      <td>NaN</td>\n",
       "      <td>NaN</td>\n",
       "    </tr>\n",
       "    <tr>\n",
       "      <td>73</td>\n",
       "      <td>NaN</td>\n",
       "      <td>NaN</td>\n",
       "      <td>NaN</td>\n",
       "      <td>NaN</td>\n",
       "      <td>NaN</td>\n",
       "      <td>NaN</td>\n",
       "      <td>NaN</td>\n",
       "      <td>NaN</td>\n",
       "      <td>NaN</td>\n",
       "      <td>NaN</td>\n",
       "      <td>...</td>\n",
       "      <td>NaN</td>\n",
       "      <td>NaN</td>\n",
       "      <td>NaN</td>\n",
       "      <td>NaN</td>\n",
       "      <td>NaN</td>\n",
       "      <td>NaN</td>\n",
       "      <td>NaN</td>\n",
       "      <td>NaN</td>\n",
       "      <td>NaN</td>\n",
       "      <td>NaN</td>\n",
       "    </tr>\n",
       "    <tr>\n",
       "      <td>79</td>\n",
       "      <td>NaN</td>\n",
       "      <td>NaN</td>\n",
       "      <td>NaN</td>\n",
       "      <td>NaN</td>\n",
       "      <td>NaN</td>\n",
       "      <td>NaN</td>\n",
       "      <td>NaN</td>\n",
       "      <td>NaN</td>\n",
       "      <td>NaN</td>\n",
       "      <td>NaN</td>\n",
       "      <td>...</td>\n",
       "      <td>NaN</td>\n",
       "      <td>NaN</td>\n",
       "      <td>NaN</td>\n",
       "      <td>NaN</td>\n",
       "      <td>NaN</td>\n",
       "      <td>NaN</td>\n",
       "      <td>NaN</td>\n",
       "      <td>NaN</td>\n",
       "      <td>NaN</td>\n",
       "      <td>NaN</td>\n",
       "    </tr>\n",
       "    <tr>\n",
       "      <td>81</td>\n",
       "      <td>NaN</td>\n",
       "      <td>NaN</td>\n",
       "      <td>NaN</td>\n",
       "      <td>NaN</td>\n",
       "      <td>NaN</td>\n",
       "      <td>NaN</td>\n",
       "      <td>NaN</td>\n",
       "      <td>NaN</td>\n",
       "      <td>NaN</td>\n",
       "      <td>NaN</td>\n",
       "      <td>...</td>\n",
       "      <td>NaN</td>\n",
       "      <td>NaN</td>\n",
       "      <td>NaN</td>\n",
       "      <td>NaN</td>\n",
       "      <td>NaN</td>\n",
       "      <td>NaN</td>\n",
       "      <td>NaN</td>\n",
       "      <td>NaN</td>\n",
       "      <td>NaN</td>\n",
       "      <td>NaN</td>\n",
       "    </tr>\n",
       "  </tbody>\n",
       "</table>\n",
       "<p>5 rows × 11865 columns</p>\n",
       "</div>"
      ],
      "text/plain": [
       "title   #Horror  #realityhigh  $9.99  '71  'R Xmas  'Round Midnight  \\\n",
       "userId                                                                \n",
       "4           NaN           NaN    NaN  NaN      NaN              NaN   \n",
       "56          NaN           NaN    NaN  NaN      NaN              NaN   \n",
       "73          NaN           NaN    NaN  NaN      NaN              NaN   \n",
       "79          NaN           NaN    NaN  NaN      NaN              NaN   \n",
       "81          NaN           NaN    NaN  NaN      NaN              NaN   \n",
       "\n",
       "title   'Salem's Lot  'Til There Was You  'burbs, The  'night Mother  ...  \\\n",
       "userId                                                                ...   \n",
       "4                NaN                 NaN          NaN            NaN  ...   \n",
       "56               NaN                 NaN          NaN            NaN  ...   \n",
       "73               NaN                 NaN          NaN            NaN  ...   \n",
       "79               NaN                 NaN          NaN            NaN  ...   \n",
       "81               NaN                 NaN          NaN            NaN  ...   \n",
       "\n",
       "title   a/k/a Tommy Chong  eXistenZ  iBoy  \\\n",
       "userId                                      \n",
       "4                     NaN       NaN   NaN   \n",
       "56                    NaN       NaN   NaN   \n",
       "73                    NaN       NaN   NaN   \n",
       "79                    NaN       NaN   NaN   \n",
       "81                    NaN       NaN   NaN   \n",
       "\n",
       "title   loudQUIETloud: A Film About the Pixies  xXx  \\\n",
       "userId                                                \n",
       "4                                          NaN  NaN   \n",
       "56                                         NaN  NaN   \n",
       "73                                         NaN  NaN   \n",
       "79                                         NaN  NaN   \n",
       "81                                         NaN  NaN   \n",
       "\n",
       "title   xXx: Return of Xander Cage  xXx: State of the Union  ¡Three Amigos!  \\\n",
       "userId                                                                        \n",
       "4                              NaN                      NaN             NaN   \n",
       "56                             NaN                      NaN             NaN   \n",
       "73                             NaN                      NaN             NaN   \n",
       "79                             NaN                      NaN             NaN   \n",
       "81                             NaN                      NaN             NaN   \n",
       "\n",
       "title   Путь к себе  チェブラーシカ  \n",
       "userId                        \n",
       "4               NaN      NaN  \n",
       "56              NaN      NaN  \n",
       "73              NaN      NaN  \n",
       "79              NaN      NaN  \n",
       "81              NaN      NaN  \n",
       "\n",
       "[5 rows x 11865 columns]"
      ]
     },
     "execution_count": 30,
     "metadata": {},
     "output_type": "execute_result"
    }
   ],
   "source": [
    "sampled_ratings.userId = pd.to_numeric(sampled_ratings.userId, downcast = \"integer\")\n",
    "sampled_ratings.movieId = pd.to_numeric(sampled_ratings.movieId, downcast = \"integer\")\n",
    "sampled_ratings.rating = pd.to_numeric(sampled_ratings.rating, downcast = \"float\")\n",
    "\n",
    "merge_matrix = sampled_ratings.pivot_table(index = \"userId\", columns = \"title\", values = \"rating\")\n",
    "merge_matrix.head()"
   ]
  },
  {
   "cell_type": "code",
   "execution_count": 31,
   "metadata": {},
   "outputs": [],
   "source": [
    "def find_intersections(df, col):\n",
    "    return df.apply(lambda x: find_number_of_intersections(df, col, x.name))"
   ]
  },
  {
   "cell_type": "code",
   "execution_count": 32,
   "metadata": {},
   "outputs": [],
   "source": [
    "def find_number_of_intersections(df, col1, col2):\n",
    "    col1_unique = df[col1].dropna().reset_index().userId.unique()\n",
    "    col2_unique = df[col2].dropna().reset_index().userId.unique()\n",
    "    return np.intersect1d(col1_unique, col2_unique).size"
   ]
  },
  {
   "cell_type": "code",
   "execution_count": 38,
   "metadata": {},
   "outputs": [],
   "source": [
    "def most_relevant(df, movie, least_common_ratings):\n",
    "    intersections = find_intersections(df, movie)\n",
    "    return intersections[intersections >= least_common_ratings]"
   ]
  },
  {
   "cell_type": "code",
   "execution_count": 90,
   "metadata": {},
   "outputs": [],
   "source": [
    "def movies_with_counts(df, cols, ratings_threshold):\n",
    "    ratings = df.groupby(\"title\")[\"rating\"].mean().reset_index()\n",
    "    ratings[\"rating_count\"] = df.groupby(\"title\")[\"rating\"].count().reset_index().rating\n",
    "    ratings = ratings.set_index(\"title\").loc[cols].reset_index()\n",
    "    return ratings[ratings.rating_count > ratings_threshold]"
   ]
  },
  {
   "cell_type": "code",
   "execution_count": 39,
   "metadata": {},
   "outputs": [
    {
     "data": {
      "text/plain": [
       "title\n",
       "Aladdin                                                                      3\n",
       "American Beauty                                                              3\n",
       "Beautiful Mind, A                                                            3\n",
       "Beautiful Thing                                                              3\n",
       "Breakfast Club, The                                                          3\n",
       "City Slickers                                                                3\n",
       "Dragonheart                                                                  3\n",
       "Father of the Bride Part II                                                  3\n",
       "Fight Club                                                                   3\n",
       "Gladiator                                                                    3\n",
       "Godfather, The                                                               3\n",
       "Independence Day (a.k.a. ID4)                                                3\n",
       "Mission: Impossible                                                          3\n",
       "Raiders of the Lost Ark (Indiana Jones and the Raiders of the Lost Ark)      4\n",
       "Rocky II                                                                     3\n",
       "Scarface                                                                     3\n",
       "Shawshank Redemption, The                                                  129\n",
       "Top Gun                                                                      3\n",
       "dtype: int64"
      ]
     },
     "execution_count": 39,
     "metadata": {},
     "output_type": "execute_result"
    }
   ],
   "source": [
    "relevant = most_relevant(merge_matrix, \"Shawshank Redemption, The\", 3)\n",
    "relevant"
   ]
  },
  {
   "cell_type": "code",
   "execution_count": 40,
   "metadata": {},
   "outputs": [],
   "source": [
    "def movie_correlations(df, movie, movies_to_compare):\n",
    "    movie_user_ratings = df[movie]\n",
    "    return df[movies_to_compare].corrwith(movie_user_ratings).sort_values(ascending = False)"
   ]
  },
  {
   "cell_type": "code",
   "execution_count": 97,
   "metadata": {},
   "outputs": [],
   "source": [
    "def get_correlations(sample, pivot, movie, n_movies_to_compare = 3, ratings_threshold = 50, corr_threshold = 0.5):\n",
    "    relevant = most_relevant(pivot, movie, n_movies_to_compare)\n",
    "    rel = movies_with_counts(sample, relevant.index.values.tolist(), ratings_threshold)\n",
    "    similar_to_movie = movie_correlations(pivot, movie, rel.title)\n",
    "    similar_to_movie.drop(movie, inplace = True)\n",
    "    return similar_to_movie[similar_to_movie > corr_threshold]"
   ]
  },
  {
   "cell_type": "code",
   "execution_count": null,
   "metadata": {},
   "outputs": [],
   "source": [
    "corrs = get_correlations(sampled_ratings, merge_matrix, \"Austin Powers: The Spy Who Shagged Me\", 3, 50, 0.5)\n",
    "corrs"
   ]
  },
  {
   "cell_type": "markdown",
   "metadata": {},
   "source": [
    "#### Exemplo de recomendação:\n",
    "* Utilizador que viu shawshank redemption e shindler's list, o que quer ver a seguir?\n",
    "* Ver filmes cujos utilizadores dão ratings da mesma forma que dão ratings a estes do filmes."
   ]
  },
  {
   "cell_type": "markdown",
   "metadata": {},
   "source": [
    "https://towardsdatascience.com/beginners-recommendation-systems-with-python-ee1b08d2efb6\n",
    "https://www.kaggle.com/kanncaa1/recommendation-systems-tutorial"
   ]
  }
 ],
 "metadata": {
  "kernelspec": {
   "display_name": "Python 3",
   "language": "python",
   "name": "python3"
  },
  "language_info": {
   "codemirror_mode": {
    "name": "ipython",
    "version": 3
   },
   "file_extension": ".py",
   "mimetype": "text/x-python",
   "name": "python",
   "nbconvert_exporter": "python",
   "pygments_lexer": "ipython3",
   "version": "3.7.4"
  }
 },
 "nbformat": 4,
 "nbformat_minor": 4
}
