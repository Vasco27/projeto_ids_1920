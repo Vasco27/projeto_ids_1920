{
 "cells": [
  {
   "cell_type": "markdown",
   "metadata": {},
   "source": [
    "# Datasets:\n",
    "\n",
    "* Dataset \"**Movies**\" e \"**Ratings**\"\n",
    "* Transformação de timestamps em DateTimes\n",
    "* Nos **Ratings** não existem dados antes de 1995 e depois de 2018\n",
    "* Há cerca de 27 milhões de ratings e 58 mil filmes nos datasets\n",
    "\n",
    "## Ratings:"
   ]
  },
  {
   "cell_type": "code",
   "execution_count": 1,
   "metadata": {},
   "outputs": [
    {
     "name": "stdout",
     "output_type": "stream",
     "text": [
      "(27753444, 4)\n"
     ]
    },
    {
     "data": {
      "text/html": [
       "<div>\n",
       "<style scoped>\n",
       "    .dataframe tbody tr th:only-of-type {\n",
       "        vertical-align: middle;\n",
       "    }\n",
       "\n",
       "    .dataframe tbody tr th {\n",
       "        vertical-align: top;\n",
       "    }\n",
       "\n",
       "    .dataframe thead th {\n",
       "        text-align: right;\n",
       "    }\n",
       "</style>\n",
       "<table border=\"1\" class=\"dataframe\">\n",
       "  <thead>\n",
       "    <tr style=\"text-align: right;\">\n",
       "      <th></th>\n",
       "      <th>userId</th>\n",
       "      <th>movieId</th>\n",
       "      <th>rating</th>\n",
       "      <th>timestamp</th>\n",
       "    </tr>\n",
       "  </thead>\n",
       "  <tbody>\n",
       "    <tr>\n",
       "      <td>0</td>\n",
       "      <td>1</td>\n",
       "      <td>307</td>\n",
       "      <td>3.5</td>\n",
       "      <td>1256677221</td>\n",
       "    </tr>\n",
       "    <tr>\n",
       "      <td>1</td>\n",
       "      <td>1</td>\n",
       "      <td>481</td>\n",
       "      <td>3.5</td>\n",
       "      <td>1256677456</td>\n",
       "    </tr>\n",
       "    <tr>\n",
       "      <td>2</td>\n",
       "      <td>1</td>\n",
       "      <td>1091</td>\n",
       "      <td>1.5</td>\n",
       "      <td>1256677471</td>\n",
       "    </tr>\n",
       "    <tr>\n",
       "      <td>3</td>\n",
       "      <td>1</td>\n",
       "      <td>1257</td>\n",
       "      <td>4.5</td>\n",
       "      <td>1256677460</td>\n",
       "    </tr>\n",
       "    <tr>\n",
       "      <td>4</td>\n",
       "      <td>1</td>\n",
       "      <td>1449</td>\n",
       "      <td>4.5</td>\n",
       "      <td>1256677264</td>\n",
       "    </tr>\n",
       "  </tbody>\n",
       "</table>\n",
       "</div>"
      ],
      "text/plain": [
       "   userId  movieId  rating   timestamp\n",
       "0       1      307     3.5  1256677221\n",
       "1       1      481     3.5  1256677456\n",
       "2       1     1091     1.5  1256677471\n",
       "3       1     1257     4.5  1256677460\n",
       "4       1     1449     4.5  1256677264"
      ]
     },
     "execution_count": 1,
     "metadata": {},
     "output_type": "execute_result"
    }
   ],
   "source": [
    "import pandas as pd\n",
    "import numpy as np\n",
    "ratings = pd.read_csv(\"datasets/ratings.csv\")\n",
    "print(ratings.shape)\n",
    "ratings.head()"
   ]
  },
  {
   "cell_type": "markdown",
   "metadata": {},
   "source": [
    "##### Transformar timestamps em datetime:\n",
    "* transformar a coluna \"timestamp\" no dataset dos ratings\n",
    "* Possivelmente utilizá-la como index"
   ]
  },
  {
   "cell_type": "code",
   "execution_count": 2,
   "metadata": {},
   "outputs": [
    {
     "data": {
      "text/html": [
       "<div>\n",
       "<style scoped>\n",
       "    .dataframe tbody tr th:only-of-type {\n",
       "        vertical-align: middle;\n",
       "    }\n",
       "\n",
       "    .dataframe tbody tr th {\n",
       "        vertical-align: top;\n",
       "    }\n",
       "\n",
       "    .dataframe thead th {\n",
       "        text-align: right;\n",
       "    }\n",
       "</style>\n",
       "<table border=\"1\" class=\"dataframe\">\n",
       "  <thead>\n",
       "    <tr style=\"text-align: right;\">\n",
       "      <th></th>\n",
       "      <th>userId</th>\n",
       "      <th>movieId</th>\n",
       "      <th>rating</th>\n",
       "      <th>date</th>\n",
       "    </tr>\n",
       "  </thead>\n",
       "  <tbody>\n",
       "    <tr>\n",
       "      <td>0</td>\n",
       "      <td>1</td>\n",
       "      <td>307</td>\n",
       "      <td>3.5</td>\n",
       "      <td>2009-10-27 21:00:21</td>\n",
       "    </tr>\n",
       "    <tr>\n",
       "      <td>1</td>\n",
       "      <td>1</td>\n",
       "      <td>481</td>\n",
       "      <td>3.5</td>\n",
       "      <td>2009-10-27 21:04:16</td>\n",
       "    </tr>\n",
       "    <tr>\n",
       "      <td>2</td>\n",
       "      <td>1</td>\n",
       "      <td>1091</td>\n",
       "      <td>1.5</td>\n",
       "      <td>2009-10-27 21:04:31</td>\n",
       "    </tr>\n",
       "    <tr>\n",
       "      <td>3</td>\n",
       "      <td>1</td>\n",
       "      <td>1257</td>\n",
       "      <td>4.5</td>\n",
       "      <td>2009-10-27 21:04:20</td>\n",
       "    </tr>\n",
       "    <tr>\n",
       "      <td>4</td>\n",
       "      <td>1</td>\n",
       "      <td>1449</td>\n",
       "      <td>4.5</td>\n",
       "      <td>2009-10-27 21:01:04</td>\n",
       "    </tr>\n",
       "  </tbody>\n",
       "</table>\n",
       "</div>"
      ],
      "text/plain": [
       "   userId  movieId  rating                date\n",
       "0       1      307     3.5 2009-10-27 21:00:21\n",
       "1       1      481     3.5 2009-10-27 21:04:16\n",
       "2       1     1091     1.5 2009-10-27 21:04:31\n",
       "3       1     1257     4.5 2009-10-27 21:04:20\n",
       "4       1     1449     4.5 2009-10-27 21:01:04"
      ]
     },
     "execution_count": 2,
     "metadata": {},
     "output_type": "execute_result"
    }
   ],
   "source": [
    "ratings[\"date\"] = pd.to_datetime(ratings.timestamp, unit = \"s\")\n",
    "ratings = ratings.drop(columns = \"timestamp\")\n",
    "ratings.head()\n",
    "\n",
    "#Se for preciso utilizar a data como index\n",
    "#ratings_plot.index = pd.DatetimeIndex(ratings_plot.date)"
   ]
  },
  {
   "cell_type": "markdown",
   "metadata": {},
   "source": [
    "**Não existem ratings antes de 1995 e depois de 2018**"
   ]
  },
  {
   "cell_type": "code",
   "execution_count": 3,
   "metadata": {},
   "outputs": [
    {
     "name": "stdout",
     "output_type": "stream",
     "text": [
      "Empty DataFrame\n",
      "Columns: [userId, movieId, rating, date]\n",
      "Index: []\n",
      "Empty DataFrame\n",
      "Columns: [userId, movieId, rating, date]\n",
      "Index: []\n"
     ]
    }
   ],
   "source": [
    "print(ratings.loc[ratings.date.dt.year < 1995])\n",
    "print(ratings.loc[ratings.date.dt.year > 2018])"
   ]
  },
  {
   "cell_type": "markdown",
   "metadata": {},
   "source": [
    "## Movies:"
   ]
  },
  {
   "cell_type": "code",
   "execution_count": 4,
   "metadata": {},
   "outputs": [
    {
     "name": "stdout",
     "output_type": "stream",
     "text": [
      "(58098, 3)\n"
     ]
    },
    {
     "data": {
      "text/html": [
       "<div>\n",
       "<style scoped>\n",
       "    .dataframe tbody tr th:only-of-type {\n",
       "        vertical-align: middle;\n",
       "    }\n",
       "\n",
       "    .dataframe tbody tr th {\n",
       "        vertical-align: top;\n",
       "    }\n",
       "\n",
       "    .dataframe thead th {\n",
       "        text-align: right;\n",
       "    }\n",
       "</style>\n",
       "<table border=\"1\" class=\"dataframe\">\n",
       "  <thead>\n",
       "    <tr style=\"text-align: right;\">\n",
       "      <th></th>\n",
       "      <th>movieId</th>\n",
       "      <th>title</th>\n",
       "      <th>genres</th>\n",
       "    </tr>\n",
       "  </thead>\n",
       "  <tbody>\n",
       "    <tr>\n",
       "      <td>0</td>\n",
       "      <td>1</td>\n",
       "      <td>Toy Story (1995)</td>\n",
       "      <td>Adventure|Animation|Children|Comedy|Fantasy</td>\n",
       "    </tr>\n",
       "    <tr>\n",
       "      <td>1</td>\n",
       "      <td>2</td>\n",
       "      <td>Jumanji (1995)</td>\n",
       "      <td>Adventure|Children|Fantasy</td>\n",
       "    </tr>\n",
       "    <tr>\n",
       "      <td>2</td>\n",
       "      <td>3</td>\n",
       "      <td>Grumpier Old Men (1995)</td>\n",
       "      <td>Comedy|Romance</td>\n",
       "    </tr>\n",
       "    <tr>\n",
       "      <td>3</td>\n",
       "      <td>4</td>\n",
       "      <td>Waiting to Exhale (1995)</td>\n",
       "      <td>Comedy|Drama|Romance</td>\n",
       "    </tr>\n",
       "    <tr>\n",
       "      <td>4</td>\n",
       "      <td>5</td>\n",
       "      <td>Father of the Bride Part II (1995)</td>\n",
       "      <td>Comedy</td>\n",
       "    </tr>\n",
       "  </tbody>\n",
       "</table>\n",
       "</div>"
      ],
      "text/plain": [
       "   movieId                               title  \\\n",
       "0        1                    Toy Story (1995)   \n",
       "1        2                      Jumanji (1995)   \n",
       "2        3             Grumpier Old Men (1995)   \n",
       "3        4            Waiting to Exhale (1995)   \n",
       "4        5  Father of the Bride Part II (1995)   \n",
       "\n",
       "                                        genres  \n",
       "0  Adventure|Animation|Children|Comedy|Fantasy  \n",
       "1                   Adventure|Children|Fantasy  \n",
       "2                               Comedy|Romance  \n",
       "3                         Comedy|Drama|Romance  \n",
       "4                                       Comedy  "
      ]
     },
     "execution_count": 4,
     "metadata": {},
     "output_type": "execute_result"
    }
   ],
   "source": [
    "movies = pd.read_csv(\"datasets/movies.csv\")\n",
    "print(movies.shape)\n",
    "movies.head()"
   ]
  },
  {
   "cell_type": "code",
   "execution_count": 5,
   "metadata": {},
   "outputs": [
    {
     "data": {
      "text/html": [
       "<div>\n",
       "<style scoped>\n",
       "    .dataframe tbody tr th:only-of-type {\n",
       "        vertical-align: middle;\n",
       "    }\n",
       "\n",
       "    .dataframe tbody tr th {\n",
       "        vertical-align: top;\n",
       "    }\n",
       "\n",
       "    .dataframe thead th {\n",
       "        text-align: right;\n",
       "    }\n",
       "</style>\n",
       "<table border=\"1\" class=\"dataframe\">\n",
       "  <thead>\n",
       "    <tr style=\"text-align: right;\">\n",
       "      <th></th>\n",
       "      <th>movieId</th>\n",
       "      <th>title</th>\n",
       "      <th>genres</th>\n",
       "      <th>year</th>\n",
       "    </tr>\n",
       "  </thead>\n",
       "  <tbody>\n",
       "    <tr>\n",
       "      <td>0</td>\n",
       "      <td>1</td>\n",
       "      <td>Toy Story</td>\n",
       "      <td>Adventure|Animation|Children|Comedy|Fantasy</td>\n",
       "      <td>1995</td>\n",
       "    </tr>\n",
       "    <tr>\n",
       "      <td>1</td>\n",
       "      <td>2</td>\n",
       "      <td>Jumanji</td>\n",
       "      <td>Adventure|Children|Fantasy</td>\n",
       "      <td>1995</td>\n",
       "    </tr>\n",
       "    <tr>\n",
       "      <td>2</td>\n",
       "      <td>3</td>\n",
       "      <td>Grumpier Old Men</td>\n",
       "      <td>Comedy|Romance</td>\n",
       "      <td>1995</td>\n",
       "    </tr>\n",
       "    <tr>\n",
       "      <td>3</td>\n",
       "      <td>4</td>\n",
       "      <td>Waiting to Exhale</td>\n",
       "      <td>Comedy|Drama|Romance</td>\n",
       "      <td>1995</td>\n",
       "    </tr>\n",
       "    <tr>\n",
       "      <td>4</td>\n",
       "      <td>5</td>\n",
       "      <td>Father of the Bride Part II</td>\n",
       "      <td>Comedy</td>\n",
       "      <td>1995</td>\n",
       "    </tr>\n",
       "  </tbody>\n",
       "</table>\n",
       "</div>"
      ],
      "text/plain": [
       "   movieId                        title  \\\n",
       "0        1                    Toy Story   \n",
       "1        2                      Jumanji   \n",
       "2        3             Grumpier Old Men   \n",
       "3        4            Waiting to Exhale   \n",
       "4        5  Father of the Bride Part II   \n",
       "\n",
       "                                        genres  year  \n",
       "0  Adventure|Animation|Children|Comedy|Fantasy  1995  \n",
       "1                   Adventure|Children|Fantasy  1995  \n",
       "2                               Comedy|Romance  1995  \n",
       "3                         Comedy|Drama|Romance  1995  \n",
       "4                                       Comedy  1995  "
      ]
     },
     "execution_count": 5,
     "metadata": {},
     "output_type": "execute_result"
    }
   ],
   "source": [
    "#Extrair o ano\n",
    "movies[\"year\"] = movies.title.str.extract(\"\\((\\d{4})\\)\")\n",
    "movies.title = movies.title.str[:-7]\n",
    "movies.head()"
   ]
  },
  {
   "cell_type": "code",
   "execution_count": 104,
   "metadata": {},
   "outputs": [
    {
     "data": {
      "text/plain": [
       "(57447, 5)"
      ]
     },
     "execution_count": 104,
     "metadata": {},
     "output_type": "execute_result"
    }
   ],
   "source": [
    "movies = movies.dropna()\n",
    "movies.shape"
   ]
  },
  {
   "cell_type": "markdown",
   "metadata": {},
   "source": [
    "# Sampling do dataset:\n",
    "* Juntando os ratings com os movies\n",
    "* Sendo o peso o ano do filme (filmes mais antigos têm menos ratings e sao menos importantes para recomendação)\n",
    "* **BIAS:** Usando o ano como peso na amostragem acrescenta uma parcialidade a favor de filmes mais recentes.\n",
    "\n",
    "\n",
    "#### Número único de utilizadores e filmes:"
   ]
  },
  {
   "cell_type": "code",
   "execution_count": 7,
   "metadata": {},
   "outputs": [
    {
     "name": "stdout",
     "output_type": "stream",
     "text": [
      "(27753444, 6)\n",
      "283228\n",
      "50591\n"
     ]
    },
    {
     "data": {
      "text/html": [
       "<div>\n",
       "<style scoped>\n",
       "    .dataframe tbody tr th:only-of-type {\n",
       "        vertical-align: middle;\n",
       "    }\n",
       "\n",
       "    .dataframe tbody tr th {\n",
       "        vertical-align: top;\n",
       "    }\n",
       "\n",
       "    .dataframe thead th {\n",
       "        text-align: right;\n",
       "    }\n",
       "</style>\n",
       "<table border=\"1\" class=\"dataframe\">\n",
       "  <thead>\n",
       "    <tr style=\"text-align: right;\">\n",
       "      <th></th>\n",
       "      <th>userId</th>\n",
       "      <th>movieId</th>\n",
       "      <th>rating</th>\n",
       "      <th>date</th>\n",
       "      <th>title</th>\n",
       "      <th>year</th>\n",
       "    </tr>\n",
       "  </thead>\n",
       "  <tbody>\n",
       "    <tr>\n",
       "      <td>0</td>\n",
       "      <td>1</td>\n",
       "      <td>307</td>\n",
       "      <td>3.5</td>\n",
       "      <td>2009-10-27 21:00:21</td>\n",
       "      <td>Three Colors: Blue (Trois couleurs: Bleu)</td>\n",
       "      <td>1993</td>\n",
       "    </tr>\n",
       "    <tr>\n",
       "      <td>1</td>\n",
       "      <td>1</td>\n",
       "      <td>481</td>\n",
       "      <td>3.5</td>\n",
       "      <td>2009-10-27 21:04:16</td>\n",
       "      <td>Kalifornia</td>\n",
       "      <td>1993</td>\n",
       "    </tr>\n",
       "    <tr>\n",
       "      <td>2</td>\n",
       "      <td>1</td>\n",
       "      <td>1091</td>\n",
       "      <td>1.5</td>\n",
       "      <td>2009-10-27 21:04:31</td>\n",
       "      <td>Weekend at Bernie's</td>\n",
       "      <td>1989</td>\n",
       "    </tr>\n",
       "    <tr>\n",
       "      <td>3</td>\n",
       "      <td>1</td>\n",
       "      <td>1257</td>\n",
       "      <td>4.5</td>\n",
       "      <td>2009-10-27 21:04:20</td>\n",
       "      <td>Better Off Dead...</td>\n",
       "      <td>1985</td>\n",
       "    </tr>\n",
       "    <tr>\n",
       "      <td>4</td>\n",
       "      <td>1</td>\n",
       "      <td>1449</td>\n",
       "      <td>4.5</td>\n",
       "      <td>2009-10-27 21:01:04</td>\n",
       "      <td>Waiting for Guffman</td>\n",
       "      <td>1996</td>\n",
       "    </tr>\n",
       "  </tbody>\n",
       "</table>\n",
       "</div>"
      ],
      "text/plain": [
       "   userId  movieId  rating                date  \\\n",
       "0       1      307     3.5 2009-10-27 21:00:21   \n",
       "1       1      481     3.5 2009-10-27 21:04:16   \n",
       "2       1     1091     1.5 2009-10-27 21:04:31   \n",
       "3       1     1257     4.5 2009-10-27 21:04:20   \n",
       "4       1     1449     4.5 2009-10-27 21:01:04   \n",
       "\n",
       "                                       title  year  \n",
       "0  Three Colors: Blue (Trois couleurs: Bleu)  1993  \n",
       "1                                 Kalifornia  1993  \n",
       "2                        Weekend at Bernie's  1989  \n",
       "3                         Better Off Dead...  1985  \n",
       "4                        Waiting for Guffman  1996  "
      ]
     },
     "execution_count": 7,
     "metadata": {},
     "output_type": "execute_result"
    }
   ],
   "source": [
    "movie_ratings = ratings.join(movies.set_index(\"movieId\"), on = \"movieId\")\n",
    "movie_ratings.drop(columns = [\"genres\"], inplace = True)\n",
    "print(movie_ratings.shape)\n",
    "print(movie_ratings.userId.unique().size)\n",
    "print(movie_ratings.title.unique().size)\n",
    "movie_ratings.head()"
   ]
  },
  {
   "cell_type": "markdown",
   "metadata": {},
   "source": [
    "### get_count_users_ratings:\n",
    "Extrai todos os utilizador de um dataframe que fizeram mais de um certo número de ratings (*ratings_threshold*)\n",
    "* *df* -> dataframe com userId e ratings\n",
    "* *ratings_threshold* -> número de ratings a partir do qual um utilizador é relevante"
   ]
  },
  {
   "cell_type": "code",
   "execution_count": 107,
   "metadata": {},
   "outputs": [],
   "source": [
    "def get_count_users_ratings(df, ratings_threshold):\n",
    "    user_ratings = df.groupby(\"userId\")[\"rating\"].count()\n",
    "    return(user_ratings[user_ratings > ratings_threshold])"
   ]
  },
  {
   "cell_type": "code",
   "execution_count": 108,
   "metadata": {},
   "outputs": [
    {
     "name": "stdout",
     "output_type": "stream",
     "text": [
      "(14412,)\n"
     ]
    },
    {
     "data": {
      "text/plain": [
       "userId\n",
       "4      736\n",
       "56     764\n",
       "73     468\n",
       "79     425\n",
       "81    1093\n",
       "Name: rating, dtype: int64"
      ]
     },
     "execution_count": 108,
     "metadata": {},
     "output_type": "execute_result"
    }
   ],
   "source": [
    "#Exemplo de utilizacao\n",
    "user_ratings = get_count_users_ratings(movie_ratings, 400)\n",
    "print(user_ratings.shape)\n",
    "user_ratings.head()"
   ]
  },
  {
   "cell_type": "markdown",
   "metadata": {},
   "source": [
    "### ratings_from_users:\n",
    "Mostra apenas os utilizadores com mais de certos ratings num determinado dataframe, utilizando a função **get_count_users_ratings**."
   ]
  },
  {
   "cell_type": "code",
   "execution_count": 109,
   "metadata": {},
   "outputs": [],
   "source": [
    "def ratings_from_users(df, ratings_threshold):\n",
    "    user_ratings = get_count_users_ratings(df, ratings_threshold)\n",
    "    mask = df.userId.apply(lambda x: x in user_ratings.index)\n",
    "    return df[mask]"
   ]
  },
  {
   "cell_type": "code",
   "execution_count": 110,
   "metadata": {},
   "outputs": [
    {
     "name": "stdout",
     "output_type": "stream",
     "text": [
      "(11203227, 6)\n"
     ]
    },
    {
     "data": {
      "text/html": [
       "<div>\n",
       "<style scoped>\n",
       "    .dataframe tbody tr th:only-of-type {\n",
       "        vertical-align: middle;\n",
       "    }\n",
       "\n",
       "    .dataframe tbody tr th {\n",
       "        vertical-align: top;\n",
       "    }\n",
       "\n",
       "    .dataframe thead th {\n",
       "        text-align: right;\n",
       "    }\n",
       "</style>\n",
       "<table border=\"1\" class=\"dataframe\">\n",
       "  <thead>\n",
       "    <tr style=\"text-align: right;\">\n",
       "      <th></th>\n",
       "      <th>userId</th>\n",
       "      <th>movieId</th>\n",
       "      <th>rating</th>\n",
       "      <th>date</th>\n",
       "      <th>title</th>\n",
       "      <th>year</th>\n",
       "    </tr>\n",
       "  </thead>\n",
       "  <tbody>\n",
       "    <tr>\n",
       "      <td>42</td>\n",
       "      <td>4</td>\n",
       "      <td>1</td>\n",
       "      <td>4.0</td>\n",
       "      <td>2005-04-17 19:25:37</td>\n",
       "      <td>Toy Story</td>\n",
       "      <td>1995</td>\n",
       "    </tr>\n",
       "    <tr>\n",
       "      <td>43</td>\n",
       "      <td>4</td>\n",
       "      <td>2</td>\n",
       "      <td>4.0</td>\n",
       "      <td>2005-04-17 19:48:26</td>\n",
       "      <td>Jumanji</td>\n",
       "      <td>1995</td>\n",
       "    </tr>\n",
       "    <tr>\n",
       "      <td>44</td>\n",
       "      <td>4</td>\n",
       "      <td>5</td>\n",
       "      <td>2.0</td>\n",
       "      <td>2005-08-14 03:34:13</td>\n",
       "      <td>Father of the Bride Part II</td>\n",
       "      <td>1995</td>\n",
       "    </tr>\n",
       "    <tr>\n",
       "      <td>45</td>\n",
       "      <td>4</td>\n",
       "      <td>6</td>\n",
       "      <td>4.5</td>\n",
       "      <td>2005-04-17 19:47:22</td>\n",
       "      <td>Heat</td>\n",
       "      <td>1995</td>\n",
       "    </tr>\n",
       "    <tr>\n",
       "      <td>46</td>\n",
       "      <td>4</td>\n",
       "      <td>10</td>\n",
       "      <td>4.0</td>\n",
       "      <td>2005-04-17 19:26:35</td>\n",
       "      <td>GoldenEye</td>\n",
       "      <td>1995</td>\n",
       "    </tr>\n",
       "  </tbody>\n",
       "</table>\n",
       "</div>"
      ],
      "text/plain": [
       "    userId  movieId  rating                date                        title  \\\n",
       "42       4        1     4.0 2005-04-17 19:25:37                    Toy Story   \n",
       "43       4        2     4.0 2005-04-17 19:48:26                      Jumanji   \n",
       "44       4        5     2.0 2005-08-14 03:34:13  Father of the Bride Part II   \n",
       "45       4        6     4.5 2005-04-17 19:47:22                         Heat   \n",
       "46       4       10     4.0 2005-04-17 19:26:35                    GoldenEye   \n",
       "\n",
       "    year  \n",
       "42  1995  \n",
       "43  1995  \n",
       "44  1995  \n",
       "45  1995  \n",
       "46  1995  "
      ]
     },
     "execution_count": 110,
     "metadata": {},
     "output_type": "execute_result"
    }
   ],
   "source": [
    "#Exemplo\n",
    "movie_ratings = ratings_from_users(movie_ratings, 400)\n",
    "print(movie_ratings.shape)\n",
    "movie_ratings.head()"
   ]
  },
  {
   "cell_type": "markdown",
   "metadata": {},
   "source": [
    "Sample de 100K ratings, dando mais importância a anos mais recentes"
   ]
  },
  {
   "cell_type": "code",
   "execution_count": 21,
   "metadata": {},
   "outputs": [
    {
     "name": "stdout",
     "output_type": "stream",
     "text": [
      "(100000, 6)\n"
     ]
    },
    {
     "data": {
      "text/html": [
       "<div>\n",
       "<style scoped>\n",
       "    .dataframe tbody tr th:only-of-type {\n",
       "        vertical-align: middle;\n",
       "    }\n",
       "\n",
       "    .dataframe tbody tr th {\n",
       "        vertical-align: top;\n",
       "    }\n",
       "\n",
       "    .dataframe thead th {\n",
       "        text-align: right;\n",
       "    }\n",
       "</style>\n",
       "<table border=\"1\" class=\"dataframe\">\n",
       "  <thead>\n",
       "    <tr style=\"text-align: right;\">\n",
       "      <th></th>\n",
       "      <th>userId</th>\n",
       "      <th>movieId</th>\n",
       "      <th>rating</th>\n",
       "      <th>date</th>\n",
       "      <th>title</th>\n",
       "      <th>year</th>\n",
       "    </tr>\n",
       "  </thead>\n",
       "  <tbody>\n",
       "    <tr>\n",
       "      <td>11602861</td>\n",
       "      <td>118903</td>\n",
       "      <td>6711</td>\n",
       "      <td>3.5</td>\n",
       "      <td>2003-10-06 00:16:00</td>\n",
       "      <td>Lost in Translation</td>\n",
       "      <td>2003</td>\n",
       "    </tr>\n",
       "    <tr>\n",
       "      <td>19961188</td>\n",
       "      <td>203569</td>\n",
       "      <td>1544</td>\n",
       "      <td>1.5</td>\n",
       "      <td>2010-11-15 11:40:29</td>\n",
       "      <td>Lost World: Jurassic Park, The</td>\n",
       "      <td>1997</td>\n",
       "    </tr>\n",
       "    <tr>\n",
       "      <td>5287</td>\n",
       "      <td>56</td>\n",
       "      <td>7004</td>\n",
       "      <td>3.0</td>\n",
       "      <td>2010-05-25 10:03:01</td>\n",
       "      <td>Kindergarten Cop</td>\n",
       "      <td>1990</td>\n",
       "    </tr>\n",
       "    <tr>\n",
       "      <td>8460254</td>\n",
       "      <td>87201</td>\n",
       "      <td>110</td>\n",
       "      <td>4.0</td>\n",
       "      <td>2006-01-17 05:12:51</td>\n",
       "      <td>Braveheart</td>\n",
       "      <td>1995</td>\n",
       "    </tr>\n",
       "    <tr>\n",
       "      <td>4103898</td>\n",
       "      <td>42151</td>\n",
       "      <td>4011</td>\n",
       "      <td>4.5</td>\n",
       "      <td>2003-09-04 20:44:49</td>\n",
       "      <td>Snatch</td>\n",
       "      <td>2000</td>\n",
       "    </tr>\n",
       "  </tbody>\n",
       "</table>\n",
       "</div>"
      ],
      "text/plain": [
       "          userId  movieId  rating                date  \\\n",
       "11602861  118903     6711     3.5 2003-10-06 00:16:00   \n",
       "19961188  203569     1544     1.5 2010-11-15 11:40:29   \n",
       "5287          56     7004     3.0 2010-05-25 10:03:01   \n",
       "8460254    87201      110     4.0 2006-01-17 05:12:51   \n",
       "4103898    42151     4011     4.5 2003-09-04 20:44:49   \n",
       "\n",
       "                                   title  year  \n",
       "11602861             Lost in Translation  2003  \n",
       "19961188  Lost World: Jurassic Park, The  1997  \n",
       "5287                    Kindergarten Cop  1990  \n",
       "8460254                       Braveheart  1995  \n",
       "4103898                           Snatch  2000  "
      ]
     },
     "execution_count": 21,
     "metadata": {},
     "output_type": "execute_result"
    }
   ],
   "source": [
    "sampled_ratings = pd.DataFrame(movie_ratings)\n",
    "sampled_ratings = sampled_ratings.sample(n = 100000, replace = False, weights = \"year\", random_state = 1)\n",
    "print(sampled_ratings.shape)\n",
    "sampled_ratings.head()"
   ]
  },
  {
   "cell_type": "markdown",
   "metadata": {},
   "source": [
    "Verificação da possibilidade de construir uma pivot_table com os utilizadores e filmes existentes na sample. Estes não podem ultrapassar o valor máximo de um **int32**."
   ]
  },
  {
   "cell_type": "code",
   "execution_count": 24,
   "metadata": {},
   "outputs": [
    {
     "name": "stdout",
     "output_type": "stream",
     "text": [
      "(100000, 6)\n",
      "14301\n",
      "12249\n",
      "175172949\n",
      "True\n"
     ]
    }
   ],
   "source": [
    "#não existem valores em falta no dataframe\n",
    "print(sampled_ratings.dropna().shape)\n",
    "print(sampled_ratings.userId.unique().size)\n",
    "print(sampled_ratings.movieId.unique().size)\n",
    "print(sampled_ratings.userId.unique().size * sampled_ratings.movieId.unique().size)\n",
    "\n",
    "#Verificar se o tamanho da sample (em forma de pivot table) é maior que o maior valor do int32 (evitar memory errors)\n",
    "print(2147483647 > (sampled_ratings.userId.unique().size * sampled_ratings.movieId.unique().size))"
   ]
  },
  {
   "cell_type": "code",
   "execution_count": 30,
   "metadata": {},
   "outputs": [
    {
     "data": {
      "text/html": [
       "<div>\n",
       "<style scoped>\n",
       "    .dataframe tbody tr th:only-of-type {\n",
       "        vertical-align: middle;\n",
       "    }\n",
       "\n",
       "    .dataframe tbody tr th {\n",
       "        vertical-align: top;\n",
       "    }\n",
       "\n",
       "    .dataframe thead th {\n",
       "        text-align: right;\n",
       "    }\n",
       "</style>\n",
       "<table border=\"1\" class=\"dataframe\">\n",
       "  <thead>\n",
       "    <tr style=\"text-align: right;\">\n",
       "      <th>title</th>\n",
       "      <th>#Horror</th>\n",
       "      <th>#realityhigh</th>\n",
       "      <th>$9.99</th>\n",
       "      <th>'71</th>\n",
       "      <th>'R Xmas</th>\n",
       "      <th>'Round Midnight</th>\n",
       "      <th>'Salem's Lot</th>\n",
       "      <th>'Til There Was You</th>\n",
       "      <th>'burbs, The</th>\n",
       "      <th>'night Mother</th>\n",
       "      <th>...</th>\n",
       "      <th>a/k/a Tommy Chong</th>\n",
       "      <th>eXistenZ</th>\n",
       "      <th>iBoy</th>\n",
       "      <th>loudQUIETloud: A Film About the Pixies</th>\n",
       "      <th>xXx</th>\n",
       "      <th>xXx: Return of Xander Cage</th>\n",
       "      <th>xXx: State of the Union</th>\n",
       "      <th>¡Three Amigos!</th>\n",
       "      <th>Путь к себе</th>\n",
       "      <th>チェブラーシカ</th>\n",
       "    </tr>\n",
       "    <tr>\n",
       "      <th>userId</th>\n",
       "      <th></th>\n",
       "      <th></th>\n",
       "      <th></th>\n",
       "      <th></th>\n",
       "      <th></th>\n",
       "      <th></th>\n",
       "      <th></th>\n",
       "      <th></th>\n",
       "      <th></th>\n",
       "      <th></th>\n",
       "      <th></th>\n",
       "      <th></th>\n",
       "      <th></th>\n",
       "      <th></th>\n",
       "      <th></th>\n",
       "      <th></th>\n",
       "      <th></th>\n",
       "      <th></th>\n",
       "      <th></th>\n",
       "      <th></th>\n",
       "      <th></th>\n",
       "    </tr>\n",
       "  </thead>\n",
       "  <tbody>\n",
       "    <tr>\n",
       "      <td>4</td>\n",
       "      <td>NaN</td>\n",
       "      <td>NaN</td>\n",
       "      <td>NaN</td>\n",
       "      <td>NaN</td>\n",
       "      <td>NaN</td>\n",
       "      <td>NaN</td>\n",
       "      <td>NaN</td>\n",
       "      <td>NaN</td>\n",
       "      <td>NaN</td>\n",
       "      <td>NaN</td>\n",
       "      <td>...</td>\n",
       "      <td>NaN</td>\n",
       "      <td>NaN</td>\n",
       "      <td>NaN</td>\n",
       "      <td>NaN</td>\n",
       "      <td>NaN</td>\n",
       "      <td>NaN</td>\n",
       "      <td>NaN</td>\n",
       "      <td>NaN</td>\n",
       "      <td>NaN</td>\n",
       "      <td>NaN</td>\n",
       "    </tr>\n",
       "    <tr>\n",
       "      <td>56</td>\n",
       "      <td>NaN</td>\n",
       "      <td>NaN</td>\n",
       "      <td>NaN</td>\n",
       "      <td>NaN</td>\n",
       "      <td>NaN</td>\n",
       "      <td>NaN</td>\n",
       "      <td>NaN</td>\n",
       "      <td>NaN</td>\n",
       "      <td>NaN</td>\n",
       "      <td>NaN</td>\n",
       "      <td>...</td>\n",
       "      <td>NaN</td>\n",
       "      <td>NaN</td>\n",
       "      <td>NaN</td>\n",
       "      <td>NaN</td>\n",
       "      <td>NaN</td>\n",
       "      <td>NaN</td>\n",
       "      <td>NaN</td>\n",
       "      <td>NaN</td>\n",
       "      <td>NaN</td>\n",
       "      <td>NaN</td>\n",
       "    </tr>\n",
       "    <tr>\n",
       "      <td>73</td>\n",
       "      <td>NaN</td>\n",
       "      <td>NaN</td>\n",
       "      <td>NaN</td>\n",
       "      <td>NaN</td>\n",
       "      <td>NaN</td>\n",
       "      <td>NaN</td>\n",
       "      <td>NaN</td>\n",
       "      <td>NaN</td>\n",
       "      <td>NaN</td>\n",
       "      <td>NaN</td>\n",
       "      <td>...</td>\n",
       "      <td>NaN</td>\n",
       "      <td>NaN</td>\n",
       "      <td>NaN</td>\n",
       "      <td>NaN</td>\n",
       "      <td>NaN</td>\n",
       "      <td>NaN</td>\n",
       "      <td>NaN</td>\n",
       "      <td>NaN</td>\n",
       "      <td>NaN</td>\n",
       "      <td>NaN</td>\n",
       "    </tr>\n",
       "    <tr>\n",
       "      <td>79</td>\n",
       "      <td>NaN</td>\n",
       "      <td>NaN</td>\n",
       "      <td>NaN</td>\n",
       "      <td>NaN</td>\n",
       "      <td>NaN</td>\n",
       "      <td>NaN</td>\n",
       "      <td>NaN</td>\n",
       "      <td>NaN</td>\n",
       "      <td>NaN</td>\n",
       "      <td>NaN</td>\n",
       "      <td>...</td>\n",
       "      <td>NaN</td>\n",
       "      <td>NaN</td>\n",
       "      <td>NaN</td>\n",
       "      <td>NaN</td>\n",
       "      <td>NaN</td>\n",
       "      <td>NaN</td>\n",
       "      <td>NaN</td>\n",
       "      <td>NaN</td>\n",
       "      <td>NaN</td>\n",
       "      <td>NaN</td>\n",
       "    </tr>\n",
       "    <tr>\n",
       "      <td>81</td>\n",
       "      <td>NaN</td>\n",
       "      <td>NaN</td>\n",
       "      <td>NaN</td>\n",
       "      <td>NaN</td>\n",
       "      <td>NaN</td>\n",
       "      <td>NaN</td>\n",
       "      <td>NaN</td>\n",
       "      <td>NaN</td>\n",
       "      <td>NaN</td>\n",
       "      <td>NaN</td>\n",
       "      <td>...</td>\n",
       "      <td>NaN</td>\n",
       "      <td>NaN</td>\n",
       "      <td>NaN</td>\n",
       "      <td>NaN</td>\n",
       "      <td>NaN</td>\n",
       "      <td>NaN</td>\n",
       "      <td>NaN</td>\n",
       "      <td>NaN</td>\n",
       "      <td>NaN</td>\n",
       "      <td>NaN</td>\n",
       "    </tr>\n",
       "  </tbody>\n",
       "</table>\n",
       "<p>5 rows × 11865 columns</p>\n",
       "</div>"
      ],
      "text/plain": [
       "title   #Horror  #realityhigh  $9.99  '71  'R Xmas  'Round Midnight  \\\n",
       "userId                                                                \n",
       "4           NaN           NaN    NaN  NaN      NaN              NaN   \n",
       "56          NaN           NaN    NaN  NaN      NaN              NaN   \n",
       "73          NaN           NaN    NaN  NaN      NaN              NaN   \n",
       "79          NaN           NaN    NaN  NaN      NaN              NaN   \n",
       "81          NaN           NaN    NaN  NaN      NaN              NaN   \n",
       "\n",
       "title   'Salem's Lot  'Til There Was You  'burbs, The  'night Mother  ...  \\\n",
       "userId                                                                ...   \n",
       "4                NaN                 NaN          NaN            NaN  ...   \n",
       "56               NaN                 NaN          NaN            NaN  ...   \n",
       "73               NaN                 NaN          NaN            NaN  ...   \n",
       "79               NaN                 NaN          NaN            NaN  ...   \n",
       "81               NaN                 NaN          NaN            NaN  ...   \n",
       "\n",
       "title   a/k/a Tommy Chong  eXistenZ  iBoy  \\\n",
       "userId                                      \n",
       "4                     NaN       NaN   NaN   \n",
       "56                    NaN       NaN   NaN   \n",
       "73                    NaN       NaN   NaN   \n",
       "79                    NaN       NaN   NaN   \n",
       "81                    NaN       NaN   NaN   \n",
       "\n",
       "title   loudQUIETloud: A Film About the Pixies  xXx  \\\n",
       "userId                                                \n",
       "4                                          NaN  NaN   \n",
       "56                                         NaN  NaN   \n",
       "73                                         NaN  NaN   \n",
       "79                                         NaN  NaN   \n",
       "81                                         NaN  NaN   \n",
       "\n",
       "title   xXx: Return of Xander Cage  xXx: State of the Union  ¡Three Amigos!  \\\n",
       "userId                                                                        \n",
       "4                              NaN                      NaN             NaN   \n",
       "56                             NaN                      NaN             NaN   \n",
       "73                             NaN                      NaN             NaN   \n",
       "79                             NaN                      NaN             NaN   \n",
       "81                             NaN                      NaN             NaN   \n",
       "\n",
       "title   Путь к себе  チェブラーシカ  \n",
       "userId                        \n",
       "4               NaN      NaN  \n",
       "56              NaN      NaN  \n",
       "73              NaN      NaN  \n",
       "79              NaN      NaN  \n",
       "81              NaN      NaN  \n",
       "\n",
       "[5 rows x 11865 columns]"
      ]
     },
     "execution_count": 30,
     "metadata": {},
     "output_type": "execute_result"
    }
   ],
   "source": [
    "sampled_ratings.userId = pd.to_numeric(sampled_ratings.userId, downcast = \"integer\")\n",
    "sampled_ratings.movieId = pd.to_numeric(sampled_ratings.movieId, downcast = \"integer\")\n",
    "sampled_ratings.rating = pd.to_numeric(sampled_ratings.rating, downcast = \"float\")\n",
    "\n",
    "merge_matrix = sampled_ratings.pivot_table(index = \"userId\", columns = \"title\", values = \"rating\")\n",
    "merge_matrix.head()"
   ]
  },
  {
   "cell_type": "markdown",
   "metadata": {},
   "source": [
    "### find_intersections:\n",
    "Encontra os filmes em que os utilizadores votaram, sendo que estes também votaram num certo filme (col) (P(X|Y)).\n",
    "* *df* -> pivot_table\n",
    "* *col* -> Filme para comparar ratings"
   ]
  },
  {
   "cell_type": "code",
   "execution_count": 31,
   "metadata": {},
   "outputs": [],
   "source": [
    "def find_intersections(df, col):\n",
    "    return df.apply(lambda x: find_number_of_intersections(df, col, x.name))"
   ]
  },
  {
   "cell_type": "code",
   "execution_count": 32,
   "metadata": {},
   "outputs": [],
   "source": [
    "def find_number_of_intersections(df, col1, col2):\n",
    "    col1_unique = df[col1].dropna().reset_index().userId.unique()\n",
    "    col2_unique = df[col2].dropna().reset_index().userId.unique()\n",
    "    return np.intersect1d(col1_unique, col2_unique).size"
   ]
  },
  {
   "cell_type": "markdown",
   "metadata": {},
   "source": [
    "### most_relevant:\n",
    "Mostra os filmes em que os utilizadores deram ratings em comum com o *movie* e encontra os que têm mais do que certos utilizadores em comum (least_common_ratings)\n",
    "* *df* -> pivot_table\n",
    "* *movie* -> o filme escolhido para comparar\n",
    "* *least_common_ratings* -> threshold para o número de utilizadores que deram ratings aos dois filmes em comum"
   ]
  },
  {
   "cell_type": "code",
   "execution_count": 38,
   "metadata": {},
   "outputs": [],
   "source": [
    "def most_relevant(df, movie, least_common_ratings):\n",
    "    intersections = find_intersections(df, movie)\n",
    "    return intersections[intersections >= least_common_ratings]"
   ]
  },
  {
   "cell_type": "markdown",
   "metadata": {},
   "source": [
    "### movies_with_counts:\n",
    "Esta função encontra os filmes que possuem mais do que um certo numero de ratings (*ratings_threshold*)"
   ]
  },
  {
   "cell_type": "code",
   "execution_count": 90,
   "metadata": {},
   "outputs": [],
   "source": [
    "def movies_with_counts(df, cols, ratings_threshold):\n",
    "    ratings = df.groupby(\"title\")[\"rating\"].mean().reset_index()\n",
    "    ratings[\"rating_count\"] = df.groupby(\"title\")[\"rating\"].count().reset_index().rating\n",
    "    ratings = ratings.set_index(\"title\").loc[cols].reset_index()\n",
    "    return ratings[ratings.rating_count > ratings_threshold]"
   ]
  },
  {
   "cell_type": "code",
   "execution_count": 39,
   "metadata": {},
   "outputs": [
    {
     "data": {
      "text/plain": [
       "title\n",
       "Aladdin                                                                      3\n",
       "American Beauty                                                              3\n",
       "Beautiful Mind, A                                                            3\n",
       "Beautiful Thing                                                              3\n",
       "Breakfast Club, The                                                          3\n",
       "City Slickers                                                                3\n",
       "Dragonheart                                                                  3\n",
       "Father of the Bride Part II                                                  3\n",
       "Fight Club                                                                   3\n",
       "Gladiator                                                                    3\n",
       "Godfather, The                                                               3\n",
       "Independence Day (a.k.a. ID4)                                                3\n",
       "Mission: Impossible                                                          3\n",
       "Raiders of the Lost Ark (Indiana Jones and the Raiders of the Lost Ark)      4\n",
       "Rocky II                                                                     3\n",
       "Scarface                                                                     3\n",
       "Shawshank Redemption, The                                                  129\n",
       "Top Gun                                                                      3\n",
       "dtype: int64"
      ]
     },
     "execution_count": 39,
     "metadata": {},
     "output_type": "execute_result"
    }
   ],
   "source": [
    "relevant = most_relevant(merge_matrix, \"Shawshank Redemption, The\", 3)\n",
    "relevant"
   ]
  },
  {
   "cell_type": "markdown",
   "metadata": {},
   "source": [
    "### movie_correlations:\n",
    "Faz a correlação entre os ratings de um certo filme (*movie*) e os restantes filmes a comparar (*movies_to_compare*)"
   ]
  },
  {
   "cell_type": "code",
   "execution_count": 40,
   "metadata": {},
   "outputs": [],
   "source": [
    "def movie_correlations(df, movie, movies_to_compare):\n",
    "    movie_user_ratings = df[movie]\n",
    "    return df[movies_to_compare].corrwith(movie_user_ratings).sort_values(ascending = False)"
   ]
  },
  {
   "cell_type": "markdown",
   "metadata": {},
   "source": [
    "### get_correlations:\n",
    "Função que junta todas as outras por conveniência. Retorna uma série com as correlações mais altas, de modo a encontrar uma recomendação.\n",
    "* *sample* -> amostra dos dataset dos ratings\n",
    "* *pivot* -> a pivot_table necessária à comparação dos ratings\n",
    "* *movie* -> o filme para o qual se quer encontrar uma recomendação\n",
    "* *n_movies_to_compare* -> quantidade de utilizadores que têm ratings em comum com o *movie*, para um filme ser considerado relevante\n",
    "* *ratings_threshold* -> número ratings que um filme de ter para ser considerado relevante\n",
    "* *corr_threshold* -> correlação mínima para um filme ser recomendado"
   ]
  },
  {
   "cell_type": "code",
   "execution_count": 97,
   "metadata": {},
   "outputs": [],
   "source": [
    "def get_correlations(sample, pivot, movie, n_movies_to_compare = 3, ratings_threshold = 50, corr_threshold = 0.5):\n",
    "    relevant = most_relevant(pivot, movie, n_movies_to_compare)\n",
    "    rel = movies_with_counts(sample, relevant.index.values.tolist(), ratings_threshold)\n",
    "    similar_to_movie = movie_correlations(pivot, movie, rel.title)\n",
    "    similar_to_movie.drop(movie, inplace = True)\n",
    "    return similar_to_movie[similar_to_movie > corr_threshold]"
   ]
  },
  {
   "cell_type": "code",
   "execution_count": 103,
   "metadata": {},
   "outputs": [
    {
     "data": {
      "text/plain": [
       "title\n",
       "Austin Powers: The Spy Who Shagged Me    0.981981\n",
       "Equilibrium                              0.576557\n",
       "Independence Day (a.k.a. ID4)            0.500000\n",
       "dtype: float64"
      ]
     },
     "execution_count": 103,
     "metadata": {},
     "output_type": "execute_result"
    }
   ],
   "source": [
    "corrs = get_correlations(sampled_ratings, merge_matrix, \"Shrek\", 3, 10, 0.5)\n",
    "corrs"
   ]
  }
 ],
 "metadata": {
  "kernelspec": {
   "display_name": "Python 3",
   "language": "python",
   "name": "python3"
  },
  "language_info": {
   "codemirror_mode": {
    "name": "ipython",
    "version": 3
   },
   "file_extension": ".py",
   "mimetype": "text/x-python",
   "name": "python",
   "nbconvert_exporter": "python",
   "pygments_lexer": "ipython3",
   "version": "3.7.4"
  }
 },
 "nbformat": 4,
 "nbformat_minor": 4
}
